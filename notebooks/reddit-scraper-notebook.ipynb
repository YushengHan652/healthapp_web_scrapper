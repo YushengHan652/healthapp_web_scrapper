{
 "cells": [
  {
   "cell_type": "markdown",
   "metadata": {},
   "source": [
    "# Reddit r/diabetes Subreddit Scraper\n",
    "\n",
    "This notebook demonstrates how to use PRAW (Python Reddit API Wrapper) to scrape data from the r/diabetes subreddit. You'll be able to collect posts, comments, and other information for analysis."
   ]
  },
  {
   "cell_type": "markdown",
   "metadata": {},
   "source": [
    "## Setup and Authentication\n",
    "\n",
    "Before using PRAW, you need to set up a Reddit API application:\n",
    "\n",
    "1. Go to https://www.reddit.com/prefs/apps\n",
    "2. Click \"create app\" or \"create another app\" at the bottom\n",
    "3. Fill in the details:\n",
    "   - Name: YourAppName\n",
    "   - Select \"script\"\n",
    "   - Description: A brief description\n",
    "   - About URL: (can be left blank for personal use)\n",
    "   - Redirect URI: http://localhost:8080\n",
    "4. Click \"create app\"\n",
    "5. Note your client ID (the string under the app name) and client secret\n",
    "\n",
    "You'll use these credentials in the code below."
   ]
  },
  {
   "cell_type": "code",
   "execution_count": 1,
   "metadata": {},
   "outputs": [
    {
     "name": "stdout",
     "output_type": "stream",
     "text": [
      "Collecting praw\n",
      "  Using cached praw-7.8.1-py3-none-any.whl.metadata (9.4 kB)\n",
      "Requirement already satisfied: pandas in /Users/seanmacbook/Projects/google_play_store_review_crawl/.venv/lib/python3.11/site-packages (2.2.3)\n",
      "Requirement already satisfied: matplotlib in /Users/seanmacbook/Projects/google_play_store_review_crawl/.venv/lib/python3.11/site-packages (3.10.1)\n",
      "Requirement already satisfied: wordcloud in /Users/seanmacbook/Projects/google_play_store_review_crawl/.venv/lib/python3.11/site-packages (1.9.4)\n",
      "Requirement already satisfied: nltk in /Users/seanmacbook/Projects/google_play_store_review_crawl/.venv/lib/python3.11/site-packages (3.9.1)\n",
      "Collecting prawcore<3,>=2.4 (from praw)\n",
      "  Using cached prawcore-2.4.0-py3-none-any.whl.metadata (5.0 kB)\n",
      "Collecting update_checker>=0.18 (from praw)\n",
      "  Using cached update_checker-0.18.0-py3-none-any.whl.metadata (2.3 kB)\n",
      "Collecting websocket-client>=0.54.0 (from praw)\n",
      "  Using cached websocket_client-1.8.0-py3-none-any.whl.metadata (8.0 kB)\n",
      "Requirement already satisfied: numpy>=1.23.2 in /Users/seanmacbook/Projects/google_play_store_review_crawl/.venv/lib/python3.11/site-packages (from pandas) (2.2.4)\n",
      "Requirement already satisfied: python-dateutil>=2.8.2 in /Users/seanmacbook/Projects/google_play_store_review_crawl/.venv/lib/python3.11/site-packages (from pandas) (2.9.0.post0)\n",
      "Requirement already satisfied: pytz>=2020.1 in /Users/seanmacbook/Projects/google_play_store_review_crawl/.venv/lib/python3.11/site-packages (from pandas) (2025.2)\n",
      "Requirement already satisfied: tzdata>=2022.7 in /Users/seanmacbook/Projects/google_play_store_review_crawl/.venv/lib/python3.11/site-packages (from pandas) (2025.2)\n",
      "Requirement already satisfied: contourpy>=1.0.1 in /Users/seanmacbook/Projects/google_play_store_review_crawl/.venv/lib/python3.11/site-packages (from matplotlib) (1.3.1)\n",
      "Requirement already satisfied: cycler>=0.10 in /Users/seanmacbook/Projects/google_play_store_review_crawl/.venv/lib/python3.11/site-packages (from matplotlib) (0.12.1)\n",
      "Requirement already satisfied: fonttools>=4.22.0 in /Users/seanmacbook/Projects/google_play_store_review_crawl/.venv/lib/python3.11/site-packages (from matplotlib) (4.57.0)\n",
      "Requirement already satisfied: kiwisolver>=1.3.1 in /Users/seanmacbook/Projects/google_play_store_review_crawl/.venv/lib/python3.11/site-packages (from matplotlib) (1.4.8)\n",
      "Requirement already satisfied: packaging>=20.0 in /Users/seanmacbook/Projects/google_play_store_review_crawl/.venv/lib/python3.11/site-packages (from matplotlib) (24.2)\n",
      "Requirement already satisfied: pillow>=8 in /Users/seanmacbook/Projects/google_play_store_review_crawl/.venv/lib/python3.11/site-packages (from matplotlib) (11.1.0)\n",
      "Requirement already satisfied: pyparsing>=2.3.1 in /Users/seanmacbook/Projects/google_play_store_review_crawl/.venv/lib/python3.11/site-packages (from matplotlib) (3.2.3)\n",
      "Requirement already satisfied: click in /Users/seanmacbook/Projects/google_play_store_review_crawl/.venv/lib/python3.11/site-packages (from nltk) (8.1.8)\n",
      "Requirement already satisfied: joblib in /Users/seanmacbook/Projects/google_play_store_review_crawl/.venv/lib/python3.11/site-packages (from nltk) (1.4.2)\n",
      "Requirement already satisfied: regex>=2021.8.3 in /Users/seanmacbook/Projects/google_play_store_review_crawl/.venv/lib/python3.11/site-packages (from nltk) (2024.11.6)\n",
      "Requirement already satisfied: tqdm in /Users/seanmacbook/Projects/google_play_store_review_crawl/.venv/lib/python3.11/site-packages (from nltk) (4.67.1)\n",
      "Requirement already satisfied: requests<3.0,>=2.6.0 in /Users/seanmacbook/Projects/google_play_store_review_crawl/.venv/lib/python3.11/site-packages (from prawcore<3,>=2.4->praw) (2.23.0)\n",
      "Requirement already satisfied: six>=1.5 in /Users/seanmacbook/Projects/google_play_store_review_crawl/.venv/lib/python3.11/site-packages (from python-dateutil>=2.8.2->pandas) (1.17.0)\n",
      "Requirement already satisfied: chardet<4,>=3.0.2 in /Users/seanmacbook/Projects/google_play_store_review_crawl/.venv/lib/python3.11/site-packages (from requests<3.0,>=2.6.0->prawcore<3,>=2.4->praw) (3.0.4)\n",
      "Requirement already satisfied: idna<3,>=2.5 in /Users/seanmacbook/Projects/google_play_store_review_crawl/.venv/lib/python3.11/site-packages (from requests<3.0,>=2.6.0->prawcore<3,>=2.4->praw) (2.10)\n",
      "Requirement already satisfied: urllib3!=1.25.0,!=1.25.1,<1.26,>=1.21.1 in /Users/seanmacbook/Projects/google_play_store_review_crawl/.venv/lib/python3.11/site-packages (from requests<3.0,>=2.6.0->prawcore<3,>=2.4->praw) (1.25.11)\n",
      "Requirement already satisfied: certifi>=2017.4.17 in /Users/seanmacbook/Projects/google_play_store_review_crawl/.venv/lib/python3.11/site-packages (from requests<3.0,>=2.6.0->prawcore<3,>=2.4->praw) (2025.1.31)\n",
      "Using cached praw-7.8.1-py3-none-any.whl (189 kB)\n",
      "Using cached prawcore-2.4.0-py3-none-any.whl (17 kB)\n",
      "Using cached update_checker-0.18.0-py3-none-any.whl (7.0 kB)\n",
      "Using cached websocket_client-1.8.0-py3-none-any.whl (58 kB)\n",
      "Installing collected packages: websocket-client, update_checker, prawcore, praw\n",
      "Successfully installed praw-7.8.1 prawcore-2.4.0 update_checker-0.18.0 websocket-client-1.8.0\n"
     ]
    }
   ],
   "source": [
    "# Install required packages\n",
    "!pip install praw pandas matplotlib wordcloud nltk"
   ]
  },
  {
   "cell_type": "code",
   "execution_count": 2,
   "metadata": {},
   "outputs": [
    {
     "name": "stderr",
     "output_type": "stream",
     "text": [
      "[nltk_data] Downloading package stopwords to\n",
      "[nltk_data]     /Users/seanmacbook/nltk_data...\n",
      "[nltk_data]   Package stopwords is already up-to-date!\n",
      "[nltk_data] Downloading package punkt to\n",
      "[nltk_data]     /Users/seanmacbook/nltk_data...\n",
      "[nltk_data]   Package punkt is already up-to-date!\n"
     ]
    },
    {
     "data": {
      "text/plain": [
       "True"
      ]
     },
     "execution_count": 2,
     "metadata": {},
     "output_type": "execute_result"
    }
   ],
   "source": [
    "# Import necessary libraries\n",
    "import praw\n",
    "import pandas as pd\n",
    "import datetime\n",
    "import time\n",
    "import matplotlib.pyplot as plt\n",
    "import re\n",
    "from collections import Counter\n",
    "import nltk\n",
    "from nltk.corpus import stopwords\n",
    "from wordcloud import WordCloud\n",
    "\n",
    "# Download NLTK resources\n",
    "nltk.download('stopwords')\n",
    "nltk.download('punkt')"
   ]
  },
  {
   "cell_type": "markdown",
   "metadata": {},
   "source": [
    "## Connect to Reddit API\n",
    "\n",
    "Replace the placeholders with your actual Reddit API credentials."
   ]
  },
  {
   "cell_type": "code",
   "execution_count": null,
   "metadata": {},
   "outputs": [
    {
     "name": "stdout",
     "output_type": "stream",
     "text": [
      "Successfully connected to r/diabetes\n",
      "Subscribers: 140584\n",
      "Description: For humans living with diabetes: discussion, issues, and news....\n"
     ]
    }
   ],
   "source": [
    "# Initialize the Reddit API client\n",
    "import os\n",
    "from dotenv import load_dotenv\n",
    "\n",
    "# Load environment variables\n",
    "load_dotenv()\n",
    "\n",
    "reddit = praw.Reddit(\n",
    "    client_id= os.getenv('CLIENT_ID'),        # Replace with your client ID\n",
    "    client_secret= os.getenv('CLIENT_SECRET'),   # Replace with your client secret\n",
    "    user_agent= os.getenv('USER_AGNET'),   # Replace with your username\n",
    "    #username='YOUR_USERNAME',           # Replace with your Reddit username (optional for read-only)\n",
    "    #password='YOUR_PASSWORD'            # Replace with your Reddit password (optional for read-only)\n",
    ")\n",
    "\n",
    "# For read-only access, you can use this simplified version:\n",
    "# reddit = praw.Reddit(\n",
    "#     client_id='YOUR_CLIENT_ID',\n",
    "#     client_secret='YOUR_CLIENT_SECRET',\n",
    "#     user_agent='script:diabetes_data_scraper:v1.0 (by /u/YOUR_USERNAME)'\n",
    "# )\n",
    "\n",
    "# Access the diabetes subreddit\n",
    "subreddit = reddit.subreddit('diabetes')\n",
    "\n",
    "print(f\"Successfully connected to r/{subreddit.display_name}\")\n",
    "print(f\"Subscribers: {subreddit.subscribers}\")\n",
    "print(f\"Description: {subreddit.public_description[:100]}...\")"
   ]
  },
  {
   "cell_type": "markdown",
   "metadata": {},
   "source": [
    "## Scrape Recent Posts\n",
    "\n",
    "Let's collect the most recent posts from the subreddit."
   ]
  },
  {
   "cell_type": "code",
   "execution_count": 4,
   "metadata": {},
   "outputs": [
    {
     "name": "stdout",
     "output_type": "stream",
     "text": [
      "Scraped 100 recent posts\n"
     ]
    },
    {
     "data": {
      "application/vnd.microsoft.datawrangler.viewer.v0+json": {
       "columns": [
        {
         "name": "index",
         "rawType": "int64",
         "type": "integer"
        },
        {
         "name": "id",
         "rawType": "object",
         "type": "string"
        },
        {
         "name": "title",
         "rawType": "object",
         "type": "string"
        },
        {
         "name": "score",
         "rawType": "int64",
         "type": "integer"
        },
        {
         "name": "upvote_ratio",
         "rawType": "float64",
         "type": "float"
        },
        {
         "name": "created_utc",
         "rawType": "datetime64[ns]",
         "type": "datetime"
        },
        {
         "name": "author",
         "rawType": "object",
         "type": "string"
        },
        {
         "name": "num_comments",
         "rawType": "int64",
         "type": "integer"
        },
        {
         "name": "permalink",
         "rawType": "object",
         "type": "string"
        },
        {
         "name": "url",
         "rawType": "object",
         "type": "string"
        },
        {
         "name": "is_self",
         "rawType": "bool",
         "type": "boolean"
        },
        {
         "name": "selftext",
         "rawType": "object",
         "type": "string"
        },
        {
         "name": "link_flair_text",
         "rawType": "object",
         "type": "string"
        },
        {
         "name": "over_18",
         "rawType": "bool",
         "type": "boolean"
        }
       ],
       "conversionMethod": "pd.DataFrame",
       "ref": "a3823582-6a32-4916-9697-f5edd7059f92",
       "rows": [
        [
         "0",
         "1jttyns",
         "Early Pregnancy as T1 Diabetic",
         "2",
         "1.0",
         "2025-04-07 15:29:16",
         "lizc415",
         "0",
         "/r/diabetes/comments/1jttyns/early_pregnancy_as_t1_diabetic/",
         "https://www.reddit.com/r/diabetes/comments/1jttyns/early_pregnancy_as_t1_diabetic/",
         "True",
         "Just got our first beta hcG results at 9 days after a frozen embryo transfer, and it is only 34. \n\nRead a couple studies and it looks like diabetic women **usually** have lower hcG levels than non diabetics...is this something anyone can validate? Has anyone else here experienced this and then had successful pregnancy? \n\nThanks",
         "Type 1.5/LADA",
         "False"
        ],
        [
         "1",
         "1jttef5",
         "Preferred BGM?",
         "1",
         "1.0",
         "2025-04-07 15:06:35",
         "Expired_Mayo63",
         "2",
         "/r/diabetes/comments/1jttef5/preferred_bgm/",
         "https://www.reddit.com/r/diabetes/comments/1jttef5/preferred_bgm/",
         "True",
         "Hi everyone, I’ve been a diabetic for 2 years now and I use a CGM but I always have a BGM on me in case of emergencies (one time I had my Cgm ripped off while out so I don’t leave the house without one now) and I was just curious what everyone else used? I use the Abott freestyle precision neo. I felt like the device and strips were reasonably priced and when pretty accurate. I care more about accuracy than price but also don’t want to spend a crazy amount on strips that realistically I won’t use them all because of my Dexcom. ",
         "Type 1",
         "False"
        ],
        [
         "2",
         "1jtt7we",
         "G7 Problems around 9th day.",
         "1",
         "1.0",
         "2025-04-07 14:59:43",
         "Mr_Bill_S",
         "2",
         "/r/diabetes/comments/1jtt7we/g7_problems_around_9th_day/",
         "https://www.reddit.com/r/diabetes/comments/1jtt7we/g7_problems_around_9th_day/",
         "True",
         "I’ve been on the G7 for about two years. So I get my sensors from Caremark (CVS mail order) so a 3 month supply. The last couple of orders I get problems with a couple of meters. Somewhere around the 9th day or so my readings seem to drop very low in like the 50’s or I get sensor issues. I’ve checked my sugar when I get those notifications with a accu-check guide me meter and I’m constantly higher like in the 90’s or so. Is this widespread? Can anything be done? I don’t usually calibrate the sensor because they’ve been good starting out. ",
         "Type 2",
         "False"
        ],
        [
         "3",
         "1jtsqcq",
         "Any insulin controlled runners here?",
         "1",
         "1.0",
         "2025-04-07 14:39:42",
         "Severe_Ad428",
         "3",
         "/r/diabetes/comments/1jtsqcq/any_insulin_controlled_runners_here/",
         "https://www.reddit.com/r/diabetes/comments/1jtsqcq/any_insulin_controlled_runners_here/",
         "True",
         "Hey guys,  I'm an insulin controlled T2, and getting back in shape.  I'm starting to run again, but looking for suggestions for something to carry supplies with me during the run.  I've got a pocket on my compression shorts that holds my phone, which connects to my CGM.  However, if I hit a crazy low while I'm out, I have nothing with me to help counteract it.  Wondering if I should be carrying regular supplies with me, and if so, if there are any affordable recommendations for what type of gear to carry it in.\n\n  \nTIA!",
         "Supplies",
         "False"
        ],
        [
         "4",
         "1jtr5n0",
         "Recommendations for protein powder",
         "2",
         "0.75",
         "2025-04-07 13:36:07",
         "RandomThyme",
         "1",
         "/r/diabetes/comments/1jtr5n0/recommendations_for_protein_powder/",
         "https://www.reddit.com/r/diabetes/comments/1jtr5n0/recommendations_for_protein_powder/",
         "True",
         "I'm looking for your protein powder recommendations. I will primarily be mixing it into Greek yogurt. Looking for primarily vanilla or unflavored but will take any recommendations. Bonus points for affordability.\n",
         "Discussion",
         "False"
        ]
       ],
       "shape": {
        "columns": 13,
        "rows": 5
       }
      },
      "text/html": [
       "<div>\n",
       "<style scoped>\n",
       "    .dataframe tbody tr th:only-of-type {\n",
       "        vertical-align: middle;\n",
       "    }\n",
       "\n",
       "    .dataframe tbody tr th {\n",
       "        vertical-align: top;\n",
       "    }\n",
       "\n",
       "    .dataframe thead th {\n",
       "        text-align: right;\n",
       "    }\n",
       "</style>\n",
       "<table border=\"1\" class=\"dataframe\">\n",
       "  <thead>\n",
       "    <tr style=\"text-align: right;\">\n",
       "      <th></th>\n",
       "      <th>id</th>\n",
       "      <th>title</th>\n",
       "      <th>score</th>\n",
       "      <th>upvote_ratio</th>\n",
       "      <th>created_utc</th>\n",
       "      <th>author</th>\n",
       "      <th>num_comments</th>\n",
       "      <th>permalink</th>\n",
       "      <th>url</th>\n",
       "      <th>is_self</th>\n",
       "      <th>selftext</th>\n",
       "      <th>link_flair_text</th>\n",
       "      <th>over_18</th>\n",
       "    </tr>\n",
       "  </thead>\n",
       "  <tbody>\n",
       "    <tr>\n",
       "      <th>0</th>\n",
       "      <td>1jttyns</td>\n",
       "      <td>Early Pregnancy as T1 Diabetic</td>\n",
       "      <td>2</td>\n",
       "      <td>1.00</td>\n",
       "      <td>2025-04-07 15:29:16</td>\n",
       "      <td>lizc415</td>\n",
       "      <td>0</td>\n",
       "      <td>/r/diabetes/comments/1jttyns/early_pregnancy_a...</td>\n",
       "      <td>https://www.reddit.com/r/diabetes/comments/1jt...</td>\n",
       "      <td>True</td>\n",
       "      <td>Just got our first beta hcG results at 9 days ...</td>\n",
       "      <td>Type 1.5/LADA</td>\n",
       "      <td>False</td>\n",
       "    </tr>\n",
       "    <tr>\n",
       "      <th>1</th>\n",
       "      <td>1jttef5</td>\n",
       "      <td>Preferred BGM?</td>\n",
       "      <td>1</td>\n",
       "      <td>1.00</td>\n",
       "      <td>2025-04-07 15:06:35</td>\n",
       "      <td>Expired_Mayo63</td>\n",
       "      <td>2</td>\n",
       "      <td>/r/diabetes/comments/1jttef5/preferred_bgm/</td>\n",
       "      <td>https://www.reddit.com/r/diabetes/comments/1jt...</td>\n",
       "      <td>True</td>\n",
       "      <td>Hi everyone, I’ve been a diabetic for 2 years ...</td>\n",
       "      <td>Type 1</td>\n",
       "      <td>False</td>\n",
       "    </tr>\n",
       "    <tr>\n",
       "      <th>2</th>\n",
       "      <td>1jtt7we</td>\n",
       "      <td>G7 Problems around 9th day.</td>\n",
       "      <td>1</td>\n",
       "      <td>1.00</td>\n",
       "      <td>2025-04-07 14:59:43</td>\n",
       "      <td>Mr_Bill_S</td>\n",
       "      <td>2</td>\n",
       "      <td>/r/diabetes/comments/1jtt7we/g7_problems_aroun...</td>\n",
       "      <td>https://www.reddit.com/r/diabetes/comments/1jt...</td>\n",
       "      <td>True</td>\n",
       "      <td>I’ve been on the G7 for about two years. So I ...</td>\n",
       "      <td>Type 2</td>\n",
       "      <td>False</td>\n",
       "    </tr>\n",
       "    <tr>\n",
       "      <th>3</th>\n",
       "      <td>1jtsqcq</td>\n",
       "      <td>Any insulin controlled runners here?</td>\n",
       "      <td>1</td>\n",
       "      <td>1.00</td>\n",
       "      <td>2025-04-07 14:39:42</td>\n",
       "      <td>Severe_Ad428</td>\n",
       "      <td>3</td>\n",
       "      <td>/r/diabetes/comments/1jtsqcq/any_insulin_contr...</td>\n",
       "      <td>https://www.reddit.com/r/diabetes/comments/1jt...</td>\n",
       "      <td>True</td>\n",
       "      <td>Hey guys,  I'm an insulin controlled T2, and g...</td>\n",
       "      <td>Supplies</td>\n",
       "      <td>False</td>\n",
       "    </tr>\n",
       "    <tr>\n",
       "      <th>4</th>\n",
       "      <td>1jtr5n0</td>\n",
       "      <td>Recommendations for protein powder</td>\n",
       "      <td>2</td>\n",
       "      <td>0.75</td>\n",
       "      <td>2025-04-07 13:36:07</td>\n",
       "      <td>RandomThyme</td>\n",
       "      <td>1</td>\n",
       "      <td>/r/diabetes/comments/1jtr5n0/recommendations_f...</td>\n",
       "      <td>https://www.reddit.com/r/diabetes/comments/1jt...</td>\n",
       "      <td>True</td>\n",
       "      <td>I'm looking for your protein powder recommenda...</td>\n",
       "      <td>Discussion</td>\n",
       "      <td>False</td>\n",
       "    </tr>\n",
       "  </tbody>\n",
       "</table>\n",
       "</div>"
      ],
      "text/plain": [
       "        id                                 title  score  upvote_ratio  \\\n",
       "0  1jttyns        Early Pregnancy as T1 Diabetic      2          1.00   \n",
       "1  1jttef5                        Preferred BGM?      1          1.00   \n",
       "2  1jtt7we           G7 Problems around 9th day.      1          1.00   \n",
       "3  1jtsqcq  Any insulin controlled runners here?      1          1.00   \n",
       "4  1jtr5n0    Recommendations for protein powder      2          0.75   \n",
       "\n",
       "          created_utc          author  num_comments  \\\n",
       "0 2025-04-07 15:29:16         lizc415             0   \n",
       "1 2025-04-07 15:06:35  Expired_Mayo63             2   \n",
       "2 2025-04-07 14:59:43       Mr_Bill_S             2   \n",
       "3 2025-04-07 14:39:42    Severe_Ad428             3   \n",
       "4 2025-04-07 13:36:07     RandomThyme             1   \n",
       "\n",
       "                                           permalink  \\\n",
       "0  /r/diabetes/comments/1jttyns/early_pregnancy_a...   \n",
       "1        /r/diabetes/comments/1jttef5/preferred_bgm/   \n",
       "2  /r/diabetes/comments/1jtt7we/g7_problems_aroun...   \n",
       "3  /r/diabetes/comments/1jtsqcq/any_insulin_contr...   \n",
       "4  /r/diabetes/comments/1jtr5n0/recommendations_f...   \n",
       "\n",
       "                                                 url  is_self  \\\n",
       "0  https://www.reddit.com/r/diabetes/comments/1jt...     True   \n",
       "1  https://www.reddit.com/r/diabetes/comments/1jt...     True   \n",
       "2  https://www.reddit.com/r/diabetes/comments/1jt...     True   \n",
       "3  https://www.reddit.com/r/diabetes/comments/1jt...     True   \n",
       "4  https://www.reddit.com/r/diabetes/comments/1jt...     True   \n",
       "\n",
       "                                            selftext link_flair_text  over_18  \n",
       "0  Just got our first beta hcG results at 9 days ...   Type 1.5/LADA    False  \n",
       "1  Hi everyone, I’ve been a diabetic for 2 years ...          Type 1    False  \n",
       "2  I’ve been on the G7 for about two years. So I ...          Type 2    False  \n",
       "3  Hey guys,  I'm an insulin controlled T2, and g...        Supplies    False  \n",
       "4  I'm looking for your protein powder recommenda...      Discussion    False  "
      ]
     },
     "execution_count": 4,
     "metadata": {},
     "output_type": "execute_result"
    }
   ],
   "source": [
    "def scrape_posts(listing, limit=100):\n",
    "    \"\"\"Scrape posts from a subreddit listing (hot, new, top, etc.)\"\"\"\n",
    "    posts_data = []\n",
    "    \n",
    "    for post in listing(limit=limit):\n",
    "        # Extract post data\n",
    "        post_data = {\n",
    "            'id': post.id,\n",
    "            'title': post.title,\n",
    "            'score': post.score,\n",
    "            'upvote_ratio': post.upvote_ratio,\n",
    "            'created_utc': datetime.datetime.fromtimestamp(post.created_utc),\n",
    "            'author': str(post.author),  # Convert to string in case author is deleted\n",
    "            'num_comments': post.num_comments,\n",
    "            'permalink': post.permalink,\n",
    "            'url': post.url,\n",
    "            'is_self': post.is_self,\n",
    "            'selftext': post.selftext if post.is_self else '',\n",
    "            'link_flair_text': post.link_flair_text,\n",
    "            'over_18': post.over_18\n",
    "        }\n",
    "        posts_data.append(post_data)\n",
    "        \n",
    "    return pd.DataFrame(posts_data)\n",
    "\n",
    "# Scrape recent posts\n",
    "recent_posts_df = scrape_posts(subreddit.new)\n",
    "print(f\"Scraped {len(recent_posts_df)} recent posts\")\n",
    "recent_posts_df.head()"
   ]
  },
  {
   "cell_type": "markdown",
   "metadata": {},
   "source": [
    "## Scrape Hot Posts"
   ]
  },
  {
   "cell_type": "code",
   "execution_count": 5,
   "metadata": {},
   "outputs": [
    {
     "name": "stdout",
     "output_type": "stream",
     "text": [
      "Scraped 100 hot posts\n"
     ]
    },
    {
     "data": {
      "application/vnd.microsoft.datawrangler.viewer.v0+json": {
       "columns": [
        {
         "name": "index",
         "rawType": "int64",
         "type": "integer"
        },
        {
         "name": "id",
         "rawType": "object",
         "type": "string"
        },
        {
         "name": "title",
         "rawType": "object",
         "type": "string"
        },
        {
         "name": "score",
         "rawType": "int64",
         "type": "integer"
        },
        {
         "name": "upvote_ratio",
         "rawType": "float64",
         "type": "float"
        },
        {
         "name": "created_utc",
         "rawType": "datetime64[ns]",
         "type": "datetime"
        },
        {
         "name": "author",
         "rawType": "object",
         "type": "string"
        },
        {
         "name": "num_comments",
         "rawType": "int64",
         "type": "integer"
        },
        {
         "name": "permalink",
         "rawType": "object",
         "type": "string"
        },
        {
         "name": "url",
         "rawType": "object",
         "type": "string"
        },
        {
         "name": "is_self",
         "rawType": "bool",
         "type": "boolean"
        },
        {
         "name": "selftext",
         "rawType": "object",
         "type": "string"
        },
        {
         "name": "link_flair_text",
         "rawType": "object",
         "type": "string"
        },
        {
         "name": "over_18",
         "rawType": "bool",
         "type": "boolean"
        }
       ],
       "conversionMethod": "pd.DataFrame",
       "ref": "42f8a286-923b-4f4e-99c4-2f618c8fce05",
       "rows": [
        [
         "0",
         "1cvnqym",
         "Weekly r/diabetes vent thread",
         "30",
         "0.93",
         "2024-05-19 09:00:31",
         "AutoModerator",
         "167",
         "/r/diabetes/comments/1cvnqym/weekly_rdiabetes_vent_thread/",
         "https://www.reddit.com/r/diabetes/comments/1cvnqym/weekly_rdiabetes_vent_thread/",
         "True",
         "Tell us the crap you're dealing with this week. Did someone suggest cinnamon again? What about that relative who tried to pray the beetus away?\n    \nAs always, please keep in mind [our rules](https://www.reddit.com/r/diabetes/about/rules)",
         "Discussion",
         "False"
        ],
        [
         "1",
         "1jnbw9f",
         "Weekly r/diabetes vent thread",
         "11",
         "0.99",
         "2025-03-30 09:00:49",
         "AutoModerator",
         "28",
         "/r/diabetes/comments/1jnbw9f/weekly_rdiabetes_vent_thread/",
         "https://www.reddit.com/r/diabetes/comments/1jnbw9f/weekly_rdiabetes_vent_thread/",
         "True",
         "Tell us the crap you're dealing with this week. Did someone suggest cinnamon again? What about that relative who tried to pray the beetus away?\n    \nAs always, please keep in mind [our rules](https://www.reddit.com/r/diabetes/about/rules)",
         "Discussion",
         "False"
        ],
        [
         "2",
         "1jt874e",
         "My CGM line drew a happy face :D",
         "267",
         "1.0",
         "2025-04-06 20:03:15",
         "supermouse35",
         "11",
         "/r/diabetes/comments/1jt874e/my_cgm_line_drew_a_happy_face_d/",
         "https://i.redd.it/5j4je9he0bte1.jpeg",
         "False",
         "",
         "Type 2",
         "False"
        ],
        [
         "3",
         "1jtniqy",
         "So close to 24 hrs in range!",
         "11",
         "1.0",
         "2025-04-07 11:07:22",
         "Xzact112",
         "0",
         "/r/diabetes/comments/1jtniqy/so_close_to_24_hrs_in_range/",
         "https://www.reddit.com/gallery/1jtniqy",
         "False",
         "",
         "Type 1",
         "False"
        ],
        [
         "4",
         "1jt99dy",
         "Diabetes has an emotional impact",
         "61",
         "0.99",
         "2025-04-06 20:59:12",
         "ConsequenceLimp9717",
         "50",
         "/r/diabetes/comments/1jt99dy/diabetes_has_an_emotional_impact/",
         "https://www.reddit.com/r/diabetes/comments/1jt99dy/diabetes_has_an_emotional_impact/",
         "True",
         "Especially early on, it doesn't matter the type ",
         "Discussion",
         "False"
        ]
       ],
       "shape": {
        "columns": 13,
        "rows": 5
       }
      },
      "text/html": [
       "<div>\n",
       "<style scoped>\n",
       "    .dataframe tbody tr th:only-of-type {\n",
       "        vertical-align: middle;\n",
       "    }\n",
       "\n",
       "    .dataframe tbody tr th {\n",
       "        vertical-align: top;\n",
       "    }\n",
       "\n",
       "    .dataframe thead th {\n",
       "        text-align: right;\n",
       "    }\n",
       "</style>\n",
       "<table border=\"1\" class=\"dataframe\">\n",
       "  <thead>\n",
       "    <tr style=\"text-align: right;\">\n",
       "      <th></th>\n",
       "      <th>id</th>\n",
       "      <th>title</th>\n",
       "      <th>score</th>\n",
       "      <th>upvote_ratio</th>\n",
       "      <th>created_utc</th>\n",
       "      <th>author</th>\n",
       "      <th>num_comments</th>\n",
       "      <th>permalink</th>\n",
       "      <th>url</th>\n",
       "      <th>is_self</th>\n",
       "      <th>selftext</th>\n",
       "      <th>link_flair_text</th>\n",
       "      <th>over_18</th>\n",
       "    </tr>\n",
       "  </thead>\n",
       "  <tbody>\n",
       "    <tr>\n",
       "      <th>0</th>\n",
       "      <td>1cvnqym</td>\n",
       "      <td>Weekly r/diabetes vent thread</td>\n",
       "      <td>30</td>\n",
       "      <td>0.93</td>\n",
       "      <td>2024-05-19 09:00:31</td>\n",
       "      <td>AutoModerator</td>\n",
       "      <td>167</td>\n",
       "      <td>/r/diabetes/comments/1cvnqym/weekly_rdiabetes_...</td>\n",
       "      <td>https://www.reddit.com/r/diabetes/comments/1cv...</td>\n",
       "      <td>True</td>\n",
       "      <td>Tell us the crap you're dealing with this week...</td>\n",
       "      <td>Discussion</td>\n",
       "      <td>False</td>\n",
       "    </tr>\n",
       "    <tr>\n",
       "      <th>1</th>\n",
       "      <td>1jnbw9f</td>\n",
       "      <td>Weekly r/diabetes vent thread</td>\n",
       "      <td>11</td>\n",
       "      <td>0.99</td>\n",
       "      <td>2025-03-30 09:00:49</td>\n",
       "      <td>AutoModerator</td>\n",
       "      <td>28</td>\n",
       "      <td>/r/diabetes/comments/1jnbw9f/weekly_rdiabetes_...</td>\n",
       "      <td>https://www.reddit.com/r/diabetes/comments/1jn...</td>\n",
       "      <td>True</td>\n",
       "      <td>Tell us the crap you're dealing with this week...</td>\n",
       "      <td>Discussion</td>\n",
       "      <td>False</td>\n",
       "    </tr>\n",
       "    <tr>\n",
       "      <th>2</th>\n",
       "      <td>1jt874e</td>\n",
       "      <td>My CGM line drew a happy face :D</td>\n",
       "      <td>267</td>\n",
       "      <td>1.00</td>\n",
       "      <td>2025-04-06 20:03:15</td>\n",
       "      <td>supermouse35</td>\n",
       "      <td>11</td>\n",
       "      <td>/r/diabetes/comments/1jt874e/my_cgm_line_drew_...</td>\n",
       "      <td>https://i.redd.it/5j4je9he0bte1.jpeg</td>\n",
       "      <td>False</td>\n",
       "      <td></td>\n",
       "      <td>Type 2</td>\n",
       "      <td>False</td>\n",
       "    </tr>\n",
       "    <tr>\n",
       "      <th>3</th>\n",
       "      <td>1jtniqy</td>\n",
       "      <td>So close to 24 hrs in range!</td>\n",
       "      <td>11</td>\n",
       "      <td>1.00</td>\n",
       "      <td>2025-04-07 11:07:22</td>\n",
       "      <td>Xzact112</td>\n",
       "      <td>0</td>\n",
       "      <td>/r/diabetes/comments/1jtniqy/so_close_to_24_hr...</td>\n",
       "      <td>https://www.reddit.com/gallery/1jtniqy</td>\n",
       "      <td>False</td>\n",
       "      <td></td>\n",
       "      <td>Type 1</td>\n",
       "      <td>False</td>\n",
       "    </tr>\n",
       "    <tr>\n",
       "      <th>4</th>\n",
       "      <td>1jt99dy</td>\n",
       "      <td>Diabetes has an emotional impact</td>\n",
       "      <td>61</td>\n",
       "      <td>0.99</td>\n",
       "      <td>2025-04-06 20:59:12</td>\n",
       "      <td>ConsequenceLimp9717</td>\n",
       "      <td>50</td>\n",
       "      <td>/r/diabetes/comments/1jt99dy/diabetes_has_an_e...</td>\n",
       "      <td>https://www.reddit.com/r/diabetes/comments/1jt...</td>\n",
       "      <td>True</td>\n",
       "      <td>Especially early on, it doesn't matter the type</td>\n",
       "      <td>Discussion</td>\n",
       "      <td>False</td>\n",
       "    </tr>\n",
       "  </tbody>\n",
       "</table>\n",
       "</div>"
      ],
      "text/plain": [
       "        id                             title  score  upvote_ratio  \\\n",
       "0  1cvnqym     Weekly r/diabetes vent thread     30          0.93   \n",
       "1  1jnbw9f     Weekly r/diabetes vent thread     11          0.99   \n",
       "2  1jt874e  My CGM line drew a happy face :D    267          1.00   \n",
       "3  1jtniqy      So close to 24 hrs in range!     11          1.00   \n",
       "4  1jt99dy  Diabetes has an emotional impact     61          0.99   \n",
       "\n",
       "          created_utc               author  num_comments  \\\n",
       "0 2024-05-19 09:00:31        AutoModerator           167   \n",
       "1 2025-03-30 09:00:49        AutoModerator            28   \n",
       "2 2025-04-06 20:03:15         supermouse35            11   \n",
       "3 2025-04-07 11:07:22             Xzact112             0   \n",
       "4 2025-04-06 20:59:12  ConsequenceLimp9717            50   \n",
       "\n",
       "                                           permalink  \\\n",
       "0  /r/diabetes/comments/1cvnqym/weekly_rdiabetes_...   \n",
       "1  /r/diabetes/comments/1jnbw9f/weekly_rdiabetes_...   \n",
       "2  /r/diabetes/comments/1jt874e/my_cgm_line_drew_...   \n",
       "3  /r/diabetes/comments/1jtniqy/so_close_to_24_hr...   \n",
       "4  /r/diabetes/comments/1jt99dy/diabetes_has_an_e...   \n",
       "\n",
       "                                                 url  is_self  \\\n",
       "0  https://www.reddit.com/r/diabetes/comments/1cv...     True   \n",
       "1  https://www.reddit.com/r/diabetes/comments/1jn...     True   \n",
       "2               https://i.redd.it/5j4je9he0bte1.jpeg    False   \n",
       "3             https://www.reddit.com/gallery/1jtniqy    False   \n",
       "4  https://www.reddit.com/r/diabetes/comments/1jt...     True   \n",
       "\n",
       "                                            selftext link_flair_text  over_18  \n",
       "0  Tell us the crap you're dealing with this week...      Discussion    False  \n",
       "1  Tell us the crap you're dealing with this week...      Discussion    False  \n",
       "2                                                             Type 2    False  \n",
       "3                                                             Type 1    False  \n",
       "4   Especially early on, it doesn't matter the type       Discussion    False  "
      ]
     },
     "execution_count": 5,
     "metadata": {},
     "output_type": "execute_result"
    }
   ],
   "source": [
    "# Scrape hot posts\n",
    "hot_posts_df = scrape_posts(subreddit.hot)\n",
    "print(f\"Scraped {len(hot_posts_df)} hot posts\")\n",
    "hot_posts_df.head()"
   ]
  },
  {
   "cell_type": "markdown",
   "metadata": {},
   "source": [
    "## Scrape Top Posts of All Time"
   ]
  },
  {
   "cell_type": "code",
   "execution_count": 6,
   "metadata": {},
   "outputs": [
    {
     "name": "stdout",
     "output_type": "stream",
     "text": [
      "Scraped 100 top posts\n"
     ]
    },
    {
     "data": {
      "application/vnd.microsoft.datawrangler.viewer.v0+json": {
       "columns": [
        {
         "name": "index",
         "rawType": "int64",
         "type": "integer"
        },
        {
         "name": "id",
         "rawType": "object",
         "type": "string"
        },
        {
         "name": "title",
         "rawType": "object",
         "type": "string"
        },
        {
         "name": "score",
         "rawType": "int64",
         "type": "integer"
        },
        {
         "name": "upvote_ratio",
         "rawType": "float64",
         "type": "float"
        },
        {
         "name": "created_utc",
         "rawType": "datetime64[ns]",
         "type": "datetime"
        },
        {
         "name": "author",
         "rawType": "object",
         "type": "string"
        },
        {
         "name": "num_comments",
         "rawType": "int64",
         "type": "integer"
        },
        {
         "name": "permalink",
         "rawType": "object",
         "type": "string"
        },
        {
         "name": "url",
         "rawType": "object",
         "type": "string"
        },
        {
         "name": "is_self",
         "rawType": "bool",
         "type": "boolean"
        },
        {
         "name": "selftext",
         "rawType": "object",
         "type": "string"
        },
        {
         "name": "link_flair_text",
         "rawType": "object",
         "type": "string"
        },
        {
         "name": "over_18",
         "rawType": "bool",
         "type": "boolean"
        }
       ],
       "conversionMethod": "pd.DataFrame",
       "ref": "224bf2c7-d71a-4e36-82d7-e8103af5f9fe",
       "rows": [
        [
         "0",
         "ysngrl",
         "Eli Lilly should apologize",
         "2675",
         "0.98",
         "2022-11-11 16:18:07",
         "eloquinee",
         "161",
         "/r/diabetes/comments/ysngrl/eli_lilly_should_apologize/",
         "https://i.redd.it/uwysttgz1ez91.jpg",
         "False",
         "",
         "Healthcare",
         "False"
        ],
        [
         "1",
         "lsxbfp",
         "Nobody really saw my tweet so I thought you lot would think it was funny",
         "1794",
         "0.99",
         "2021-02-26 08:06:07",
         "guiltyandfast",
         "94",
         "/r/diabetes/comments/lsxbfp/nobody_really_saw_my_tweet_so_i_thought_you_lot/",
         "https://i.redd.it/7j7a1i2bmtj61.jpg",
         "False",
         "",
         "Humor",
         "False"
        ],
        [
         "2",
         "akcrtf",
         "Price regulation needed",
         "1772",
         "0.98",
         "2019-01-27 10:10:43",
         "Sweatyfatmess",
         "229",
         "/r/diabetes/comments/akcrtf/price_regulation_needed/",
         "https://i.redd.it/n3f5x2duezc21.jpg",
         "False",
         "",
         "Supplies",
         "False"
        ],
        [
         "3",
         "mv1lwc",
         "Had to be posted today...",
         "1660",
         "1.0",
         "2021-04-20 18:02:30",
         "Maireadmc13",
         "68",
         "/r/diabetes/comments/mv1lwc/had_to_be_posted_today/",
         "https://i.redd.it/2wg783fbieu61.jpg",
         "False",
         "",
         "Humor",
         "False"
        ],
        [
         "4",
         "md3zwy",
         "How it goes trying to dose insulin every day",
         "1636",
         "0.99",
         "2021-03-25 13:46:16",
         "free_chalupas",
         "65",
         "/r/diabetes/comments/md3zwy/how_it_goes_trying_to_dose_insulin_every_day/",
         "https://i.redd.it/a9lppnrvo7p61.png",
         "False",
         "",
         "Humor",
         "False"
        ]
       ],
       "shape": {
        "columns": 13,
        "rows": 5
       }
      },
      "text/html": [
       "<div>\n",
       "<style scoped>\n",
       "    .dataframe tbody tr th:only-of-type {\n",
       "        vertical-align: middle;\n",
       "    }\n",
       "\n",
       "    .dataframe tbody tr th {\n",
       "        vertical-align: top;\n",
       "    }\n",
       "\n",
       "    .dataframe thead th {\n",
       "        text-align: right;\n",
       "    }\n",
       "</style>\n",
       "<table border=\"1\" class=\"dataframe\">\n",
       "  <thead>\n",
       "    <tr style=\"text-align: right;\">\n",
       "      <th></th>\n",
       "      <th>id</th>\n",
       "      <th>title</th>\n",
       "      <th>score</th>\n",
       "      <th>upvote_ratio</th>\n",
       "      <th>created_utc</th>\n",
       "      <th>author</th>\n",
       "      <th>num_comments</th>\n",
       "      <th>permalink</th>\n",
       "      <th>url</th>\n",
       "      <th>is_self</th>\n",
       "      <th>selftext</th>\n",
       "      <th>link_flair_text</th>\n",
       "      <th>over_18</th>\n",
       "    </tr>\n",
       "  </thead>\n",
       "  <tbody>\n",
       "    <tr>\n",
       "      <th>0</th>\n",
       "      <td>ysngrl</td>\n",
       "      <td>Eli Lilly should apologize</td>\n",
       "      <td>2675</td>\n",
       "      <td>0.98</td>\n",
       "      <td>2022-11-11 16:18:07</td>\n",
       "      <td>eloquinee</td>\n",
       "      <td>161</td>\n",
       "      <td>/r/diabetes/comments/ysngrl/eli_lilly_should_a...</td>\n",
       "      <td>https://i.redd.it/uwysttgz1ez91.jpg</td>\n",
       "      <td>False</td>\n",
       "      <td></td>\n",
       "      <td>Healthcare</td>\n",
       "      <td>False</td>\n",
       "    </tr>\n",
       "    <tr>\n",
       "      <th>1</th>\n",
       "      <td>lsxbfp</td>\n",
       "      <td>Nobody really saw my tweet so I thought you lo...</td>\n",
       "      <td>1794</td>\n",
       "      <td>0.99</td>\n",
       "      <td>2021-02-26 08:06:07</td>\n",
       "      <td>guiltyandfast</td>\n",
       "      <td>94</td>\n",
       "      <td>/r/diabetes/comments/lsxbfp/nobody_really_saw_...</td>\n",
       "      <td>https://i.redd.it/7j7a1i2bmtj61.jpg</td>\n",
       "      <td>False</td>\n",
       "      <td></td>\n",
       "      <td>Humor</td>\n",
       "      <td>False</td>\n",
       "    </tr>\n",
       "    <tr>\n",
       "      <th>2</th>\n",
       "      <td>akcrtf</td>\n",
       "      <td>Price regulation needed</td>\n",
       "      <td>1772</td>\n",
       "      <td>0.98</td>\n",
       "      <td>2019-01-27 10:10:43</td>\n",
       "      <td>Sweatyfatmess</td>\n",
       "      <td>229</td>\n",
       "      <td>/r/diabetes/comments/akcrtf/price_regulation_n...</td>\n",
       "      <td>https://i.redd.it/n3f5x2duezc21.jpg</td>\n",
       "      <td>False</td>\n",
       "      <td></td>\n",
       "      <td>Supplies</td>\n",
       "      <td>False</td>\n",
       "    </tr>\n",
       "    <tr>\n",
       "      <th>3</th>\n",
       "      <td>mv1lwc</td>\n",
       "      <td>Had to be posted today...</td>\n",
       "      <td>1660</td>\n",
       "      <td>1.00</td>\n",
       "      <td>2021-04-20 18:02:30</td>\n",
       "      <td>Maireadmc13</td>\n",
       "      <td>68</td>\n",
       "      <td>/r/diabetes/comments/mv1lwc/had_to_be_posted_t...</td>\n",
       "      <td>https://i.redd.it/2wg783fbieu61.jpg</td>\n",
       "      <td>False</td>\n",
       "      <td></td>\n",
       "      <td>Humor</td>\n",
       "      <td>False</td>\n",
       "    </tr>\n",
       "    <tr>\n",
       "      <th>4</th>\n",
       "      <td>md3zwy</td>\n",
       "      <td>How it goes trying to dose insulin every day</td>\n",
       "      <td>1636</td>\n",
       "      <td>0.99</td>\n",
       "      <td>2021-03-25 13:46:16</td>\n",
       "      <td>free_chalupas</td>\n",
       "      <td>65</td>\n",
       "      <td>/r/diabetes/comments/md3zwy/how_it_goes_trying...</td>\n",
       "      <td>https://i.redd.it/a9lppnrvo7p61.png</td>\n",
       "      <td>False</td>\n",
       "      <td></td>\n",
       "      <td>Humor</td>\n",
       "      <td>False</td>\n",
       "    </tr>\n",
       "  </tbody>\n",
       "</table>\n",
       "</div>"
      ],
      "text/plain": [
       "       id                                              title  score  \\\n",
       "0  ysngrl                         Eli Lilly should apologize   2675   \n",
       "1  lsxbfp  Nobody really saw my tweet so I thought you lo...   1794   \n",
       "2  akcrtf                            Price regulation needed   1772   \n",
       "3  mv1lwc                          Had to be posted today...   1660   \n",
       "4  md3zwy       How it goes trying to dose insulin every day   1636   \n",
       "\n",
       "   upvote_ratio         created_utc         author  num_comments  \\\n",
       "0          0.98 2022-11-11 16:18:07      eloquinee           161   \n",
       "1          0.99 2021-02-26 08:06:07  guiltyandfast            94   \n",
       "2          0.98 2019-01-27 10:10:43  Sweatyfatmess           229   \n",
       "3          1.00 2021-04-20 18:02:30    Maireadmc13            68   \n",
       "4          0.99 2021-03-25 13:46:16  free_chalupas            65   \n",
       "\n",
       "                                           permalink  \\\n",
       "0  /r/diabetes/comments/ysngrl/eli_lilly_should_a...   \n",
       "1  /r/diabetes/comments/lsxbfp/nobody_really_saw_...   \n",
       "2  /r/diabetes/comments/akcrtf/price_regulation_n...   \n",
       "3  /r/diabetes/comments/mv1lwc/had_to_be_posted_t...   \n",
       "4  /r/diabetes/comments/md3zwy/how_it_goes_trying...   \n",
       "\n",
       "                                   url  is_self selftext link_flair_text  \\\n",
       "0  https://i.redd.it/uwysttgz1ez91.jpg    False               Healthcare   \n",
       "1  https://i.redd.it/7j7a1i2bmtj61.jpg    False                    Humor   \n",
       "2  https://i.redd.it/n3f5x2duezc21.jpg    False                 Supplies   \n",
       "3  https://i.redd.it/2wg783fbieu61.jpg    False                    Humor   \n",
       "4  https://i.redd.it/a9lppnrvo7p61.png    False                    Humor   \n",
       "\n",
       "   over_18  \n",
       "0    False  \n",
       "1    False  \n",
       "2    False  \n",
       "3    False  \n",
       "4    False  "
      ]
     },
     "execution_count": 6,
     "metadata": {},
     "output_type": "execute_result"
    }
   ],
   "source": [
    "# Scrape top posts of all time\n",
    "top_posts_df = scrape_posts(subreddit.top)\n",
    "print(f\"Scraped {len(top_posts_df)} top posts\")\n",
    "top_posts_df.head()"
   ]
  },
  {
   "cell_type": "markdown",
   "metadata": {},
   "source": [
    "## Save Posts to CSV Files"
   ]
  },
  {
   "cell_type": "code",
   "execution_count": null,
   "metadata": {},
   "outputs": [
    {
     "name": "stdout",
     "output_type": "stream",
     "text": [
      "Saved posts to CSV files\n"
     ]
    }
   ],
   "source": [
    "# Save to CSV files\n",
    "recent_posts_df.to_csv('./data/interim/diabetes_recent_posts.csv', index=False)\n",
    "hot_posts_df.to_csv('./data/interim/diabetes_hot_posts.csv', index=False)\n",
    "top_posts_df.to_csv('./data/interim/diabetes_top_posts.csv', index=False)\n",
    "\n",
    "print(\"Saved posts to CSV files\")"
   ]
  },
  {
   "cell_type": "markdown",
   "metadata": {},
   "source": [
    "## Scrape Comments from Top Posts\n",
    "\n",
    "Now let's collect comments from the top posts."
   ]
  },
  {
   "cell_type": "code",
   "execution_count": 8,
   "metadata": {},
   "outputs": [
    {
     "name": "stdout",
     "output_type": "stream",
     "text": [
      "Scraping comments from post 1/5: ysngrl\n",
      "Scraping comments from post 2/5: lsxbfp\n",
      "Scraping comments from post 3/5: akcrtf\n",
      "Scraping comments from post 4/5: mv1lwc\n",
      "Scraping comments from post 5/5: md3zwy\n",
      "Scraped 632 comments from top 5 posts\n"
     ]
    },
    {
     "data": {
      "application/vnd.microsoft.datawrangler.viewer.v0+json": {
       "columns": [
        {
         "name": "index",
         "rawType": "int64",
         "type": "integer"
        },
        {
         "name": "id",
         "rawType": "object",
         "type": "string"
        },
        {
         "name": "post_id",
         "rawType": "object",
         "type": "string"
        },
        {
         "name": "parent_id",
         "rawType": "object",
         "type": "string"
        },
        {
         "name": "body",
         "rawType": "object",
         "type": "string"
        },
        {
         "name": "score",
         "rawType": "int64",
         "type": "integer"
        },
        {
         "name": "created_utc",
         "rawType": "datetime64[ns]",
         "type": "datetime"
        },
        {
         "name": "author",
         "rawType": "object",
         "type": "string"
        },
        {
         "name": "is_submitter",
         "rawType": "bool",
         "type": "boolean"
        },
        {
         "name": "permalink",
         "rawType": "object",
         "type": "string"
        },
        {
         "name": "level",
         "rawType": "int64",
         "type": "integer"
        }
       ],
       "conversionMethod": "pd.DataFrame",
       "ref": "a597b289-1ba5-4c27-b1a3-cf603b1be6a4",
       "rows": [
        [
         "0",
         "iw08501",
         "ysngrl",
         "t3_ysngrl",
         "All these people care about is money, they don't care that us diabetics are suffering every single day. It's all about money. This world is twisted, human lives should be more important than a piece of paper, but these fuckholes just care about getting rich off us.",
         "136",
         "2022-11-11 17:47:37",
         "Foreign-Concept5567",
         "False",
         "/r/diabetes/comments/ysngrl/eli_lilly_should_apologize/iw08501/",
         "0"
        ],
        [
         "1",
         "iw1p3in",
         "ysngrl",
         "t1_iw08501",
         "I was born in a war torn, impoverished eastern european country. Even they manage free insulin. \n\nYou having to struggle to pay for your childs insulin, to take credit just to keep you or someone you love alive, in a country of such riches, is an anti-human political decision. In a kinder, saner world, both the executives and their political enablers would be brought to trial for crimes against humanity.",
         "45",
         "2022-11-12 01:52:44",
         "nixa919",
         "False",
         "/r/diabetes/comments/ysngrl/eli_lilly_should_apologize/iw1p3in/",
         "1"
        ],
        [
         "2",
         "iw402zp",
         "ysngrl",
         "t1_iw1p3in",
         "It's US$7.28 in my country for a cartridge.\n\nIn a way, the US (sadly for their people) subsidise the cost for the rest of us. They can afford to sell it so cheap here because they can gouge their people back home.",
         "6",
         "2022-11-12 15:03:20",
         "Doughspun1",
         "False",
         "/r/diabetes/comments/ysngrl/eli_lilly_should_apologize/iw402zp/",
         "2"
        ],
        [
         "3",
         "iygcmkw",
         "ysngrl",
         "t1_iw402zp",
         "insulin is incredibly cheap to make so its just greed and the fact that politicians cant stop sucking pharma dick",
         "2",
         "2022-11-30 23:30:21",
         "eniminimini",
         "False",
         "/r/diabetes/comments/ysngrl/eli_lilly_should_apologize/iygcmkw/",
         "3"
        ],
        [
         "4",
         "iw1eh8t",
         "ysngrl",
         "t1_iw08501",
         "They only want you to live long enough for you to be replaced by the next person to be diagnosed after they've extracted enough money from you.",
         "21",
         "2022-11-11 23:49:46",
         "freddyt55555",
         "False",
         "/r/diabetes/comments/ysngrl/eli_lilly_should_apologize/iw1eh8t/",
         "1"
        ]
       ],
       "shape": {
        "columns": 10,
        "rows": 5
       }
      },
      "text/html": [
       "<div>\n",
       "<style scoped>\n",
       "    .dataframe tbody tr th:only-of-type {\n",
       "        vertical-align: middle;\n",
       "    }\n",
       "\n",
       "    .dataframe tbody tr th {\n",
       "        vertical-align: top;\n",
       "    }\n",
       "\n",
       "    .dataframe thead th {\n",
       "        text-align: right;\n",
       "    }\n",
       "</style>\n",
       "<table border=\"1\" class=\"dataframe\">\n",
       "  <thead>\n",
       "    <tr style=\"text-align: right;\">\n",
       "      <th></th>\n",
       "      <th>id</th>\n",
       "      <th>post_id</th>\n",
       "      <th>parent_id</th>\n",
       "      <th>body</th>\n",
       "      <th>score</th>\n",
       "      <th>created_utc</th>\n",
       "      <th>author</th>\n",
       "      <th>is_submitter</th>\n",
       "      <th>permalink</th>\n",
       "      <th>level</th>\n",
       "    </tr>\n",
       "  </thead>\n",
       "  <tbody>\n",
       "    <tr>\n",
       "      <th>0</th>\n",
       "      <td>iw08501</td>\n",
       "      <td>ysngrl</td>\n",
       "      <td>t3_ysngrl</td>\n",
       "      <td>All these people care about is money, they don...</td>\n",
       "      <td>136</td>\n",
       "      <td>2022-11-11 17:47:37</td>\n",
       "      <td>Foreign-Concept5567</td>\n",
       "      <td>False</td>\n",
       "      <td>/r/diabetes/comments/ysngrl/eli_lilly_should_a...</td>\n",
       "      <td>0</td>\n",
       "    </tr>\n",
       "    <tr>\n",
       "      <th>1</th>\n",
       "      <td>iw1p3in</td>\n",
       "      <td>ysngrl</td>\n",
       "      <td>t1_iw08501</td>\n",
       "      <td>I was born in a war torn, impoverished eastern...</td>\n",
       "      <td>45</td>\n",
       "      <td>2022-11-12 01:52:44</td>\n",
       "      <td>nixa919</td>\n",
       "      <td>False</td>\n",
       "      <td>/r/diabetes/comments/ysngrl/eli_lilly_should_a...</td>\n",
       "      <td>1</td>\n",
       "    </tr>\n",
       "    <tr>\n",
       "      <th>2</th>\n",
       "      <td>iw402zp</td>\n",
       "      <td>ysngrl</td>\n",
       "      <td>t1_iw1p3in</td>\n",
       "      <td>It's US$7.28 in my country for a cartridge.\\n\\...</td>\n",
       "      <td>6</td>\n",
       "      <td>2022-11-12 15:03:20</td>\n",
       "      <td>Doughspun1</td>\n",
       "      <td>False</td>\n",
       "      <td>/r/diabetes/comments/ysngrl/eli_lilly_should_a...</td>\n",
       "      <td>2</td>\n",
       "    </tr>\n",
       "    <tr>\n",
       "      <th>3</th>\n",
       "      <td>iygcmkw</td>\n",
       "      <td>ysngrl</td>\n",
       "      <td>t1_iw402zp</td>\n",
       "      <td>insulin is incredibly cheap to make so its jus...</td>\n",
       "      <td>2</td>\n",
       "      <td>2022-11-30 23:30:21</td>\n",
       "      <td>eniminimini</td>\n",
       "      <td>False</td>\n",
       "      <td>/r/diabetes/comments/ysngrl/eli_lilly_should_a...</td>\n",
       "      <td>3</td>\n",
       "    </tr>\n",
       "    <tr>\n",
       "      <th>4</th>\n",
       "      <td>iw1eh8t</td>\n",
       "      <td>ysngrl</td>\n",
       "      <td>t1_iw08501</td>\n",
       "      <td>They only want you to live long enough for you...</td>\n",
       "      <td>21</td>\n",
       "      <td>2022-11-11 23:49:46</td>\n",
       "      <td>freddyt55555</td>\n",
       "      <td>False</td>\n",
       "      <td>/r/diabetes/comments/ysngrl/eli_lilly_should_a...</td>\n",
       "      <td>1</td>\n",
       "    </tr>\n",
       "  </tbody>\n",
       "</table>\n",
       "</div>"
      ],
      "text/plain": [
       "        id post_id   parent_id  \\\n",
       "0  iw08501  ysngrl   t3_ysngrl   \n",
       "1  iw1p3in  ysngrl  t1_iw08501   \n",
       "2  iw402zp  ysngrl  t1_iw1p3in   \n",
       "3  iygcmkw  ysngrl  t1_iw402zp   \n",
       "4  iw1eh8t  ysngrl  t1_iw08501   \n",
       "\n",
       "                                                body  score  \\\n",
       "0  All these people care about is money, they don...    136   \n",
       "1  I was born in a war torn, impoverished eastern...     45   \n",
       "2  It's US$7.28 in my country for a cartridge.\\n\\...      6   \n",
       "3  insulin is incredibly cheap to make so its jus...      2   \n",
       "4  They only want you to live long enough for you...     21   \n",
       "\n",
       "          created_utc               author  is_submitter  \\\n",
       "0 2022-11-11 17:47:37  Foreign-Concept5567         False   \n",
       "1 2022-11-12 01:52:44              nixa919         False   \n",
       "2 2022-11-12 15:03:20           Doughspun1         False   \n",
       "3 2022-11-30 23:30:21          eniminimini         False   \n",
       "4 2022-11-11 23:49:46         freddyt55555         False   \n",
       "\n",
       "                                           permalink  level  \n",
       "0  /r/diabetes/comments/ysngrl/eli_lilly_should_a...      0  \n",
       "1  /r/diabetes/comments/ysngrl/eli_lilly_should_a...      1  \n",
       "2  /r/diabetes/comments/ysngrl/eli_lilly_should_a...      2  \n",
       "3  /r/diabetes/comments/ysngrl/eli_lilly_should_a...      3  \n",
       "4  /r/diabetes/comments/ysngrl/eli_lilly_should_a...      1  "
      ]
     },
     "execution_count": 8,
     "metadata": {},
     "output_type": "execute_result"
    }
   ],
   "source": [
    "def scrape_comments(post_id, limit=None):\n",
    "    \"\"\"Scrape comments from a post\"\"\"\n",
    "    post = reddit.submission(id=post_id)\n",
    "    comments_data = []\n",
    "    \n",
    "    # Replace MoreComments objects with actual comments (up to limit)\n",
    "    post.comments.replace_more(limit=limit)\n",
    "    \n",
    "    # Function to process comments recursively\n",
    "    def process_comment(comment, level=0):\n",
    "        comment_data = {\n",
    "            'id': comment.id,\n",
    "            'post_id': post_id,\n",
    "            'parent_id': comment.parent_id,\n",
    "            'body': comment.body,\n",
    "            'score': comment.score,\n",
    "            'created_utc': datetime.datetime.fromtimestamp(comment.created_utc),\n",
    "            'author': str(comment.author),  # Convert to string in case author is deleted\n",
    "            'is_submitter': comment.is_submitter,\n",
    "            'permalink': comment.permalink,\n",
    "            'level': level\n",
    "        }\n",
    "        comments_data.append(comment_data)\n",
    "        \n",
    "        # Process replies\n",
    "        for reply in comment.replies:\n",
    "            process_comment(reply, level + 1)\n",
    "    \n",
    "    # Process all top-level comments\n",
    "    for comment in post.comments:\n",
    "        process_comment(comment)\n",
    "        \n",
    "    return pd.DataFrame(comments_data)\n",
    "\n",
    "# Get comments from the top 5 posts\n",
    "all_comments_df = pd.DataFrame()\n",
    "\n",
    "for i, post_id in enumerate(top_posts_df['id'].head(5)):\n",
    "    print(f\"Scraping comments from post {i+1}/5: {post_id}\")\n",
    "    comments_df = scrape_comments(post_id, limit=10)  # Limit to 10 MoreComments expansions per post\n",
    "    all_comments_df = pd.concat([all_comments_df, comments_df], ignore_index=True)\n",
    "    time.sleep(2)  # Be nice to Reddit's servers\n",
    "\n",
    "print(f\"Scraped {len(all_comments_df)} comments from top 5 posts\")\n",
    "all_comments_df.head()"
   ]
  },
  {
   "cell_type": "code",
   "execution_count": null,
   "metadata": {},
   "outputs": [
    {
     "name": "stdout",
     "output_type": "stream",
     "text": [
      "Saved comments to CSV file\n"
     ]
    }
   ],
   "source": [
    "# Save comments to CSV\n",
    "all_comments_df.to_csv('./data/interim/diabetes_comments.csv', index=False)\n",
    "print(\"Saved comments to CSV file\")"
   ]
  },
  {
   "cell_type": "markdown",
   "metadata": {},
   "source": [
    "## Data Analysis and Visualization\n",
    "\n",
    "Let's analyze and visualize some of the scraped data."
   ]
  },
  {
   "cell_type": "code",
   "execution_count": 10,
   "metadata": {},
   "outputs": [
    {
     "data": {
      "image/png": "[encoded data removed]",
      "text/plain": [
       "<Figure size 1200x600 with 1 Axes>"
      ]
     },
     "metadata": {},
     "output_type": "display_data"
    }
   ],
   "source": [
    "# Get post frequency by time of day\n",
    "recent_posts_df['hour'] = recent_posts_df['created_utc'].dt.hour\n",
    "\n",
    "plt.figure(figsize=(12, 6))\n",
    "recent_posts_df['hour'].value_counts().sort_index().plot(kind='bar')\n",
    "plt.title('Post Frequency by Hour of Day (UTC)')\n",
    "plt.xlabel('Hour of Day')\n",
    "plt.ylabel('Number of Posts')\n",
    "plt.xticks(rotation=0)\n",
    "plt.show()"
   ]
  },
  {
   "cell_type": "code",
   "execution_count": 11,
   "metadata": {},
   "outputs": [
    {
     "data": {
      "image/png": "[encoded data removed]",
      "text/plain": [
       "<Figure size 1200x600 with 1 Axes>"
      ]
     },
     "metadata": {},
     "output_type": "display_data"
    }
   ],
   "source": [
    "# Get most common post flairs\n",
    "plt.figure(figsize=(12, 6))\n",
    "flair_counts = recent_posts_df['link_flair_text'].dropna().value_counts().head(10)\n",
    "flair_counts.plot(kind='bar')\n",
    "plt.title('Most Common Post Flairs')\n",
    "plt.xlabel('Flair')\n",
    "plt.ylabel('Count')\n",
    "plt.xticks(rotation=45)\n",
    "plt.show()"
   ]
  },
  {
   "cell_type": "code",
   "execution_count": 12,
   "metadata": {},
   "outputs": [
    {
     "data": {
      "image/png": "[encoded data removed]",
      "text/plain": [
       "<Figure size 1200x600 with 1 Axes>"
      ]
     },
     "metadata": {},
     "output_type": "display_data"
    }
   ],
   "source": [
    "# Post score distribution\n",
    "plt.figure(figsize=(12, 6))\n",
    "plt.hist(recent_posts_df['score'], bins=20)\n",
    "plt.title('Post Score Distribution')\n",
    "plt.xlabel('Score')\n",
    "plt.ylabel('Frequency')\n",
    "plt.show()"
   ]
  },
  {
   "cell_type": "code",
   "execution_count": 13,
   "metadata": {},
   "outputs": [
    {
     "ename": "LookupError",
     "evalue": "\n**********************************************************************\n  Resource \u001b[93mpunkt_tab\u001b[0m not found.\n  Please use the NLTK Downloader to obtain the resource:\n\n  \u001b[31m>>> import nltk\n  >>> nltk.download('punkt_tab')\n  \u001b[0m\n  For more information see: https://www.nltk.org/data.html\n\n  Attempted to load \u001b[93mtokenizers/punkt_tab/english/\u001b[0m\n\n  Searched in:\n    - '/Users/seanmacbook/nltk_data'\n    - '/Users/seanmacbook/Projects/google_play_store_review_crawl/.venv/nltk_data'\n    - '/Users/seanmacbook/Projects/google_play_store_review_crawl/.venv/share/nltk_data'\n    - '/Users/seanmacbook/Projects/google_play_store_review_crawl/.venv/lib/nltk_data'\n    - '/usr/share/nltk_data'\n    - '/usr/local/share/nltk_data'\n    - '/usr/lib/nltk_data'\n    - '/usr/local/lib/nltk_data'\n**********************************************************************\n",
     "output_type": "error",
     "traceback": [
      "\u001b[31m---------------------------------------------------------------------------\u001b[39m",
      "\u001b[31mLookupError\u001b[39m                               Traceback (most recent call last)",
      "\u001b[36mCell\u001b[39m\u001b[36m \u001b[39m\u001b[32mIn[13]\u001b[39m\u001b[32m, line 31\u001b[39m\n\u001b[32m     29\u001b[39m \u001b[38;5;66;03m# Combine titles and selftext (for text posts)\u001b[39;00m\n\u001b[32m     30\u001b[39m recent_posts_df[\u001b[33m'\u001b[39m\u001b[33mcombined_text\u001b[39m\u001b[33m'\u001b[39m] = recent_posts_df[\u001b[33m'\u001b[39m\u001b[33mtitle\u001b[39m\u001b[33m'\u001b[39m] + \u001b[33m'\u001b[39m\u001b[33m \u001b[39m\u001b[33m'\u001b[39m + recent_posts_df[\u001b[33m'\u001b[39m\u001b[33mselftext\u001b[39m\u001b[33m'\u001b[39m]\n\u001b[32m---> \u001b[39m\u001b[32m31\u001b[39m \u001b[43mcreate_word_cloud\u001b[49m\u001b[43m(\u001b[49m\u001b[43mrecent_posts_df\u001b[49m\u001b[43m[\u001b[49m\u001b[33;43m'\u001b[39;49m\u001b[33;43mcombined_text\u001b[39;49m\u001b[33;43m'\u001b[39;49m\u001b[43m]\u001b[49m\u001b[43m)\u001b[49m\n",
      "\u001b[36mCell\u001b[39m\u001b[36m \u001b[39m\u001b[32mIn[13]\u001b[39m\u001b[32m, line 10\u001b[39m, in \u001b[36mcreate_word_cloud\u001b[39m\u001b[34m(text_series)\u001b[39m\n\u001b[32m      7\u001b[39m cleaned_text = re.sub(\u001b[33mr\u001b[39m\u001b[33m'\u001b[39m\u001b[33m[^\u001b[39m\u001b[33m\\\u001b[39m\u001b[33mw\u001b[39m\u001b[33m\\\u001b[39m\u001b[33ms]\u001b[39m\u001b[33m'\u001b[39m, \u001b[33m'\u001b[39m\u001b[33m'\u001b[39m, combined_text.lower())\n\u001b[32m      9\u001b[39m \u001b[38;5;66;03m# Tokenize\u001b[39;00m\n\u001b[32m---> \u001b[39m\u001b[32m10\u001b[39m words = \u001b[43mnltk\u001b[49m\u001b[43m.\u001b[49m\u001b[43mword_tokenize\u001b[49m\u001b[43m(\u001b[49m\u001b[43mcleaned_text\u001b[49m\u001b[43m)\u001b[49m\n\u001b[32m     12\u001b[39m \u001b[38;5;66;03m# Remove stopwords and short words\u001b[39;00m\n\u001b[32m     13\u001b[39m stop_words = \u001b[38;5;28mset\u001b[39m(stopwords.words(\u001b[33m'\u001b[39m\u001b[33menglish\u001b[39m\u001b[33m'\u001b[39m))\n",
      "\u001b[36mFile \u001b[39m\u001b[32m~/Projects/google_play_store_review_crawl/.venv/lib/python3.11/site-packages/nltk/tokenize/__init__.py:142\u001b[39m, in \u001b[36mword_tokenize\u001b[39m\u001b[34m(text, language, preserve_line)\u001b[39m\n\u001b[32m    127\u001b[39m \u001b[38;5;28;01mdef\u001b[39;00m\u001b[38;5;250m \u001b[39m\u001b[34mword_tokenize\u001b[39m(text, language=\u001b[33m\"\u001b[39m\u001b[33menglish\u001b[39m\u001b[33m\"\u001b[39m, preserve_line=\u001b[38;5;28;01mFalse\u001b[39;00m):\n\u001b[32m    128\u001b[39m \u001b[38;5;250m    \u001b[39m\u001b[33;03m\"\"\"\u001b[39;00m\n\u001b[32m    129\u001b[39m \u001b[33;03m    Return a tokenized copy of *text*,\u001b[39;00m\n\u001b[32m    130\u001b[39m \u001b[33;03m    using NLTK's recommended word tokenizer\u001b[39;00m\n\u001b[32m   (...)\u001b[39m\u001b[32m    140\u001b[39m \u001b[33;03m    :type preserve_line: bool\u001b[39;00m\n\u001b[32m    141\u001b[39m \u001b[33;03m    \"\"\"\u001b[39;00m\n\u001b[32m--> \u001b[39m\u001b[32m142\u001b[39m     sentences = [text] \u001b[38;5;28;01mif\u001b[39;00m preserve_line \u001b[38;5;28;01melse\u001b[39;00m \u001b[43msent_tokenize\u001b[49m\u001b[43m(\u001b[49m\u001b[43mtext\u001b[49m\u001b[43m,\u001b[49m\u001b[43m \u001b[49m\u001b[43mlanguage\u001b[49m\u001b[43m)\u001b[49m\n\u001b[32m    143\u001b[39m     \u001b[38;5;28;01mreturn\u001b[39;00m [\n\u001b[32m    144\u001b[39m         token \u001b[38;5;28;01mfor\u001b[39;00m sent \u001b[38;5;129;01min\u001b[39;00m sentences \u001b[38;5;28;01mfor\u001b[39;00m token \u001b[38;5;129;01min\u001b[39;00m _treebank_word_tokenizer.tokenize(sent)\n\u001b[32m    145\u001b[39m     ]\n",
      "\u001b[36mFile \u001b[39m\u001b[32m~/Projects/google_play_store_review_crawl/.venv/lib/python3.11/site-packages/nltk/tokenize/__init__.py:119\u001b[39m, in \u001b[36msent_tokenize\u001b[39m\u001b[34m(text, language)\u001b[39m\n\u001b[32m    109\u001b[39m \u001b[38;5;28;01mdef\u001b[39;00m\u001b[38;5;250m \u001b[39m\u001b[34msent_tokenize\u001b[39m(text, language=\u001b[33m\"\u001b[39m\u001b[33menglish\u001b[39m\u001b[33m\"\u001b[39m):\n\u001b[32m    110\u001b[39m \u001b[38;5;250m    \u001b[39m\u001b[33;03m\"\"\"\u001b[39;00m\n\u001b[32m    111\u001b[39m \u001b[33;03m    Return a sentence-tokenized copy of *text*,\u001b[39;00m\n\u001b[32m    112\u001b[39m \u001b[33;03m    using NLTK's recommended sentence tokenizer\u001b[39;00m\n\u001b[32m   (...)\u001b[39m\u001b[32m    117\u001b[39m \u001b[33;03m    :param language: the model name in the Punkt corpus\u001b[39;00m\n\u001b[32m    118\u001b[39m \u001b[33;03m    \"\"\"\u001b[39;00m\n\u001b[32m--> \u001b[39m\u001b[32m119\u001b[39m     tokenizer = \u001b[43m_get_punkt_tokenizer\u001b[49m\u001b[43m(\u001b[49m\u001b[43mlanguage\u001b[49m\u001b[43m)\u001b[49m\n\u001b[32m    120\u001b[39m     \u001b[38;5;28;01mreturn\u001b[39;00m tokenizer.tokenize(text)\n",
      "\u001b[36mFile \u001b[39m\u001b[32m~/Projects/google_play_store_review_crawl/.venv/lib/python3.11/site-packages/nltk/tokenize/__init__.py:105\u001b[39m, in \u001b[36m_get_punkt_tokenizer\u001b[39m\u001b[34m(language)\u001b[39m\n\u001b[32m     96\u001b[39m \u001b[38;5;129m@functools\u001b[39m.lru_cache\n\u001b[32m     97\u001b[39m \u001b[38;5;28;01mdef\u001b[39;00m\u001b[38;5;250m \u001b[39m\u001b[34m_get_punkt_tokenizer\u001b[39m(language=\u001b[33m\"\u001b[39m\u001b[33menglish\u001b[39m\u001b[33m\"\u001b[39m):\n\u001b[32m     98\u001b[39m \u001b[38;5;250m    \u001b[39m\u001b[33;03m\"\"\"\u001b[39;00m\n\u001b[32m     99\u001b[39m \u001b[33;03m    A constructor for the PunktTokenizer that utilizes\u001b[39;00m\n\u001b[32m    100\u001b[39m \u001b[33;03m    a lru cache for performance.\u001b[39;00m\n\u001b[32m   (...)\u001b[39m\u001b[32m    103\u001b[39m \u001b[33;03m    :type language: str\u001b[39;00m\n\u001b[32m    104\u001b[39m \u001b[33;03m    \"\"\"\u001b[39;00m\n\u001b[32m--> \u001b[39m\u001b[32m105\u001b[39m     \u001b[38;5;28;01mreturn\u001b[39;00m \u001b[43mPunktTokenizer\u001b[49m\u001b[43m(\u001b[49m\u001b[43mlanguage\u001b[49m\u001b[43m)\u001b[49m\n",
      "\u001b[36mFile \u001b[39m\u001b[32m~/Projects/google_play_store_review_crawl/.venv/lib/python3.11/site-packages/nltk/tokenize/punkt.py:1744\u001b[39m, in \u001b[36mPunktTokenizer.__init__\u001b[39m\u001b[34m(self, lang)\u001b[39m\n\u001b[32m   1742\u001b[39m \u001b[38;5;28;01mdef\u001b[39;00m\u001b[38;5;250m \u001b[39m\u001b[34m__init__\u001b[39m(\u001b[38;5;28mself\u001b[39m, lang=\u001b[33m\"\u001b[39m\u001b[33menglish\u001b[39m\u001b[33m\"\u001b[39m):\n\u001b[32m   1743\u001b[39m     PunktSentenceTokenizer.\u001b[34m__init__\u001b[39m(\u001b[38;5;28mself\u001b[39m)\n\u001b[32m-> \u001b[39m\u001b[32m1744\u001b[39m     \u001b[38;5;28;43mself\u001b[39;49m\u001b[43m.\u001b[49m\u001b[43mload_lang\u001b[49m\u001b[43m(\u001b[49m\u001b[43mlang\u001b[49m\u001b[43m)\u001b[49m\n",
      "\u001b[36mFile \u001b[39m\u001b[32m~/Projects/google_play_store_review_crawl/.venv/lib/python3.11/site-packages/nltk/tokenize/punkt.py:1749\u001b[39m, in \u001b[36mPunktTokenizer.load_lang\u001b[39m\u001b[34m(self, lang)\u001b[39m\n\u001b[32m   1746\u001b[39m \u001b[38;5;28;01mdef\u001b[39;00m\u001b[38;5;250m \u001b[39m\u001b[34mload_lang\u001b[39m(\u001b[38;5;28mself\u001b[39m, lang=\u001b[33m\"\u001b[39m\u001b[33menglish\u001b[39m\u001b[33m\"\u001b[39m):\n\u001b[32m   1747\u001b[39m     \u001b[38;5;28;01mfrom\u001b[39;00m\u001b[38;5;250m \u001b[39m\u001b[34;01mnltk\u001b[39;00m\u001b[34;01m.\u001b[39;00m\u001b[34;01mdata\u001b[39;00m\u001b[38;5;250m \u001b[39m\u001b[38;5;28;01mimport\u001b[39;00m find\n\u001b[32m-> \u001b[39m\u001b[32m1749\u001b[39m     lang_dir = \u001b[43mfind\u001b[49m\u001b[43m(\u001b[49m\u001b[33;43mf\u001b[39;49m\u001b[33;43m\"\u001b[39;49m\u001b[33;43mtokenizers/punkt_tab/\u001b[39;49m\u001b[38;5;132;43;01m{\u001b[39;49;00m\u001b[43mlang\u001b[49m\u001b[38;5;132;43;01m}\u001b[39;49;00m\u001b[33;43m/\u001b[39;49m\u001b[33;43m\"\u001b[39;49m\u001b[43m)\u001b[49m\n\u001b[32m   1750\u001b[39m     \u001b[38;5;28mself\u001b[39m._params = load_punkt_params(lang_dir)\n\u001b[32m   1751\u001b[39m     \u001b[38;5;28mself\u001b[39m._lang = lang\n",
      "\u001b[36mFile \u001b[39m\u001b[32m~/Projects/google_play_store_review_crawl/.venv/lib/python3.11/site-packages/nltk/data.py:579\u001b[39m, in \u001b[36mfind\u001b[39m\u001b[34m(resource_name, paths)\u001b[39m\n\u001b[32m    577\u001b[39m sep = \u001b[33m\"\u001b[39m\u001b[33m*\u001b[39m\u001b[33m\"\u001b[39m * \u001b[32m70\u001b[39m\n\u001b[32m    578\u001b[39m resource_not_found = \u001b[33mf\u001b[39m\u001b[33m\"\u001b[39m\u001b[38;5;130;01m\\n\u001b[39;00m\u001b[38;5;132;01m{\u001b[39;00msep\u001b[38;5;132;01m}\u001b[39;00m\u001b[38;5;130;01m\\n\u001b[39;00m\u001b[38;5;132;01m{\u001b[39;00mmsg\u001b[38;5;132;01m}\u001b[39;00m\u001b[38;5;130;01m\\n\u001b[39;00m\u001b[38;5;132;01m{\u001b[39;00msep\u001b[38;5;132;01m}\u001b[39;00m\u001b[38;5;130;01m\\n\u001b[39;00m\u001b[33m\"\u001b[39m\n\u001b[32m--> \u001b[39m\u001b[32m579\u001b[39m \u001b[38;5;28;01mraise\u001b[39;00m \u001b[38;5;167;01mLookupError\u001b[39;00m(resource_not_found)\n",
      "\u001b[31mLookupError\u001b[39m: \n**********************************************************************\n  Resource \u001b[93mpunkt_tab\u001b[0m not found.\n  Please use the NLTK Downloader to obtain the resource:\n\n  \u001b[31m>>> import nltk\n  >>> nltk.download('punkt_tab')\n  \u001b[0m\n  For more information see: https://www.nltk.org/data.html\n\n  Attempted to load \u001b[93mtokenizers/punkt_tab/english/\u001b[0m\n\n  Searched in:\n    - '/Users/seanmacbook/nltk_data'\n    - '/Users/seanmacbook/Projects/google_play_store_review_crawl/.venv/nltk_data'\n    - '/Users/seanmacbook/Projects/google_play_store_review_crawl/.venv/share/nltk_data'\n    - '/Users/seanmacbook/Projects/google_play_store_review_crawl/.venv/lib/nltk_data'\n    - '/usr/share/nltk_data'\n    - '/usr/local/share/nltk_data'\n    - '/usr/lib/nltk_data'\n    - '/usr/local/lib/nltk_data'\n**********************************************************************\n"
     ]
    }
   ],
   "source": [
    "# Create word cloud from post titles and text\n",
    "def create_word_cloud(text_series):\n",
    "    # Combine all text\n",
    "    combined_text = ' '.join(text_series.fillna(''))\n",
    "    \n",
    "    # Clean text\n",
    "    cleaned_text = re.sub(r'[^\\w\\s]', '', combined_text.lower())\n",
    "    \n",
    "    # Tokenize\n",
    "    words = nltk.word_tokenize(cleaned_text)\n",
    "    \n",
    "    # Remove stopwords and short words\n",
    "    stop_words = set(stopwords.words('english'))\n",
    "    filtered_words = [word for word in words if word not in stop_words and len(word) > 3]\n",
    "    \n",
    "    # Count words\n",
    "    word_counts = Counter(filtered_words)\n",
    "    \n",
    "    # Create wordcloud\n",
    "    wordcloud = WordCloud(width=800, height=400, background_color='white', max_words=100).generate_from_frequencies(word_counts)\n",
    "    \n",
    "    # Display\n",
    "    plt.figure(figsize=(16, 8))\n",
    "    plt.imshow(wordcloud, interpolation='bilinear')\n",
    "    plt.axis('off')\n",
    "    plt.title('Word Cloud of Post Content')\n",
    "    plt.show()\n",
    "\n",
    "# Combine titles and selftext (for text posts)\n",
    "recent_posts_df['combined_text'] = recent_posts_df['title'] + ' ' + recent_posts_df['selftext']\n",
    "create_word_cloud(recent_posts_df['combined_text'])"
   ]
  },
  {
   "cell_type": "markdown",
   "metadata": {},
   "source": [
    "## Analyze Comment Sentiment (Optional)\n",
    "\n",
    "You can add sentiment analysis to better understand the emotional tone of comments."
   ]
  },
  {
   "cell_type": "code",
   "execution_count": 14,
   "metadata": {},
   "outputs": [
    {
     "name": "stdout",
     "output_type": "stream",
     "text": [
      "Collecting vaderSentiment\n",
      "  Downloading vaderSentiment-3.3.2-py2.py3-none-any.whl.metadata (572 bytes)\n",
      "Requirement already satisfied: requests in /Users/seanmacbook/Projects/google_play_store_review_crawl/.venv/lib/python3.11/site-packages (from vaderSentiment) (2.23.0)\n",
      "Requirement already satisfied: chardet<4,>=3.0.2 in /Users/seanmacbook/Projects/google_play_store_review_crawl/.venv/lib/python3.11/site-packages (from requests->vaderSentiment) (3.0.4)\n",
      "Requirement already satisfied: idna<3,>=2.5 in /Users/seanmacbook/Projects/google_play_store_review_crawl/.venv/lib/python3.11/site-packages (from requests->vaderSentiment) (2.10)\n",
      "Requirement already satisfied: urllib3!=1.25.0,!=1.25.1,<1.26,>=1.21.1 in /Users/seanmacbook/Projects/google_play_store_review_crawl/.venv/lib/python3.11/site-packages (from requests->vaderSentiment) (1.25.11)\n",
      "Requirement already satisfied: certifi>=2017.4.17 in /Users/seanmacbook/Projects/google_play_store_review_crawl/.venv/lib/python3.11/site-packages (from requests->vaderSentiment) (2025.1.31)\n",
      "Downloading vaderSentiment-3.3.2-py2.py3-none-any.whl (125 kB)\n",
      "Installing collected packages: vaderSentiment\n",
      "Successfully installed vaderSentiment-3.3.2\n"
     ]
    },
    {
     "name": "stderr",
     "output_type": "stream",
     "text": [
      "[nltk_data] Downloading package vader_lexicon to\n",
      "[nltk_data]     /Users/seanmacbook/nltk_data...\n",
      "[nltk_data]   Package vader_lexicon is already up-to-date!\n"
     ]
    },
    {
     "data": {
      "image/png": "[encoded data removed]",
      "text/plain": [
       "<Figure size 1000x600 with 1 Axes>"
      ]
     },
     "metadata": {},
     "output_type": "display_data"
    }
   ],
   "source": [
    "# Install and import VADER for sentiment analysis\n",
    "!pip install vaderSentiment\n",
    "from vaderSentiment.vaderSentiment import SentimentIntensityAnalyzer\n",
    "\n",
    "# Download NLTK sentiment analyzers\n",
    "nltk.download('vader_lexicon')\n",
    "\n",
    "# Initialize the sentiment analyzer\n",
    "analyzer = SentimentIntensityAnalyzer()\n",
    "\n",
    "# Function to get sentiment scores\n",
    "def get_sentiment(text):\n",
    "    if pd.isna(text) or text == '':\n",
    "        return None\n",
    "    return analyzer.polarity_scores(text)\n",
    "\n",
    "# Apply sentiment analysis to comments\n",
    "all_comments_df['sentiment'] = all_comments_df['body'].apply(get_sentiment)\n",
    "all_comments_df['compound_score'] = all_comments_df['sentiment'].apply(lambda x: x['compound'] if x else None)\n",
    "\n",
    "# Plot sentiment distribution\n",
    "plt.figure(figsize=(10, 6))\n",
    "plt.hist(all_comments_df['compound_score'].dropna(), bins=20)\n",
    "plt.title('Comment Sentiment Distribution')\n",
    "plt.xlabel('Compound Sentiment Score (-1 to 1)')\n",
    "plt.ylabel('Frequency')\n",
    "plt.show()"
   ]
  },
  {
   "cell_type": "markdown",
   "metadata": {},
   "source": [
    "## Search for Specific Topics\n",
    "\n",
    "Let's search for specific diabetes-related topics in the subreddit."
   ]
  },
  {
   "cell_type": "code",
   "execution_count": 15,
   "metadata": {},
   "outputs": [
    {
     "name": "stdout",
     "output_type": "stream",
     "text": [
      "Searching for 'insulin'...\n",
      "Found 50 posts\n",
      "Searching for 'CGM'...\n",
      "Found 50 posts\n",
      "Searching for 'A1C'...\n",
      "Found 50 posts\n",
      "Searching for 'pump'...\n",
      "Found 50 posts\n",
      "Searching for 'low carb'...\n",
      "Found 50 posts\n"
     ]
    }
   ],
   "source": [
    "def search_subreddit(query, limit=100):\n",
    "    \"\"\"Search the subreddit for a specific query\"\"\"\n",
    "    posts_data = []\n",
    "    \n",
    "    for post in subreddit.search(query, limit=limit):\n",
    "        # Extract post data (same as before)\n",
    "        post_data = {\n",
    "            'id': post.id,\n",
    "            'title': post.title,\n",
    "            'score': post.score,\n",
    "            'created_utc': datetime.datetime.fromtimestamp(post.created_utc),\n",
    "            'author': str(post.author),\n",
    "            'num_comments': post.num_comments,\n",
    "            'permalink': post.permalink,\n",
    "            'selftext': post.selftext if post.is_self else '',\n",
    "            'link_flair_text': post.link_flair_text\n",
    "        }\n",
    "        posts_data.append(post_data)\n",
    "        \n",
    "    return pd.DataFrame(posts_data)\n",
    "\n",
    "# Search for some common diabetes-related terms\n",
    "search_terms = ['insulin', 'CGM', 'A1C', 'pump', 'low carb']\n",
    "search_results = {}\n",
    "\n",
    "for term in search_terms:\n",
    "    print(f\"Searching for '{term}'...\")\n",
    "    search_results[term] = search_subreddit(term, limit=50)\n",
    "    print(f\"Found {len(search_results[term])} posts\")\n",
    "    time.sleep(2)  # Be nice to Reddit's servers"
   ]
  },
  {
   "cell_type": "code",
   "execution_count": 16,
   "metadata": {},
   "outputs": [
    {
     "data": {
      "application/vnd.microsoft.datawrangler.viewer.v0+json": {
       "columns": [
        {
         "name": "index",
         "rawType": "int64",
         "type": "integer"
        },
        {
         "name": "topic",
         "rawType": "object",
         "type": "string"
        },
        {
         "name": "post_count",
         "rawType": "int64",
         "type": "integer"
        },
        {
         "name": "avg_score",
         "rawType": "float64",
         "type": "float"
        },
        {
         "name": "avg_comments",
         "rawType": "float64",
         "type": "float"
        },
        {
         "name": "recent_post_count",
         "rawType": "int64",
         "type": "integer"
        }
       ],
       "conversionMethod": "pd.DataFrame",
       "ref": "4465ebac-f0a7-49b5-84b4-0e602001c245",
       "rows": [
        [
         "0",
         "insulin",
         "50",
         "327.28",
         "130.64",
         "3"
        ],
        [
         "1",
         "CGM",
         "50",
         "87.5",
         "63.28",
         "11"
        ],
        [
         "2",
         "A1C",
         "50",
         "156.52",
         "63.58",
         "8"
        ],
        [
         "3",
         "pump",
         "50",
         "128.22",
         "43.54",
         "11"
        ],
        [
         "4",
         "low carb",
         "50",
         "38.86",
         "51.84",
         "6"
        ]
       ],
       "shape": {
        "columns": 5,
        "rows": 5
       }
      },
      "text/html": [
       "<div>\n",
       "<style scoped>\n",
       "    .dataframe tbody tr th:only-of-type {\n",
       "        vertical-align: middle;\n",
       "    }\n",
       "\n",
       "    .dataframe tbody tr th {\n",
       "        vertical-align: top;\n",
       "    }\n",
       "\n",
       "    .dataframe thead th {\n",
       "        text-align: right;\n",
       "    }\n",
       "</style>\n",
       "<table border=\"1\" class=\"dataframe\">\n",
       "  <thead>\n",
       "    <tr style=\"text-align: right;\">\n",
       "      <th></th>\n",
       "      <th>topic</th>\n",
       "      <th>post_count</th>\n",
       "      <th>avg_score</th>\n",
       "      <th>avg_comments</th>\n",
       "      <th>recent_post_count</th>\n",
       "    </tr>\n",
       "  </thead>\n",
       "  <tbody>\n",
       "    <tr>\n",
       "      <th>0</th>\n",
       "      <td>insulin</td>\n",
       "      <td>50</td>\n",
       "      <td>327.28</td>\n",
       "      <td>130.64</td>\n",
       "      <td>3</td>\n",
       "    </tr>\n",
       "    <tr>\n",
       "      <th>1</th>\n",
       "      <td>CGM</td>\n",
       "      <td>50</td>\n",
       "      <td>87.50</td>\n",
       "      <td>63.28</td>\n",
       "      <td>11</td>\n",
       "    </tr>\n",
       "    <tr>\n",
       "      <th>2</th>\n",
       "      <td>A1C</td>\n",
       "      <td>50</td>\n",
       "      <td>156.52</td>\n",
       "      <td>63.58</td>\n",
       "      <td>8</td>\n",
       "    </tr>\n",
       "    <tr>\n",
       "      <th>3</th>\n",
       "      <td>pump</td>\n",
       "      <td>50</td>\n",
       "      <td>128.22</td>\n",
       "      <td>43.54</td>\n",
       "      <td>11</td>\n",
       "    </tr>\n",
       "    <tr>\n",
       "      <th>4</th>\n",
       "      <td>low carb</td>\n",
       "      <td>50</td>\n",
       "      <td>38.86</td>\n",
       "      <td>51.84</td>\n",
       "      <td>6</td>\n",
       "    </tr>\n",
       "  </tbody>\n",
       "</table>\n",
       "</div>"
      ],
      "text/plain": [
       "      topic  post_count  avg_score  avg_comments  recent_post_count\n",
       "0   insulin          50     327.28        130.64                  3\n",
       "1       CGM          50      87.50         63.28                 11\n",
       "2       A1C          50     156.52         63.58                  8\n",
       "3      pump          50     128.22         43.54                 11\n",
       "4  low carb          50      38.86         51.84                  6"
      ]
     },
     "execution_count": 16,
     "metadata": {},
     "output_type": "execute_result"
    }
   ],
   "source": [
    "# Compare popularity of different topics\n",
    "topic_stats = []\n",
    "\n",
    "for term, df in search_results.items():\n",
    "    stats = {\n",
    "        'topic': term,\n",
    "        'post_count': len(df),\n",
    "        'avg_score': df['score'].mean(),\n",
    "        'avg_comments': df['num_comments'].mean(),\n",
    "        'recent_post_count': sum(df['created_utc'] > (datetime.datetime.now() - datetime.timedelta(days=30)))\n",
    "    }\n",
    "    topic_stats.append(stats)\n",
    "\n",
    "topic_stats_df = pd.DataFrame(topic_stats)\n",
    "topic_stats_df"
   ]
  },
  {
   "cell_type": "code",
   "execution_count": 17,
   "metadata": {},
   "outputs": [
    {
     "data": {
      "image/png": "[encoded data removed]",
      "text/plain": [
       "<Figure size 1200x600 with 1 Axes>"
      ]
     },
     "metadata": {},
     "output_type": "display_data"
    },
    {
     "data": {
      "image/png": "[encoded data removed]",
      "text/plain": [
       "<Figure size 1200x600 with 1 Axes>"
      ]
     },
     "metadata": {},
     "output_type": "display_data"
    }
   ],
   "source": [
    "# Visualize topic popularity\n",
    "plt.figure(figsize=(12, 6))\n",
    "plt.bar(topic_stats_df['topic'], topic_stats_df['avg_score'])\n",
    "plt.title('Average Score by Topic')\n",
    "plt.xlabel('Topic')\n",
    "plt.ylabel('Average Score')\n",
    "plt.show()\n",
    "\n",
    "plt.figure(figsize=(12, 6))\n",
    "plt.bar(topic_stats_df['topic'], topic_stats_df['avg_comments'])\n",
    "plt.title('Average Comment Count by Topic')\n",
    "plt.xlabel('Topic')\n",
    "plt.ylabel('Average Comments')\n",
    "plt.show()"
   ]
  },
  {
   "cell_type": "markdown",
   "metadata": {},
   "source": [
    "## Monitor the Subreddit in Real-time (Optional)\n",
    "\n",
    "You can also set up a stream to monitor new posts and comments in real-time."
   ]
  },
  {
   "cell_type": "code",
   "execution_count": 18,
   "metadata": {},
   "outputs": [],
   "source": [
    "def monitor_subreddit(duration_seconds=60):\n",
    "    \"\"\"Monitor the subreddit for new submissions for a specified duration\"\"\"\n",
    "    print(f\"Monitoring r/{subreddit.display_name} for {duration_seconds} seconds...\")\n",
    "    start_time = time.time()\n",
    "    \n",
    "    for submission in subreddit.stream.submissions():\n",
    "        elapsed_time = time.time() - start_time\n",
    "        if elapsed_time > duration_seconds:\n",
    "            break\n",
    "            \n",
    "        print(f\"\\nNew post detected at {datetime.datetime.now()}:\")\n",
    "        print(f\"Title: {submission.title}\")\n",
    "        print(f\"Author: {submission.author}\")\n",
    "        print(f\"URL: https://www.reddit.com{submission.permalink}\")\n",
    "        \n",
    "    print(\"\\nMonitoring complete.\")\n",
    "\n",
    "# Uncomment to monitor the subreddit for 60 seconds\n",
    "# monitor_subreddit(60)"
   ]
  },
  {
   "cell_type": "markdown",
   "metadata": {},
   "source": [
    "## Conclusion\n",
    "\n",
    "This notebook demonstrates how to use PRAW to scrape and analyze data from the r/diabetes subreddit. You can extend this to:\n",
    "\n",
    "1. Collect more comprehensive data over time\n",
    "2. Perform more advanced text analysis\n",
    "3. Create a dashboard for monitoring diabetic topics and trends\n",
    "4. Analyze user behavior and community engagement\n",
    "\n",
    "Remember to respect Reddit's API rules and rate limits, and to be mindful of privacy considerations when analyzing user data."
   ]
  },
  {
   "cell_type": "markdown",
   "metadata": {},
   "source": [
    "## Important Notes on Ethical Web Scraping\n",
    "\n",
    "When scraping Reddit or any website, always:\n",
    "\n",
    "1. Follow the site's Terms of Service and robots.txt rules\n",
    "2. Respect rate limits to avoid overloading servers\n",
    "3. Be transparent about your scraping activities\n",
    "4. Anonymize any personal data you collect\n",
    "5. Use the data responsibly, especially for health-related topics\n",
    "\n",
    "Reddit's API has specific rules about scraping. Always check the latest [Reddit API Terms](https://www.redditinc.com/policies/data-api-terms) before proceeding."
   ]
  },
  {
   "cell_type": "markdown",
   "metadata": {},
   "source": []
  }
 ],
 "metadata": {
  "kernelspec": {
   "display_name": ".venv",
   "language": "python",
   "name": "python3"
  },
  "language_info": {
   "codemirror_mode": {
    "name": "ipython",
    "version": 3
   },
   "file_extension": ".py",
   "mimetype": "text/x-python",
   "name": "python",
   "nbconvert_exporter": "python",
   "pygments_lexer": "ipython3",
   "version": "3.11.10"
  }
 },
 "nbformat": 4,
 "nbformat_minor": 4
}
