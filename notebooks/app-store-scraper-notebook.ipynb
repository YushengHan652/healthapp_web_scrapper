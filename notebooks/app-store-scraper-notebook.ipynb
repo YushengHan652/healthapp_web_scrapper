{
 "cells": [
  {
   "cell_type": "markdown",
   "metadata": {},
   "source": [
    "# App Store Digital Health Apps Analysis\n",
    "\n",
    "This notebook demonstrates how to:\n",
    "1. Search for \"digital health\" apps in the Apple App Store\n",
    "2. Scrape reviews for each app\n",
    "3. Analyze the review data using pandas and numpy\n",
    "4. Visualize insights from the reviews\n"
   ]
  },
  {
   "cell_type": "markdown",
   "metadata": {},
   "source": [
    "## 1. Setup and Installation\n",
    "\n",
    "First, let's install the required packages."
   ]
  },
  {
   "cell_type": "code",
   "execution_count": 1,
   "metadata": {},
   "outputs": [
    {
     "name": "stdout",
     "output_type": "stream",
     "text": [
      "Requirement already satisfied: app-store-scraper in /Users/seanmacbook/Projects/google_play_store_review_crawl/.venv/lib/python3.11/site-packages (0.3.5)\n",
      "Requirement already satisfied: pandas in /Users/seanmacbook/Projects/google_play_store_review_crawl/.venv/lib/python3.11/site-packages (2.2.3)\n",
      "Requirement already satisfied: numpy in /Users/seanmacbook/Projects/google_play_store_review_crawl/.venv/lib/python3.11/site-packages (2.2.4)\n",
      "Requirement already satisfied: matplotlib in /Users/seanmacbook/Projects/google_play_store_review_crawl/.venv/lib/python3.11/site-packages (3.10.1)\n",
      "Requirement already satisfied: seaborn in /Users/seanmacbook/Projects/google_play_store_review_crawl/.venv/lib/python3.11/site-packages (0.13.2)\n",
      "Requirement already satisfied: nltk in /Users/seanmacbook/Projects/google_play_store_review_crawl/.venv/lib/python3.11/site-packages (3.9.1)\n",
      "Requirement already satisfied: wordcloud in /Users/seanmacbook/Projects/google_play_store_review_crawl/.venv/lib/python3.11/site-packages (1.9.4)\n",
      "Requirement already satisfied: tqdm in /Users/seanmacbook/Projects/google_play_store_review_crawl/.venv/lib/python3.11/site-packages (4.67.1)\n",
      "Requirement already satisfied: requests==2.23.0 in /Users/seanmacbook/Projects/google_play_store_review_crawl/.venv/lib/python3.11/site-packages (from app-store-scraper) (2.23.0)\n",
      "Requirement already satisfied: chardet<4,>=3.0.2 in /Users/seanmacbook/Projects/google_play_store_review_crawl/.venv/lib/python3.11/site-packages (from requests==2.23.0->app-store-scraper) (3.0.4)\n",
      "Requirement already satisfied: idna<3,>=2.5 in /Users/seanmacbook/Projects/google_play_store_review_crawl/.venv/lib/python3.11/site-packages (from requests==2.23.0->app-store-scraper) (2.10)\n",
      "Requirement already satisfied: urllib3!=1.25.0,!=1.25.1,<1.26,>=1.21.1 in /Users/seanmacbook/Projects/google_play_store_review_crawl/.venv/lib/python3.11/site-packages (from requests==2.23.0->app-store-scraper) (1.25.11)\n",
      "Requirement already satisfied: certifi>=2017.4.17 in /Users/seanmacbook/Projects/google_play_store_review_crawl/.venv/lib/python3.11/site-packages (from requests==2.23.0->app-store-scraper) (2025.1.31)\n",
      "Requirement already satisfied: python-dateutil>=2.8.2 in /Users/seanmacbook/Projects/google_play_store_review_crawl/.venv/lib/python3.11/site-packages (from pandas) (2.9.0.post0)\n",
      "Requirement already satisfied: pytz>=2020.1 in /Users/seanmacbook/Projects/google_play_store_review_crawl/.venv/lib/python3.11/site-packages (from pandas) (2025.2)\n",
      "Requirement already satisfied: tzdata>=2022.7 in /Users/seanmacbook/Projects/google_play_store_review_crawl/.venv/lib/python3.11/site-packages (from pandas) (2025.2)\n",
      "Requirement already satisfied: contourpy>=1.0.1 in /Users/seanmacbook/Projects/google_play_store_review_crawl/.venv/lib/python3.11/site-packages (from matplotlib) (1.3.1)\n",
      "Requirement already satisfied: cycler>=0.10 in /Users/seanmacbook/Projects/google_play_store_review_crawl/.venv/lib/python3.11/site-packages (from matplotlib) (0.12.1)\n",
      "Requirement already satisfied: fonttools>=4.22.0 in /Users/seanmacbook/Projects/google_play_store_review_crawl/.venv/lib/python3.11/site-packages (from matplotlib) (4.57.0)\n",
      "Requirement already satisfied: kiwisolver>=1.3.1 in /Users/seanmacbook/Projects/google_play_store_review_crawl/.venv/lib/python3.11/site-packages (from matplotlib) (1.4.8)\n",
      "Requirement already satisfied: packaging>=20.0 in /Users/seanmacbook/Projects/google_play_store_review_crawl/.venv/lib/python3.11/site-packages (from matplotlib) (24.2)\n",
      "Requirement already satisfied: pillow>=8 in /Users/seanmacbook/Projects/google_play_store_review_crawl/.venv/lib/python3.11/site-packages (from matplotlib) (11.1.0)\n",
      "Requirement already satisfied: pyparsing>=2.3.1 in /Users/seanmacbook/Projects/google_play_store_review_crawl/.venv/lib/python3.11/site-packages (from matplotlib) (3.2.3)\n",
      "Requirement already satisfied: click in /Users/seanmacbook/Projects/google_play_store_review_crawl/.venv/lib/python3.11/site-packages (from nltk) (8.1.8)\n",
      "Requirement already satisfied: joblib in /Users/seanmacbook/Projects/google_play_store_review_crawl/.venv/lib/python3.11/site-packages (from nltk) (1.4.2)\n",
      "Requirement already satisfied: regex>=2021.8.3 in /Users/seanmacbook/Projects/google_play_store_review_crawl/.venv/lib/python3.11/site-packages (from nltk) (2024.11.6)\n",
      "Requirement already satisfied: six>=1.5 in /Users/seanmacbook/Projects/google_play_store_review_crawl/.venv/lib/python3.11/site-packages (from python-dateutil>=2.8.2->pandas) (1.17.0)\n"
     ]
    }
   ],
   "source": [
    "# Install required packages\n",
    "!pip install app-store-scraper pandas numpy matplotlib seaborn nltk wordcloud tqdm"
   ]
  },
  {
   "cell_type": "code",
   "execution_count": 2,
   "metadata": {},
   "outputs": [
    {
     "name": "stderr",
     "output_type": "stream",
     "text": [
      "[nltk_data] Downloading package punkt to\n",
      "[nltk_data]     /Users/seanmacbook/nltk_data...\n",
      "[nltk_data]   Package punkt is already up-to-date!\n",
      "[nltk_data] Downloading package stopwords to\n",
      "[nltk_data]     /Users/seanmacbook/nltk_data...\n",
      "[nltk_data]   Package stopwords is already up-to-date!\n",
      "[nltk_data] Downloading package vader_lexicon to\n",
      "[nltk_data]     /Users/seanmacbook/nltk_data...\n"
     ]
    },
    {
     "data": {
      "text/plain": [
       "True"
      ]
     },
     "execution_count": 2,
     "metadata": {},
     "output_type": "execute_result"
    }
   ],
   "source": [
    "# Import necessary libraries\n",
    "import pandas as pd\n",
    "import numpy as np\n",
    "import matplotlib.pyplot as plt\n",
    "import seaborn as sns\n",
    "import nltk\n",
    "from nltk.sentiment import SentimentIntensityAnalyzer\n",
    "from nltk.corpus import stopwords\n",
    "from nltk.tokenize import word_tokenize\n",
    "from wordcloud import WordCloud\n",
    "from tqdm.notebook import tqdm\n",
    "import re\n",
    "import time\n",
    "import json\n",
    "import datetime\n",
    "from app_store_scraper import AppStore\n",
    "\n",
    "# Set display options\n",
    "pd.set_option('display.max_columns', None)\n",
    "pd.set_option('display.max_rows', 20)\n",
    "pd.set_option('display.width', 1000)\n",
    "\n",
    "# Download NLTK resources\n",
    "nltk.download('punkt')\n",
    "nltk.download('stopwords')\n",
    "nltk.download('vader_lexicon')"
   ]
  },
  {
   "cell_type": "markdown",
   "metadata": {},
   "source": [
    "## 2. Searching for Digital Health Apps\n",
    "\n",
    "To find all apps related to \"digital health\", we need to search the App Store. Since `app_store_scraper` doesn't have a direct search function for discovering apps, we'll use a workaround approach with a list of common digital health app names and search terms."
   ]
  },
  {
   "cell_type": "code",
   "execution_count": 3,
   "metadata": {},
   "outputs": [],
   "source": [
    "# Let's define a list of common digital health app categories and search terms\n",
    "search_terms = [\n",
    "    \"digital health\", \n",
    "    \"health tracker\", \n",
    "    \"medical records\", \n",
    "    \"telemedicine\", \n",
    "    \"mental health\", \n",
    "    \"fitness tracker\", \n",
    "    \"meditation\", \n",
    "    \"sleep tracker\", \n",
    "    \"pill reminder\", \n",
    "    \"health monitoring\",\n",
    "    \"doctor appointment\",\n",
    "    \"wellness app\"\n",
    "]\n",
    "\n",
    "# Since app_store_scraper doesn't have a direct search function,\n",
    "# we'll use a known list of popular health apps and expand it with our search terms\n",
    "known_health_apps = [\n",
    "    {\"name\": \"MyFitnessPal\", \"id\": 341232718, \"country\": \"us\"},\n",
    "    {\"name\": \"Calm\", \"id\": 571800810, \"country\": \"us\"},\n",
    "    {\"name\": \"Headspace\", \"id\": 493145008, \"country\": \"us\"},\n",
    "    {\"name\": \"Fitbit\", \"id\": 462638897, \"country\": \"us\"},\n",
    "    {\"name\": \"Apple Health\", \"id\": 1242545199, \"country\": \"us\"},\n",
    "    {\"name\": \"Medisafe\", \"id\": 573916946, \"country\": \"us\"},\n",
    "    {\"name\": \"Flo\", \"id\": 1038369065, \"country\": \"us\"},\n",
    "    {\"name\": \"Teladoc\", \"id\": 656872607, \"country\": \"us\"},\n",
    "    {\"name\": \"Mayo Clinic\", \"id\": 312557633, \"country\": \"us\"},\n",
    "    {\"name\": \"WebMD\", \"id\": 295076329, \"country\": \"us\"},\n",
    "    {\"name\": \"Sleep Cycle\", \"id\": 320606217, \"country\": \"us\"},\n",
    "    {\"name\": \"Clue\", \"id\": 657189652, \"country\": \"us\"},\n",
    "    {\"name\": \"Lose It!\", \"id\": 297368629, \"country\": \"us\"},\n",
    "    {\"name\": \"Doximity\", \"id\": 393642611, \"country\": \"us\"},\n",
    "    {\"name\": \"Noom\", \"id\": 634598719, \"country\": \"us\"},\n",
    "    {\"name\": \"Talkspace\", \"id\": 661681264, \"country\": \"us\"},\n",
    "    {\"name\": \"BetterHelp\", \"id\": 995252384, \"country\": \"us\"},\n",
    "    {\"name\": \"7 Minute Workout\", \"id\": 650762525, \"country\": \"us\"},\n",
    "    {\"name\": \"Peloton\", \"id\": 792750948, \"country\": \"us\"},\n",
    "    {\"name\": \"Glucose Buddy\", \"id\": 294754639, \"country\": \"us\"}\n",
    "]"
   ]
  },
  {
   "cell_type": "markdown",
   "metadata": {},
   "source": [
    "## 3. Retrieve App Details and Reviews\n",
    "\n",
    "Now we'll iterate through the list of known health apps and scrape their details and reviews."
   ]
  },
  {
   "cell_type": "code",
   "execution_count": 4,
   "metadata": {},
   "outputs": [
    {
     "data": {
      "application/vnd.jupyter.widget-view+json": {
       "model_id": "2a48518cbbf64e738d29999f1070d466",
       "version_major": 2,
       "version_minor": 0
      },
      "text/plain": [
       "Scraping apps:   0%|          | 0/20 [00:00<?, ?it/s]"
      ]
     },
     "metadata": {},
     "output_type": "display_data"
    },
    {
     "name": "stderr",
     "output_type": "stream",
     "text": [
      "2025-04-05 00:47:12,385 [INFO] Base - Initialised: AppStore('us', 'myfitnesspal', 341232718)\n",
      "2025-04-05 00:47:12,386 [INFO] Base - Ready to fetch reviews from: https://apps.apple.com/us/app/myfitnesspal/id341232718\n",
      "2025-04-05 00:47:15,515 [INFO] Base - [id:341232718] Fetched 200 reviews (200 fetched in total)\n",
      "2025-04-05 00:47:17,981 [INFO] Base - Initialised: AppStore('us', 'calm', 571800810)\n",
      "2025-04-05 00:47:17,982 [INFO] Base - Ready to fetch reviews from: https://apps.apple.com/us/app/calm/id571800810\n",
      "2025-04-05 00:47:20,331 [INFO] Base - [id:571800810] Fetched 200 reviews (200 fetched in total)\n",
      "2025-04-05 00:47:22,957 [INFO] Base - Initialised: AppStore('us', 'headspace', 493145008)\n",
      "2025-04-05 00:47:22,958 [INFO] Base - Ready to fetch reviews from: https://apps.apple.com/us/app/headspace/id493145008\n",
      "2025-04-05 00:47:25,400 [INFO] Base - [id:493145008] Fetched 200 reviews (200 fetched in total)\n",
      "2025-04-05 00:47:28,091 [INFO] Base - Initialised: AppStore('us', 'fitbit', 462638897)\n",
      "2025-04-05 00:47:28,091 [INFO] Base - Ready to fetch reviews from: https://apps.apple.com/us/app/fitbit/id462638897\n",
      "2025-04-05 00:47:30,648 [INFO] Base - [id:462638897] Fetched 200 reviews (200 fetched in total)\n",
      "2025-04-05 00:47:33,229 [INFO] Base - Initialised: AppStore('us', 'apple-health', 1242545199)\n",
      "2025-04-05 00:47:33,230 [INFO] Base - Ready to fetch reviews from: https://apps.apple.com/us/app/apple-health/id1242545199\n",
      "2025-04-05 00:47:35,001 [INFO] Base - [id:1242545199] Fetched 200 reviews (200 fetched in total)\n",
      "2025-04-05 00:47:37,632 [INFO] Base - Initialised: AppStore('us', 'medisafe', 573916946)\n",
      "2025-04-05 00:47:37,632 [INFO] Base - Ready to fetch reviews from: https://apps.apple.com/us/app/medisafe/id573916946\n",
      "2025-04-05 00:47:39,179 [INFO] Base - [id:573916946] Fetched 200 reviews (200 fetched in total)\n",
      "2025-04-05 00:47:41,943 [INFO] Base - Initialised: AppStore('us', 'flo', 1038369065)\n",
      "2025-04-05 00:47:41,944 [INFO] Base - Ready to fetch reviews from: https://apps.apple.com/us/app/flo/id1038369065\n",
      "2025-04-05 00:47:44,148 [INFO] Base - [id:1038369065] Fetched 200 reviews (200 fetched in total)\n",
      "2025-04-05 00:47:46,781 [INFO] Base - Initialised: AppStore('us', 'teladoc', 656872607)\n",
      "2025-04-05 00:47:46,781 [INFO] Base - Ready to fetch reviews from: https://apps.apple.com/us/app/teladoc/id656872607\n",
      "2025-04-05 00:47:48,619 [INFO] Base - [id:656872607] Fetched 200 reviews (200 fetched in total)\n",
      "2025-04-05 00:47:50,875 [INFO] Base - Initialised: AppStore('us', 'mayo-clinic', 312557633)\n",
      "2025-04-05 00:47:50,876 [INFO] Base - Ready to fetch reviews from: https://apps.apple.com/us/app/mayo-clinic/id312557633\n",
      "2025-04-05 00:48:09,190 [ERROR] Base - Something went wrong: HTTPSConnectionPool(host='amp-api.apps.apple.com', port=443): Max retries exceeded with url: /v1/catalog/us/apps/312557633/reviews?l=en-GB&offset=0&limit=20&platform=web&additionalPlatforms=appletv%2Cipad%2Ciphone%2Cmac (Caused by ResponseError('too many 404 error responses'))\n",
      "2025-04-05 00:48:09,197 [INFO] Base - [id:312557633] Fetched 0 reviews (0 fetched in total)\n",
      "2025-04-05 00:48:12,047 [INFO] Base - Initialised: AppStore('us', 'webmd', 295076329)\n",
      "2025-04-05 00:48:12,048 [INFO] Base - Ready to fetch reviews from: https://apps.apple.com/us/app/webmd/id295076329\n",
      "2025-04-05 00:48:14,157 [INFO] Base - [id:295076329] Fetched 200 reviews (200 fetched in total)\n",
      "2025-04-05 00:48:16,842 [INFO] Base - Initialised: AppStore('us', 'sleep-cycle', 320606217)\n",
      "2025-04-05 00:48:16,843 [INFO] Base - Ready to fetch reviews from: https://apps.apple.com/us/app/sleep-cycle/id320606217\n",
      "2025-04-05 00:48:19,385 [INFO] Base - [id:320606217] Fetched 200 reviews (200 fetched in total)\n",
      "2025-04-05 00:48:22,187 [INFO] Base - Initialised: AppStore('us', 'clue', 657189652)\n",
      "2025-04-05 00:48:22,188 [INFO] Base - Ready to fetch reviews from: https://apps.apple.com/us/app/clue/id657189652\n",
      "2025-04-05 00:48:25,173 [INFO] Base - [id:657189652] Fetched 200 reviews (200 fetched in total)\n",
      "2025-04-05 00:48:27,816 [INFO] Base - Initialised: AppStore('us', 'lose-it-', 297368629)\n",
      "2025-04-05 00:48:27,817 [INFO] Base - Ready to fetch reviews from: https://apps.apple.com/us/app/lose-it-/id297368629\n",
      "2025-04-05 00:48:29,974 [INFO] Base - [id:297368629] Fetched 200 reviews (200 fetched in total)\n",
      "2025-04-05 00:48:32,449 [INFO] Base - Initialised: AppStore('us', 'doximity', 393642611)\n",
      "2025-04-05 00:48:32,449 [INFO] Base - Ready to fetch reviews from: https://apps.apple.com/us/app/doximity/id393642611\n",
      "2025-04-05 00:48:34,435 [INFO] Base - [id:393642611] Fetched 200 reviews (200 fetched in total)\n",
      "2025-04-05 00:48:37,073 [INFO] Base - Initialised: AppStore('us', 'noom', 634598719)\n",
      "2025-04-05 00:48:37,074 [INFO] Base - Ready to fetch reviews from: https://apps.apple.com/us/app/noom/id634598719\n",
      "2025-04-05 00:48:39,664 [INFO] Base - [id:634598719] Fetched 200 reviews (200 fetched in total)\n",
      "2025-04-05 00:48:41,907 [INFO] Base - Initialised: AppStore('us', 'talkspace', 661681264)\n",
      "2025-04-05 00:48:41,908 [INFO] Base - Ready to fetch reviews from: https://apps.apple.com/us/app/talkspace/id661681264\n",
      "2025-04-05 00:49:00,214 [ERROR] Base - Something went wrong: HTTPSConnectionPool(host='amp-api.apps.apple.com', port=443): Max retries exceeded with url: /v1/catalog/us/apps/661681264/reviews?l=en-GB&offset=0&limit=20&platform=web&additionalPlatforms=appletv%2Cipad%2Ciphone%2Cmac (Caused by ResponseError('too many 404 error responses'))\n",
      "2025-04-05 00:49:00,216 [INFO] Base - [id:661681264] Fetched 0 reviews (0 fetched in total)\n",
      "2025-04-05 00:49:02,983 [INFO] Base - Initialised: AppStore('us', 'betterhelp', 995252384)\n",
      "2025-04-05 00:49:02,984 [INFO] Base - Ready to fetch reviews from: https://apps.apple.com/us/app/betterhelp/id995252384\n",
      "2025-04-05 00:49:05,576 [INFO] Base - [id:995252384] Fetched 200 reviews (200 fetched in total)\n",
      "2025-04-05 00:49:08,051 [INFO] Base - Initialised: AppStore('us', '7-minute-workout', 650762525)\n",
      "2025-04-05 00:49:08,052 [INFO] Base - Ready to fetch reviews from: https://apps.apple.com/us/app/7-minute-workout/id650762525\n",
      "2025-04-05 00:49:09,932 [INFO] Base - [id:650762525] Fetched 200 reviews (200 fetched in total)\n",
      "2025-04-05 00:49:12,679 [INFO] Base - Initialised: AppStore('us', 'peloton', 792750948)\n",
      "2025-04-05 00:49:12,680 [INFO] Base - Ready to fetch reviews from: https://apps.apple.com/us/app/peloton/id792750948\n",
      "2025-04-05 00:49:14,442 [INFO] Base - [id:792750948] Fetched 200 reviews (200 fetched in total)\n",
      "2025-04-05 00:49:17,118 [INFO] Base - Initialised: AppStore('us', 'glucose-buddy', 294754639)\n",
      "2025-04-05 00:49:17,119 [INFO] Base - Ready to fetch reviews from: https://apps.apple.com/us/app/glucose-buddy/id294754639\n",
      "2025-04-05 00:49:18,876 [INFO] Base - [id:294754639] Fetched 200 reviews (200 fetched in total)\n"
     ]
    },
    {
     "name": "stdout",
     "output_type": "stream",
     "text": [
      "Total apps scraped: 18\n",
      "Total reviews collected: 3600\n"
     ]
    }
   ],
   "source": [
    "# Function to get app details and reviews\n",
    "def get_app_details_and_reviews(app_info, max_reviews=100):\n",
    "    \"\"\"\n",
    "    Scrapes app details and reviews using app_store_scraper\n",
    "    \n",
    "    Args:\n",
    "        app_info (dict): Dictionary containing app name, id, and country\n",
    "        max_reviews (int): Maximum number of reviews to scrape\n",
    "        \n",
    "    Returns:\n",
    "        tuple: App details and DataFrame of reviews\n",
    "    \"\"\"\n",
    "    try:\n",
    "        # Initialize scraper for the app\n",
    "        app = AppStore(country=app_info['country'], \n",
    "                       app_name=app_info['name'], \n",
    "                       app_id=app_info['id'])\n",
    "        \n",
    "        # Get app details\n",
    "        app_details = {\n",
    "            'name': app_info['name'],\n",
    "            'id': app_info['id'],\n",
    "            'country': app_info['country']\n",
    "        }\n",
    "        \n",
    "        # Scrape reviews\n",
    "        app.review(how_many=max_reviews)  # This will get up to max_reviews\n",
    "        \n",
    "        # Convert to DataFrame\n",
    "        reviews_df = pd.DataFrame(app.reviews)\n",
    "        \n",
    "        # Add app info to reviews\n",
    "        reviews_df['app_name'] = app_info['name']\n",
    "        reviews_df['app_id'] = app_info['id']\n",
    "        \n",
    "        return app_details, reviews_df\n",
    "    \n",
    "    except Exception as e:\n",
    "        print(f\"Error scraping {app_info['name']}: {str(e)}\")\n",
    "        return app_info, pd.DataFrame()\n",
    "\n",
    "# Scrape data for each app with error handling and rate limiting\n",
    "all_apps_details = []\n",
    "all_reviews = []\n",
    "\n",
    "# Use tqdm for progress tracking\n",
    "for app_info in tqdm(known_health_apps, desc=\"Scraping apps\"):\n",
    "    app_details, reviews_df = get_app_details_and_reviews(app_info, max_reviews=200)  # Limit to 200 reviews per app for demonstration\n",
    "    \n",
    "    if not reviews_df.empty:\n",
    "        all_apps_details.append(app_details)\n",
    "        all_reviews.append(reviews_df)\n",
    "    \n",
    "    # Add delay to avoid rate limiting\n",
    "    time.sleep(2)  # 2-second delay between requests\n",
    "\n",
    "# Combine all reviews into a single DataFrame\n",
    "if all_reviews:\n",
    "    reviews_df = pd.concat(all_reviews, ignore_index=True)\n",
    "    print(f\"Total apps scraped: {len(all_apps_details)}\")\n",
    "    print(f\"Total reviews collected: {len(reviews_df)}\")\n",
    "else:\n",
    "    reviews_df = pd.DataFrame()\n",
    "    print(\"No reviews were collected.\")"
   ]
  },
  {
   "cell_type": "markdown",
   "metadata": {},
   "source": [
    "### Save the collected data\n",
    "Let's save our scraped data to files for future use."
   ]
  },
  {
   "cell_type": "code",
   "execution_count": null,
   "metadata": {},
   "outputs": [
    {
     "name": "stdout",
     "output_type": "stream",
     "text": [
      "Data saved to files successfully!\n"
     ]
    }
   ],
   "source": [
    "# Save the data to files\n",
    "if not reviews_df.empty:\n",
    "    # Save app details\n",
    "    with open('app_store_digital_health_apps.json', 'w') as f:\n",
    "        json.dump(all_apps_details, f)\n",
    "    \n",
    "    # Save reviews\n",
    "    reviews_df.to_csv('./data/interim/app_store_digital_health_app_reviews.csv', index=False)\n",
    "    reviews_df.to_pickle('app_store_digital_health_app_reviews.pkl')  # For faster loading in the future\n",
    "    \n",
    "    print(\"Data saved to files successfully!\")"
   ]
  },
  {
   "cell_type": "markdown",
   "metadata": {},
   "source": [
    "## 4. Data Exploration and Cleaning\n",
    "\n",
    "Now let's explore and clean the data we've collected."
   ]
  },
  {
   "cell_type": "code",
   "execution_count": 6,
   "metadata": {},
   "outputs": [
    {
     "name": "stdout",
     "output_type": "stream",
     "text": [
      "DataFrame shape: (3600, 9)\n",
      "\n",
      "Columns in the DataFrame:\n",
      "- date\n",
      "- review\n",
      "- rating\n",
      "- isEdited\n",
      "- title\n",
      "- userName\n",
      "- developerResponse\n",
      "- app_name\n",
      "- app_id\n"
     ]
    }
   ],
   "source": [
    "# Check the DataFrame structure\n",
    "if not reviews_df.empty:\n",
    "    print(\"DataFrame shape:\", reviews_df.shape)\n",
    "    print(\"\\nColumns in the DataFrame:\")\n",
    "    for col in reviews_df.columns:\n",
    "        print(f\"- {col}\")\n",
    "    \n",
    "    # Display first few rows\n",
    "    reviews_df.head()"
   ]
  },
  {
   "cell_type": "code",
   "execution_count": 7,
   "metadata": {},
   "outputs": [
    {
     "name": "stdout",
     "output_type": "stream",
     "text": [
      "\n",
      "Missing values per column:\n",
      "date                    0\n",
      "review                  0\n",
      "rating                  0\n",
      "isEdited                0\n",
      "title                   0\n",
      "userName                0\n",
      "developerResponse    2426\n",
      "app_name                0\n",
      "app_id                  0\n",
      "year                    0\n",
      "month                   0\n",
      "year_month              0\n",
      "clean_review            0\n",
      "review_length           0\n",
      "word_count              0\n",
      "dtype: int64\n"
     ]
    }
   ],
   "source": [
    "# Clean and preprocess the data\n",
    "if not reviews_df.empty:\n",
    "    # Convert date columns to datetime\n",
    "    if 'date' in reviews_df.columns:\n",
    "        reviews_df['date'] = pd.to_datetime(reviews_df['date'])\n",
    "    \n",
    "    # Extract year and month for time-based analysis\n",
    "    if 'date' in reviews_df.columns:\n",
    "        reviews_df['year'] = reviews_df['date'].dt.year\n",
    "        reviews_df['month'] = reviews_df['date'].dt.month\n",
    "        reviews_df['year_month'] = reviews_df['date'].dt.strftime('%Y-%m')\n",
    "    \n",
    "    # Clean review text\n",
    "    if 'review' in reviews_df.columns:\n",
    "        # Remove special characters and extra spaces\n",
    "        reviews_df['clean_review'] = reviews_df['review'].apply(lambda x: re.sub(r'[^\\w\\s]', '', str(x)))\n",
    "        reviews_df['clean_review'] = reviews_df['clean_review'].apply(lambda x: re.sub(r'\\s+', ' ', str(x)).strip())\n",
    "        \n",
    "        # Calculate review length\n",
    "        reviews_df['review_length'] = reviews_df['clean_review'].apply(len)\n",
    "        reviews_df['word_count'] = reviews_df['clean_review'].apply(lambda x: len(str(x).split()))\n",
    "    \n",
    "    # Check for missing values\n",
    "    print(\"\\nMissing values per column:\")\n",
    "    print(reviews_df.isnull().sum())"
   ]
  },
  {
   "cell_type": "markdown",
   "metadata": {},
   "source": [
    "## 5. Basic Analysis of App Reviews\n",
    "\n",
    "Let's analyze the distribution of ratings and review trends."
   ]
  },
  {
   "cell_type": "code",
   "execution_count": 8,
   "metadata": {},
   "outputs": [
    {
     "name": "stderr",
     "output_type": "stream",
     "text": [
      "2025-04-05 00:49:21,359 [INFO] matplotlib.category - Using categorical units to plot a list of strings that are all parsable as floats or dates. If these strings should be plotted as numbers, cast to the appropriate data type before plotting.\n",
      "/var/folders/hb/4s6bp6_s2018cs25zb9xhyvh0000gn/T/ipykernel_23022/4165679081.py:7: FutureWarning: \n",
      "\n",
      "Passing `palette` without assigning `hue` is deprecated and will be removed in v0.14.0. Assign the `x` variable to `hue` and set `legend=False` for the same effect.\n",
      "\n",
      "  sns.countplot(x='rating', data=reviews_df, palette='viridis')\n",
      "2025-04-05 00:49:21,381 [INFO] matplotlib.category - Using categorical units to plot a list of strings that are all parsable as floats or dates. If these strings should be plotted as numbers, cast to the appropriate data type before plotting.\n"
     ]
    },
    {
     "data": {
      "image/png": "[encoded data removed]",
      "text/plain": [
       "<Figure size 1200x600 with 2 Axes>"
      ]
     },
     "metadata": {},
     "output_type": "display_data"
    },
    {
     "name": "stdout",
     "output_type": "stream",
     "text": [
      "Rating Summary Statistics:\n",
      "count    3600.000000\n",
      "mean        3.619167\n",
      "std         1.533082\n",
      "min         1.000000\n",
      "25%         2.000000\n",
      "50%         4.000000\n",
      "75%         5.000000\n",
      "max         5.000000\n",
      "Name: rating, dtype: float64\n",
      "\n",
      "Percentage of ratings:\n",
      "Rating 1: 16.22%\n",
      "Rating 2: 11.33%\n",
      "Rating 3: 12.44%\n",
      "Rating 4: 14.31%\n",
      "Rating 5: 45.69%\n"
     ]
    }
   ],
   "source": [
    "# Analysis of ratings distribution\n",
    "if not reviews_df.empty and 'rating' in reviews_df.columns:\n",
    "    plt.figure(figsize=(12, 6))\n",
    "    \n",
    "    # Overall rating distribution\n",
    "    plt.subplot(1, 2, 1)\n",
    "    sns.countplot(x='rating', data=reviews_df, palette='viridis')\n",
    "    plt.title('Distribution of Ratings')\n",
    "    plt.xlabel('Rating')\n",
    "    plt.ylabel('Count')\n",
    "    \n",
    "    # Average rating by app\n",
    "    plt.subplot(1, 2, 2)\n",
    "    avg_ratings = reviews_df.groupby('app_name')['rating'].mean().sort_values(ascending=False)\n",
    "    avg_ratings.plot(kind='bar', color='teal')\n",
    "    plt.title('Average Rating by App')\n",
    "    plt.xlabel('App')\n",
    "    plt.ylabel('Average Rating')\n",
    "    plt.xticks(rotation=90)\n",
    "    \n",
    "    plt.tight_layout()\n",
    "    plt.show()\n",
    "    \n",
    "    # Print summary statistics\n",
    "    print(\"Rating Summary Statistics:\")\n",
    "    print(reviews_df['rating'].describe())\n",
    "    \n",
    "    # Calculate percentage of ratings by category\n",
    "    rating_counts = reviews_df['rating'].value_counts().sort_index()\n",
    "    rating_percentages = rating_counts / rating_counts.sum() * 100\n",
    "    \n",
    "    print(\"\\nPercentage of ratings:\")\n",
    "    for rating, percentage in rating_percentages.items():\n",
    "        print(f\"Rating {rating}: {percentage:.2f}%\")"
   ]
  },
  {
   "cell_type": "code",
   "execution_count": 9,
   "metadata": {},
   "outputs": [
    {
     "ename": "NameError",
     "evalue": "name 'top_10_apps' is not defined",
     "output_type": "error",
     "traceback": [
      "\u001b[31m---------------------------------------------------------------------------\u001b[39m",
      "\u001b[31mNameError\u001b[39m                                 Traceback (most recent call last)",
      "\u001b[36mCell\u001b[39m\u001b[36m \u001b[39m\u001b[32mIn[9]\u001b[39m\u001b[32m, line 15\u001b[39m\n\u001b[32m     13\u001b[39m \u001b[38;5;66;03m# Top 10 apps comparison\u001b[39;00m\n\u001b[32m     14\u001b[39m plt.subplot(\u001b[32m2\u001b[39m, \u001b[32m1\u001b[39m, \u001b[32m2\u001b[39m)\n\u001b[32m---> \u001b[39m\u001b[32m15\u001b[39m sns.barplot(x=\u001b[33m'\u001b[39m\u001b[33mapp_name\u001b[39m\u001b[33m'\u001b[39m, y=\u001b[33m'\u001b[39m\u001b[33mavg_rating\u001b[39m\u001b[33m'\u001b[39m, data=\u001b[43mtop_10_apps\u001b[49m, palette=\u001b[33m'\u001b[39m\u001b[33mviridis\u001b[39m\u001b[33m'\u001b[39m)\n\u001b[32m     16\u001b[39m plt.title(\u001b[33m'\u001b[39m\u001b[33mTop 10 Apps by Average Rating\u001b[39m\u001b[33m'\u001b[39m)\n\u001b[32m     17\u001b[39m plt.xlabel(\u001b[33m'\u001b[39m\u001b[33mApp Name\u001b[39m\u001b[33m'\u001b[39m)\n",
      "\u001b[31mNameError\u001b[39m: name 'top_10_apps' is not defined"
     ]
    },
    {
     "data": {
      "image/png": "[encoded data removed]",
      "text/plain": [
       "<Figure size 1400x700 with 2 Axes>"
      ]
     },
     "metadata": {},
     "output_type": "display_data"
    }
   ],
   "source": [
    "# Time-based analysis of reviews\n",
    "if not reviews_df.empty and 'date' in reviews_df.columns:\n",
    "    plt.figure(figsize=(14, 7))\n",
    "    \n",
    "    # Reviews over time\n",
    "    reviews_by_month = reviews_df.groupby('year_month').size()\n",
    "    reviews_by_month.plot(kind='line', marker='o', color='royalblue')\n",
    "    plt.title('Number of Reviews Over Time')\n",
    "    plt.xlabel('Year-Month')\n",
    "    plt.ylabel('Number of Reviews')\n",
    "    plt.xticks(rotation=45)\n",
    "    plt.grid(True, linestyle='--', alpha=0.7)\n",
    "    # Top 10 apps comparison\n",
    "    plt.subplot(2, 1, 2)\n",
    "    sns.barplot(x='app_name', y='avg_rating', data=top_10_apps, palette='viridis')\n",
    "    plt.title('Top 10 Apps by Average Rating')\n",
    "    plt.xlabel('App Name')\n",
    "    plt.ylabel('Average Rating')\n",
    "    plt.xticks(rotation=45)\n",
    "    plt.grid(True, linestyle='--', alpha=0.7)\n",
    "    plt.tight_layout()\n",
    "    plt.show()\n",
    "    \n",
    "    plt.tight_layout()\n",
    "    plt.show()\n",
    "    \n",
    "    # Average rating over time\n",
    "    plt.figure(figsize=(14, 7))\n",
    "    avg_rating_by_month = reviews_df.groupby('year_month')['rating'].mean()\n",
    "    avg_rating_by_month.plot(kind='line', marker='o', color='green')\n",
    "    plt.title('Average Rating Over Time')\n",
    "    plt.xlabel('Year-Month')\n",
    "    plt.ylabel('Average Rating')\n",
    "    plt.xticks(rotation=45)\n",
    "    plt.grid(True, linestyle='--', alpha=0.7)\n",
    "    plt.ylim(1, 5)\n",
    "    \n",
    "    plt.tight_layout()\n",
    "    plt.show()"
   ]
  },
  {
   "cell_type": "markdown",
   "metadata": {},
   "source": [
    "## 6. Sentiment Analysis of Reviews\n",
    "\n",
    "Let's analyze the sentiment of the reviews using NLTK's VADER sentiment analyzer."
   ]
  },
  {
   "cell_type": "code",
   "execution_count": null,
   "metadata": {},
   "outputs": [],
   "source": [
    "# Sentiment analysis of reviews\n",
    "if not reviews_df.empty and 'review' in reviews_df.columns:\n",
    "    # Initialize the sentiment analyzer\n",
    "    sia = SentimentIntensityAnalyzer()\n",
    "    \n",
    "    # Apply sentiment analysis to each review\n",
    "    reviews_df['sentiment_scores'] = reviews_df['clean_review'].apply(lambda x: sia.polarity_scores(str(x)))\n",
    "    reviews_df['compound_sentiment'] = reviews_df['sentiment_scores'].apply(lambda x: x['compound'])\n",
    "    \n",
    "    # Categorize sentiment\n",
    "    def categorize_sentiment(score):\n",
    "        if score >= 0.05:\n",
    "            return 'positive'\n",
    "        elif score <= -0.05:\n",
    "            return 'negative'\n",
    "        else:\n",
    "            return 'neutral'\n",
    "    \n",
    "    reviews_df['sentiment_category'] = reviews_df['compound_sentiment'].apply(categorize_sentiment)\n",
    "    \n",
    "    # Plot sentiment distribution\n",
    "    plt.figure(figsize=(12, 6))\n",
    "    \n",
    "    # Sentiment distribution\n",
    "    plt.subplot(1, 2, 1)\n",
    "    sns.countplot(x='sentiment_category', data=reviews_df, palette='RdYlGn')\n",
    "    plt.title('Distribution of Sentiment Categories')\n",
    "    plt.xlabel('Sentiment')\n",
    "    plt.ylabel('Count')\n",
    "    \n",
    "    # Compound sentiment distribution\n",
    "    plt.subplot(1, 2, 2)\n",
    "    sns.histplot(reviews_df['compound_sentiment'], bins=20, kde=True, color='purple')\n",
    "    plt.title('Distribution of Compound Sentiment Scores')\n",
    "    plt.xlabel('Compound Sentiment Score')\n",
    "    plt.ylabel('Count')\n",
    "    \n",
    "    plt.tight_layout()\n",
    "    plt.show()\n",
    "    \n",
    "    # Compare sentiment with ratings\n",
    "    plt.figure(figsize=(10, 6))\n",
    "    sns.boxplot(x='rating', y='compound_sentiment', data=reviews_df, palette='viridis')\n",
    "    plt.title('Relationship Between Rating and Sentiment')\n",
    "    plt.xlabel('Rating')\n",
    "    plt.ylabel('Compound Sentiment Score')\n",
    "    plt.grid(True, linestyle='--', alpha=0.7)\n",
    "    \n",
    "    plt.tight_layout()\n",
    "    plt.show()\n",
    "    \n",
    "    # Average sentiment by app\n",
    "    plt.figure(figsize=(14, 7))\n",
    "    avg_sentiment = reviews_df.groupby('app_name')['compound_sentiment'].mean().sort_values(ascending=False)\n",
    "    avg_sentiment.plot(kind='bar', colormap='RdYlGn')\n",
    "    plt.title('Average Sentiment by App')\n",
    "    plt.xlabel('App')\n",
    "    plt.ylabel('Average Compound Sentiment')\n",
    "    plt.xticks(rotation=90)\n",
    "    plt.grid(True, linestyle='--', alpha=0.7)\n",
    "    \n",
    "    plt.tight_layout()\n",
    "    plt.show()"
   ]
  },
  {
   "cell_type": "markdown",
   "metadata": {},
   "source": [
    "## 7. Word Frequency Analysis\n",
    "\n",
    "Let's analyze the most common words in the reviews."
   ]
  },
  {
   "cell_type": "code",
   "execution_count": null,
   "metadata": {},
   "outputs": [],
   "source": [
    "# Word frequency analysis\n",
    "if not reviews_df.empty and 'clean_review' in reviews_df.columns:\n",
    "    # Get stopwords\n",
    "    stop_words = set(stopwords.words('english'))\n",
    "    additional_stops = {'app', 'apps', 'use', 'using', 'used', 'im', 'ive', 'get', 'also', 'dont', 'cant', 'would', 'one'}\n",
    "    stop_words.update(additional_stops)\n",
    "    \n",
    "    # Tokenize and filter words\n",
    "    def process_text(text):\n",
    "        tokens = word_tokenize(str(text).lower())\n",
    "        return [word for word in tokens if word.isalpha() and word not in stop_words and len(word) > 2]\n",
    "    \n",
    "    # Apply to all reviews\n",
    "    all_words = []\n",
    "    for review in reviews_df['clean_review']:\n",
    "        all_words.extend(process_text(review))\n",
    "    \n",
    "    # Count word frequencies\n",
    "    word_freq = pd.Series(all_words).value_counts().head(30)\n",
    "    \n",
    "    # Plot top words\n",
    "    plt.figure(figsize=(12, 8))\n",
    "    word_freq.plot(kind='bar', color='teal')\n",
    "    plt.title('Top 30 Most Frequent Words in Reviews')\n",
    "    plt.xlabel('Word')\n",
    "    plt.ylabel('Frequency')\n",
    "    plt.xticks(rotation=45)\n",
    "    plt.grid(True, linestyle='--', alpha=0.7)\n",
    "    \n",
    "    plt.tight_layout()\n",
    "    plt.show()\n",
    "    \n",
    "    # Create word clouds for positive and negative reviews\n",
    "    plt.figure(figsize=(20, 10))\n",
    "    \n",
    "    # Positive reviews word cloud\n",
    "    positive_reviews = ' '.join(reviews_df[reviews_df['sentiment_category'] == 'positive']['clean_review'])\n",
    "    if positive_reviews.strip():\n",
    "        plt.subplot(1, 2, 1)\n",
    "        wordcloud_positive = WordCloud(width=800, height=400, background_color='white', \n",
    "                                      stopwords=stop_words, max_words=100, colormap='YlGn').generate(positive_reviews)\n",
    "        plt.imshow(wordcloud_positive, interpolation='bilinear')\n",
    "        plt.axis('off')\n",
    "        plt.title('Word Cloud for Positive Reviews', fontsize=16)\n",
    "    \n",
    "    # Negative reviews word cloud\n",
    "    negative_reviews = ' '.join(reviews_df[reviews_df['sentiment_category'] == 'negative']['clean_review'])\n",
    "    if negative_reviews.strip():\n",
    "        plt.subplot(1, 2, 2)\n",
    "        wordcloud_negative = WordCloud(width=800, height=400, background_color='white', \n",
    "                                      stopwords=stop_words, max_words=100, colormap='Reds').generate(negative_reviews)\n",
    "        plt.imshow(wordcloud_negative, interpolation='bilinear')\n",
    "        plt.axis('off')\n",
    "        plt.title('Word Cloud for Negative Reviews', fontsize=16)\n",
    "    \n",
    "    plt.tight_layout()\n",
    "    plt.show()"
   ]
  },
  {
   "cell_type": "markdown",
   "metadata": {},
   "source": [
    "## 8. Comparative Analysis\n",
    "\n",
    "Let's compare reviews across different apps and categories."
   ]
  },
  {
   "cell_type": "code",
   "execution_count": null,
   "metadata": {},
   "outputs": [],
   "source": [
    "# Comparative analysis across apps\n",
    "if not reviews_df.empty:\n",
    "    # Metrics by app\n",
    "    app_metrics = reviews_df.groupby('app_name').agg({\n",
    "        'rating': ['mean', 'count'],\n",
    "        'compound_sentiment': 'mean',\n",
    "        'review_length': 'mean',\n",
    "        'word_count': 'mean'\n",
    "    }).reset_index()\n",
    "    \n",
    "    app_metrics.columns = ['app_name', 'avg_rating', 'review_count', 'avg_sentiment', 'avg_review_length', 'avg_word_count']\n",
    "    app_metrics = app_metrics.sort_values('avg_rating', ascending=False)\n",
    "    \n",
    "    # Display app metrics\n",
    "    app_metrics"
   ]
  },
  {
   "cell_type": "code",
   "execution_count": null,
   "metadata": {},
   "outputs": [],
   "source": [
    "# Plot comparative metrics\n",
    "if not reviews_df.empty and 'app_metrics' in locals():\n",
    "    # Top 10 apps by average rating\n",
    "    top_10_apps = app_metrics.head(10)\n",
    "    \n",
    "    plt.figure(figsize=(14, 10))\n",
    "    \n",
    "    # Average rating vs. review count\n",
    "    plt.subplot(2, 1, 1)\n",
    "    plt.scatter(app_metrics['review_count'], app_metrics['avg_rating'], s=100, alpha=0.7, c=app_metrics['avg_sentiment'], cmap='RdYlGn')\n",
    "    \n",
    "    for i, row in app_metrics.iterrows():\n",
    "        plt.annotate(row['app_name'], (row['review_count'], row['avg_rating']), fontsize=9)\n",
    "    \n",
    "    plt.title('Average Rating vs. Number of Reviews')\n",
    "    plt.xlabel('Number of Reviews')\n",
    "    plt.ylabel('Average Rating')\n",
    "    plt.colorbar(label='Average Sentiment')\n",
    "    plt.grid(True, linestyle='--', alpha=0.7)"
   ]
  }
 ],
 "metadata": {
  "kernelspec": {
   "display_name": ".venv",
   "language": "python",
   "name": "python3"
  },
  "language_info": {
   "codemirror_mode": {
    "name": "ipython",
    "version": 3
   },
   "file_extension": ".py",
   "mimetype": "text/x-python",
   "name": "python",
   "nbconvert_exporter": "python",
   "pygments_lexer": "ipython3",
   "version": "3.11.10"
  }
 },
 "nbformat": 4,
 "nbformat_minor": 2
}
