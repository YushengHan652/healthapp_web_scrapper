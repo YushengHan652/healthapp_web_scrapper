{
 "cells": [
  {
   "cell_type": "markdown",
   "metadata": {},
   "source": [
    "# Google Play Digital Health Apps Analysis\n",
    "\n",
    "This notebook demonstrates how to use the `google-play-scraper` package to search for digital health apps on the Google Play Store and analyze their reviews. We'll be using pandas and numpy for data manipulation and analysis.\n",
    "\n",
    "## Setup and Installation\n",
    "\n",
    "First, let's install the required packages if they're not already installed."
   ]
  },
  {
   "cell_type": "code",
   "execution_count": 23,
   "metadata": {},
   "outputs": [
    {
     "name": "stdout",
     "output_type": "stream",
     "text": [
      "Requirement already satisfied: google-play-scraper in /Users/seanmacbook/Projects/google_play_store_review_crawl/.venv/lib/python3.11/site-packages (1.2.7)\n",
      "Requirement already satisfied: pandas in /Users/seanmacbook/Projects/google_play_store_review_crawl/.venv/lib/python3.11/site-packages (2.2.3)\n",
      "Requirement already satisfied: numpy in /Users/seanmacbook/Projects/google_play_store_review_crawl/.venv/lib/python3.11/site-packages (2.2.4)\n",
      "Requirement already satisfied: matplotlib in /Users/seanmacbook/Projects/google_play_store_review_crawl/.venv/lib/python3.11/site-packages (3.10.1)\n",
      "Requirement already satisfied: seaborn in /Users/seanmacbook/Projects/google_play_store_review_crawl/.venv/lib/python3.11/site-packages (0.13.2)\n",
      "Requirement already satisfied: wordcloud in /Users/seanmacbook/Projects/google_play_store_review_crawl/.venv/lib/python3.11/site-packages (1.9.4)\n",
      "Requirement already satisfied: nltk in /Users/seanmacbook/Projects/google_play_store_review_crawl/.venv/lib/python3.11/site-packages (3.9.1)\n",
      "Requirement already satisfied: python-dateutil>=2.8.2 in /Users/seanmacbook/Projects/google_play_store_review_crawl/.venv/lib/python3.11/site-packages (from pandas) (2.9.0.post0)\n",
      "Requirement already satisfied: pytz>=2020.1 in /Users/seanmacbook/Projects/google_play_store_review_crawl/.venv/lib/python3.11/site-packages (from pandas) (2025.2)\n",
      "Requirement already satisfied: tzdata>=2022.7 in /Users/seanmacbook/Projects/google_play_store_review_crawl/.venv/lib/python3.11/site-packages (from pandas) (2025.2)\n",
      "Requirement already satisfied: contourpy>=1.0.1 in /Users/seanmacbook/Projects/google_play_store_review_crawl/.venv/lib/python3.11/site-packages (from matplotlib) (1.3.1)\n",
      "Requirement already satisfied: cycler>=0.10 in /Users/seanmacbook/Projects/google_play_store_review_crawl/.venv/lib/python3.11/site-packages (from matplotlib) (0.12.1)\n",
      "Requirement already satisfied: fonttools>=4.22.0 in /Users/seanmacbook/Projects/google_play_store_review_crawl/.venv/lib/python3.11/site-packages (from matplotlib) (4.57.0)\n",
      "Requirement already satisfied: kiwisolver>=1.3.1 in /Users/seanmacbook/Projects/google_play_store_review_crawl/.venv/lib/python3.11/site-packages (from matplotlib) (1.4.8)\n",
      "Requirement already satisfied: packaging>=20.0 in /Users/seanmacbook/Projects/google_play_store_review_crawl/.venv/lib/python3.11/site-packages (from matplotlib) (24.2)\n",
      "Requirement already satisfied: pillow>=8 in /Users/seanmacbook/Projects/google_play_store_review_crawl/.venv/lib/python3.11/site-packages (from matplotlib) (11.1.0)\n",
      "Requirement already satisfied: pyparsing>=2.3.1 in /Users/seanmacbook/Projects/google_play_store_review_crawl/.venv/lib/python3.11/site-packages (from matplotlib) (3.2.3)\n",
      "Requirement already satisfied: click in /Users/seanmacbook/Projects/google_play_store_review_crawl/.venv/lib/python3.11/site-packages (from nltk) (8.1.8)\n",
      "Requirement already satisfied: joblib in /Users/seanmacbook/Projects/google_play_store_review_crawl/.venv/lib/python3.11/site-packages (from nltk) (1.4.2)\n",
      "Requirement already satisfied: regex>=2021.8.3 in /Users/seanmacbook/Projects/google_play_store_review_crawl/.venv/lib/python3.11/site-packages (from nltk) (2024.11.6)\n",
      "Requirement already satisfied: tqdm in /Users/seanmacbook/Projects/google_play_store_review_crawl/.venv/lib/python3.11/site-packages (from nltk) (4.67.1)\n",
      "Requirement already satisfied: six>=1.5 in /Users/seanmacbook/Projects/google_play_store_review_crawl/.venv/lib/python3.11/site-packages (from python-dateutil>=2.8.2->pandas) (1.17.0)\n"
     ]
    }
   ],
   "source": [
    "!pip install google-play-scraper pandas numpy matplotlib seaborn wordcloud nltk"
   ]
  },
  {
   "cell_type": "markdown",
   "metadata": {},
   "source": [
    "## Importing Libraries\n",
    "\n",
    "Now, let's import all the necessary libraries."
   ]
  },
  {
   "cell_type": "code",
   "execution_count": 1,
   "metadata": {},
   "outputs": [
    {
     "name": "stderr",
     "output_type": "stream",
     "text": [
      "[nltk_data] Downloading package stopwords to\n",
      "[nltk_data]     /Users/seanmacbook/nltk_data...\n",
      "[nltk_data]   Package stopwords is already up-to-date!\n",
      "[nltk_data] Downloading package punkt to\n",
      "[nltk_data]     /Users/seanmacbook/nltk_data...\n",
      "[nltk_data]   Package punkt is already up-to-date!\n"
     ]
    }
   ],
   "source": [
    "import pandas as pd\n",
    "import numpy as np\n",
    "import matplotlib.pyplot as plt\n",
    "import seaborn as sns\n",
    "from datetime import datetime\n",
    "import re\n",
    "import time\n",
    "from tqdm.auto import tqdm\n",
    "from tqdm.notebook import tqdm\n",
    "import warnings\n",
    "warnings.filterwarnings('ignore')\n",
    "\n",
    "# Google Play Scraper\n",
    "from google_play_scraper import app, reviews, search, permissions\n",
    "from google_play_scraper.exceptions import NotFoundError\n",
    "\n",
    "# Text Processing\n",
    "import nltk\n",
    "from nltk.corpus import stopwords\n",
    "from nltk.tokenize import word_tokenize\n",
    "from wordcloud import WordCloud\n",
    "\n",
    "# Download necessary NLTK resources\n",
    "nltk.download('stopwords')\n",
    "nltk.download('punkt')\n",
    "\n",
    "# Setting plot style\n",
    "plt.style.use('seaborn-v0_8-whitegrid')\n",
    "sns.set_palette('viridis')"
   ]
  },
  {
   "cell_type": "markdown",
   "metadata": {},
   "source": [
    "## Step 1: Search for Digital Health Apps\n",
    "\n",
    "First, we'll search for apps related to \"digital health\" on the Google Play Store."
   ]
  },
  {
   "cell_type": "code",
   "execution_count": 2,
   "metadata": {},
   "outputs": [
    {
     "name": "stdout",
     "output_type": "stream",
     "text": [
      "Found 30 apps related to 'digital health'\n"
     ]
    },
    {
     "data": {
      "application/vnd.microsoft.datawrangler.viewer.v0+json": {
       "columns": [
        {
         "name": "index",
         "rawType": "int64",
         "type": "integer"
        },
        {
         "name": "appId",
         "rawType": "object",
         "type": "string"
        },
        {
         "name": "icon",
         "rawType": "object",
         "type": "string"
        },
        {
         "name": "screenshots",
         "rawType": "object",
         "type": "unknown"
        },
        {
         "name": "title",
         "rawType": "object",
         "type": "string"
        },
        {
         "name": "score",
         "rawType": "float64",
         "type": "float"
        },
        {
         "name": "genre",
         "rawType": "object",
         "type": "string"
        },
        {
         "name": "price",
         "rawType": "int64",
         "type": "integer"
        },
        {
         "name": "free",
         "rawType": "bool",
         "type": "boolean"
        },
        {
         "name": "currency",
         "rawType": "object",
         "type": "string"
        },
        {
         "name": "video",
         "rawType": "object",
         "type": "unknown"
        },
        {
         "name": "videoImage",
         "rawType": "object",
         "type": "unknown"
        },
        {
         "name": "description",
         "rawType": "object",
         "type": "string"
        },
        {
         "name": "descriptionHTML",
         "rawType": "object",
         "type": "string"
        },
        {
         "name": "developer",
         "rawType": "object",
         "type": "string"
        },
        {
         "name": "installs",
         "rawType": "object",
         "type": "string"
        }
       ],
       "conversionMethod": "pd.DataFrame",
       "ref": "33df4d82-9bb3-4b37-9ae3-7cb7059104f6",
       "rows": [
        [
         "0",
         "com.ochsner.digitalmedicine",
         "https://play-lh.googleusercontent.com/mh5gRZSZwedWY8kxblm72ysxbGvm2VK4-ytVoqaRlirzz8wNAPXpFoi8FokGIgEXU04",
         "['https://play-lh.googleusercontent.com/_Mn8bW72Xc4w5zRqy-ihQjm-snT2z2vCuqPBDDnv-y5JBGSsD54_ceVkyTRGBTgwb4c', 'https://play-lh.googleusercontent.com/FneA9Y8MjrpzDF6adDFLr37BDf66mteoVNckFhXXursxYirkj9glyyyXOJHM668_I-M', 'https://play-lh.googleusercontent.com/zpis3rufegAF0nacR0wVGfpPwzLVqPLzgvxwogPXuSv6XRSROa0QRbKmj55tb1Z2wQ', 'https://play-lh.googleusercontent.com/Y5uFy_6puXS9lAa7WzzvppigYUel7cowTjDJSykjs4nHyeWpn7cjOCWAtp-j1VlxTMY', 'https://play-lh.googleusercontent.com/0Pz6a7QxbPP5PECnwHaxidVt-BDpFHmaK-5jNWusEz7PV5tp8Ob9xcgwLQo5TIva1Ng', 'https://play-lh.googleusercontent.com/IX9PrLDMBJmHpoT4_xd82d-N8rLWjTyAIUpbxQcNSlQ-mY6d9DR4vs16ZSRKnl4pE0WG', 'https://play-lh.googleusercontent.com/MBNFVfUOTr9hevhjfaZD1OJQd1R1YDWQWvNTX6B6KYRwz8sZc0KI32izTCek4fneXhY', 'https://play-lh.googleusercontent.com/emQB2bwWaRgi6f0WZEjyOlVT02eysbDQFH27Jzbqj6bhmNYP4U5uShBhc2ckfpO1UX4', 'https://play-lh.googleusercontent.com/2KvSD9FVuhkFGTHhRFeYK_wZ8mKRt-wsFslyGYh6Mw5d_hqCmht8Bd3zREpF3gOdNhyR', 'https://play-lh.googleusercontent.com/7g68WAgpX7KLZ15JLDAJJfK4eoEGXeYfN4CM2D4UQ3snbkJ8FQDTFnwLFSrRusJ1Mw', 'https://play-lh.googleusercontent.com/jlfrwUXGga8ajZdGdigajyjkM_ZomAlKOgaGE-U9qNnYZc16q1Qjwed3qN8TA1OsYOk', 'https://play-lh.googleusercontent.com/e4ZKvXllWGC7kX0uXJtUVLSjyb_9IiHwRZXqbuA10dBchSTCsF2Iveu85Kd4dlR92Js5', 'https://play-lh.googleusercontent.com/i6tMyMOQsC_DNL2Y6Nl3H1kR-O3YH1xBMVGHjqrIyD4Ot1P-oEaSaA8a5S1uADNSpZI', 'https://play-lh.googleusercontent.com/0H3vzK6WowY1KowzARkqoq_-TvRBZRVqD7QJS-jy6A3js1hfJi6BYDkISrCf1DmEu58', 'https://play-lh.googleusercontent.com/UImSVt-LR3ICJsPKEwuNDdB9ZhAOC1CcNaARTTemZxtm07OYt_nHXjSp1DFAZGKTEg', 'https://play-lh.googleusercontent.com/FTQp84gikatQ9gNOv9dZxnTRzpbgwJe7gEF-ajFZSVIejsZv0mtlU4BJi7X3V7Gt5oE', 'https://play-lh.googleusercontent.com/sXisdKmJou5blHxkvciCWEe0p_zJcGjsv5--0_ssR0Qkmu7XzBb2kUR-qlLk-XwijQ', 'https://play-lh.googleusercontent.com/ytbZFP6W0dEJdF9TSHK_pfZZULLQ9WOBRS2TgKG-X1JpPLr5v-OVX-0tfsP1uz_NEJ8', 'https://play-lh.googleusercontent.com/byugT9Q38Iea393XBiaFFlrKJufet_ejM_mwCjcXUdHAK6TSBqbaG4qPIDRLOVvWGn7k']",
         "Digital Medicine",
         "4.2153845",
         "Health & Fitness",
         "0",
         "True",
         "USD",
         null,
         null,
         "The Digital Medicine app simplifies how you care for your chronic condition—offering a customized experience for members that is intuitive, streamlined, and personalized. Connect with your data, set preferences, and control your health. Easy just got easier.\r\n\r\nSEAMLESSLY TRANSMIT READINGS\r\n• Take and send your weight, blood pressure and blood sugar readings to your care team.\r\n• Log your meals easily and get nutritional tips based on what you've logged for the day.\r\n\r\nSET PREFERENCES\r\n• Choose when to receive program reminders, whether it’s to submit a reading, review your monthly report, or other relevant program tasks, that best fits your unique schedule.\r\n\r\nREADING GUIDANCE\r\n• Get in-app guidance on blood pressure and/or blood sugar readings.\r\n\r\nDIGITAL COACHING \r\n• Gain knowledge on your program and health journey through interactive learning missions.  \r\n• Understand your progress through trends and monthly reports in-app. \r\n\r\nEARLY ACCESS\r\n• Gain access to the latest Digital Medicine app features and enhancements.\r\n\r\nSUPPORT\r\n• Enjoy guided in-app device setup instructions and watch videos on setting up your device and how to take readings.\r\n\r\nTrack progress, stay motivated, and feel better with Digital Medicine.\r\n\r\nDigital Medicine app is not any substitute for professional healthcare services or advice. Any health related information provided is for informational purposes and should not be used for diagnostic or medical purposes. Always consult a healthcare professional for your health and safety needs.",
         "The Digital Medicine app simplifies how you care for your chronic condition—offering a customized experience for members that is intuitive, streamlined, and personalized. Connect with your data, set preferences, and control your health. Easy just got easier.<br><br>SEAMLESSLY TRANSMIT READINGS<br>• Take and send your weight, blood pressure and blood sugar readings to your care team.<br>• Log your meals easily and get nutritional tips based on what you&#39;ve logged for the day.<br><br>SET PREFERENCES<br>• Choose when to receive program reminders, whether it’s to submit a reading, review your monthly report, or other relevant program tasks, that best fits your unique schedule.<br><br>READING GUIDANCE<br>• Get in-app guidance on blood pressure and/or blood sugar readings.<br><br>DIGITAL COACHING <br>• Gain knowledge on your program and health journey through interactive learning missions.  <br>• Understand your progress through trends and monthly reports in-app. <br><br>EARLY ACCESS<br>• Gain access to the latest Digital Medicine app features and enhancements.<br><br>SUPPORT<br>• Enjoy guided in-app device setup instructions and watch videos on setting up your device and how to take readings.<br><br>Track progress, stay motivated, and feel better with Digital Medicine.<br><br>Digital Medicine app is not any substitute for professional healthcare services or advice. Any health related information provided is for informational purposes and should not be used for diagnostic or medical purposes. Always consult a healthcare professional for your health and safety needs.",
         "Ochsner Health System",
         "5,000+"
        ],
        [
         "1",
         "com.bodysite.bodysite",
         "https://play-lh.googleusercontent.com/T72itamIvWsLMkwD5HeFESzPuok56tJ5Y9DFfInBav6IqbrkVKbcKBgiLu_Ki3ysQg",
         "['https://play-lh.googleusercontent.com/2goly75arAd2NSbPyJ7G947uaKhd1JjkmSm7G5ZPUWOrcoJidv6FP9Z7X2zP99et8DBd', 'https://play-lh.googleusercontent.com/q3vH5bLV_6aAoNNMGElk_tHDVpJ7hoo6MyWS_VRBt10m4eilC0D-BosTWiTyy19gN2I', 'https://play-lh.googleusercontent.com/vBmWf-atfOKfafDUhdHAhc97Qn7mw9vXG_JcLf4vk67oKvG5hQLkSAH5lgZg0a4AK4E', 'https://play-lh.googleusercontent.com/27ymuqCtWc4wJqn_ufX6PL77TkLOwvyuptHREJQddwvbWrDQY8Anm922pl6sGV5I4tk', 'https://play-lh.googleusercontent.com/SsE7WHg3qEVEcLwbf-y9kjV6_wtSGuBmvi0UMF_NTAR6IgGL8MaEp4X38J1KVOW1Mw', 'https://play-lh.googleusercontent.com/0EE_GNIAYSzQ79GXSjPBcNuwyLi1LVWVl90E_6us2TVCbTgiuShhtYc7KvjsVNujYlh8', 'https://play-lh.googleusercontent.com/FKsfYxwMHnXoT6EJnHDDGjdTYLU34UaUmsfMMhYUwjwb3KMjIl-HFnHKVz5hccujreo', 'https://play-lh.googleusercontent.com/sXjfrj0htBwOW2Cq5MrbzcKqxiN434--clOg_ALGG05_YEnEjn-eT-W8ZorF1FIoGY8', 'https://play-lh.googleusercontent.com/fWUTpkwIIkaNiRCYSmfNfung8iBDFFaW_8Y7BCRf35UGHkjvAU0lwPo4-QgA4ZRsy5B8']",
         "BodySite Digital Health",
         "4.28",
         "Health & Fitness",
         "0",
         "True",
         "USD",
         null,
         null,
         "BodySite's digital health and lifestyle app connects you with your wellness provider's wellness plan in real time. Receive daily meal planning, exercise guidance, lifestyle modification support and motivation.\r\n\r\nWhat you get:\r\n\r\nFor users with a BodySite account / requires a provider:\r\n* Wellness Plans Selected For You\r\n* Your plan details delivered daily from your provider\r\n* Meal plans, grocery lists and recipes\r\n* Calorie counter\r\n* Meal by meal and daily nutritional summary with calories and macronutrient breakdowns and graphs\r\n* Nutritional summary with calories and macronutrient breakdowns and graphs for each food\r\n* Easily store favorite foods and meals\r\n* A detailed exercise program\r\n* Exercise videos and photo examples and descriptions\r\n* Daily affirmations, uplifting support and motivation\r\n* Activity tracker\r\n* Photo journal\r\n* Bar Code Food Scanner\r\n* Private journal to keep track of your progress, ideas \r\n* Real-time sharing of your food, exercise, body and personal journals with your provider\r\n* Direct private messaging with your provider\r\n* Push notifications for private messaging\r\n* Track steps, water, sleep and custom activities\r\n* Integration with Fitbit (requires activation from web account)",
         "BodySite&#39;s digital health and lifestyle app connects you with your wellness provider&#39;s wellness plan in real time. Receive daily meal planning, exercise guidance, lifestyle modification support and motivation.<br><br>What you get:<br><br>For users with a BodySite account / requires a provider:<br>* Wellness Plans Selected For You<br>* Your plan details delivered daily from your provider<br>* Meal plans, grocery lists and recipes<br>* Calorie counter<br>* Meal by meal and daily nutritional summary with calories and macronutrient breakdowns and graphs<br>* Nutritional summary with calories and macronutrient breakdowns and graphs for each food<br>* Easily store favorite foods and meals<br>* A detailed exercise program<br>* Exercise videos and photo examples and descriptions<br>* Daily affirmations, uplifting support and motivation<br>* Activity tracker<br>* Photo journal<br>* Bar Code Food Scanner<br>* Private journal to keep track of your progress, ideas <br>* Real-time sharing of your food, exercise, body and personal journals with your provider<br>* Direct private messaging with your provider<br>* Push notifications for private messaging<br>* Track steps, water, sleep and custom activities<br>* Integration with Fitbit (requires activation from web account)",
         "BodySite",
         "10,000+"
        ],
        [
         "2",
         "com.appex.myhealth",
         "https://play-lh.googleusercontent.com/_6O_LPIJ8kYVMOxXguRGerZ9TwK07jwCv7efKmVUZwn4AID4FUSeH4QSVq4ocqLTDg",
         "['https://play-lh.googleusercontent.com/Y_teNQu8gAeNCvaAB-JckPPy_xFHuWBH7G7eemLsYI_BjFET5Jk6f85gdM6qhnmVLUA', 'https://play-lh.googleusercontent.com/88beN5GsEaCGL5ixqijm9m9Vn7NkB8joia2xPrCppk2JJWUkr3qxQzO6z4tCcrPX94mF', 'https://play-lh.googleusercontent.com/FzhbQe4JP3-ybSqiIIj5FkPl77uhlV-xw0tSgY89Z6dyLmBr3osU5SRsSZragKhv-tWv', 'https://play-lh.googleusercontent.com/rsYEv2bs4z34PNdNmeN-SDwBz1Zfi-RNCq-8INTD6HZ8OyirkmHNphJP63xw1XgLI8M', 'https://play-lh.googleusercontent.com/U0pZ0sH4z13RnsWXNpatB-EsWlTdzdv3-4E-OhkUWnd7pdczSjYy0Uhfwi9ShC2mkeSz', 'https://play-lh.googleusercontent.com/EuQFWPSjJ4iksAh6yEPGcqp2-J_2fRgftZxUgIooKryJ2Zht_qOWZGkpc84GatAxBpM', 'https://play-lh.googleusercontent.com/JtxzNnNQzfDgFQX3iLs5HrPvlfDxfBmvO7UVGBjR4UFfI_Zprvntrw964kGm4W6xApA', 'https://play-lh.googleusercontent.com/oGJCObgWJCCwkDT7_EDFMDVNT36iXa-LLCxpFM-4XV7z-B3egb6LZyIKVu3i-kJ6pGjo', 'https://play-lh.googleusercontent.com/5PK1gxbdKgdCReOkBxlzhVQbb4UVD4GG-EgOPwljAPucHNcVl_4aycc2EFUWfRhWyRLz', 'https://play-lh.googleusercontent.com/ScVsKi4-cghlXOA-rF6_cTexiXDzzDCOyBJy4j3FFQ3b2bDKl9duD-HpmnI4Aq_oTw', 'https://play-lh.googleusercontent.com/v38ssafJDyHcXiRL4HQFJIdlmQIG94QxejlYKt1V7OUOPzDd7t9a6IC-sJcNszxIasI', 'https://play-lh.googleusercontent.com/IQ4Cj_8rXxoERtLLh10sCEGEyXBtJjx1lkfQUjPQanq-tieQsNhmv04MrrgzZTGeiw8', 'https://play-lh.googleusercontent.com/DIrlYyLYAWctGSGD_obLuiA-JzKnLTMzlAu7-qDIk27OrXy6guS_Zvk_9XkNB0Evt96h', 'https://play-lh.googleusercontent.com/BsZZgbRN75x--b0i5INpgkETEl1cEJos0xuY_zDyNcaIOvu00la_UsWFp7yNGJ5c0Q', 'https://play-lh.googleusercontent.com/4GhrRwI-PuQjYlMKhdSQyHSjb4IDozLJCyTPd_Ugq9uGcoBAx3AkJvoIqVJz2MPrlg', 'https://play-lh.googleusercontent.com/OXi9TRbvnLekW7BEBd4NU63I22RRtboUZLBekAZGANdBHX02ueKFgcEwmNb3XAdLIA', 'https://play-lh.googleusercontent.com/HSgF7LBWXMDOr4l_evLmLv9r-EK3Pr6ee2vkM4gP66lBzWo63q6nfxPRNrrdU6FFes4f', 'https://play-lh.googleusercontent.com/lHaZHCXkaqj35fZXQgVBHTH6EAxQRpvDEF2_Hmw04MxGknZwI09hm1Qr1KBnzsF9mQ', 'https://play-lh.googleusercontent.com/OnQt15QFbhJviCR093ZVvrXPhiX7-JUxKIAbNpe58ljn1-5CXfTwgADZKXhoXMnF5kQo', 'https://play-lh.googleusercontent.com/LwWSMEA0AngPEuEiJW4eOJ4sf-GUokruvxlOReTgHUsnuToIPeqM5_xQ8a2cIZCDUw', 'https://play-lh.googleusercontent.com/H65dZNX0zK7KlI5OUYeXdY0ENHrFQeGArRRFo4a8U2cEYbr9TnkO5jy7ArxwwX1M-7s', 'https://play-lh.googleusercontent.com/ChEDU9r07SFVnbnz6uvmU0iY7lNX18xXSYhZhAy4R-AZyijqfDGjPhY_5Y9XbsIbiFM', 'https://play-lh.googleusercontent.com/KaFKsT_mMy9gLRxv5NCyZza1BV0uERAqfIam64_GLs4x-qtUaK0wMMIMTeHyfdQWyR0', 'https://play-lh.googleusercontent.com/0dcCfbYONcyWt4CEksmdUUBM-8zPwI27c88V6kuJWK_DInIxzfXbeFMQ5D9mBxAXEA', 'https://play-lh.googleusercontent.com/8oNd6VNjek9D2KB2vcNIfcAFNh8uXpAnci199N4dgxUFKWcGVAmMOLKtaHfgS_pvug', 'https://play-lh.googleusercontent.com/YN_tF6l1qeFpw5guESoz357Wu5i8FxvO6mjd5hjoWOcynT_H4gyo0ygziYePllqKK1g', 'https://play-lh.googleusercontent.com/Az0C8Z96Oor0kDMBtsIOlQFhNe9dkIMtvTa2gbdIrKAby0_O3jOKoqNftQTsDJG7oJFc', 'https://play-lh.googleusercontent.com/25R_HXmP4v_g7TgR6qLmLrZdn0N6a-nopk2zMatDUc1uyYogMNZGORYI8N6U_B9f5U8', 'https://play-lh.googleusercontent.com/APgeD7v1c-c51wvM9e8zmvl374nJAAXLmB31d0eMhwBWpZfEWW9k0K5fSaBjWDZxYCA']",
         "MyHealth-Digital Health Locker",
         "0.0",
         "Health & Fitness",
         "0",
         "True",
         "USD",
         null,
         null,
         "MyHealth app is a digital health locker that helps you to digitize, store, and manage your medical reports and body vitals from anywhere in the world. It not only enables you to easily share your medical records with healthcare providers during appointments, with family and friends in cases of medical emergencies.\r\n\r\nBeyond merely storing your health records, The MyHealth app allows you to do the following:\r\n\r\n1. Manage your family’s health with a “Family Health Account”\r\n2. Identify and manage your genetic health risks with “MyGene”\r\n3. Get “Smart Health Insights” to identify patterns and potential health issues\r\n4. Track essential “Body Vitals”, including blood pressure (BP) and blood sugar levels effortlessly\r\n\r\nAdditionally, the MyHealth app is ABDM compliant and helps you create your Ayushman Bharat Health Account (ABHA Card) in under 60 seconds.\r\n\r\nDownload the FREE MyHealth App and begin your Digital Health Journey today.\r\n___________________________________________________________________________\r\nWhy should you choose MyHealth app?\r\n\r\n❌You can now say goodbye to carrying bulky medical files, health records & prescription notes while visiting the doctor.\r\n❌You no longer need to repeatedly take pictures of the same medical report to share with doctors and healthcare providers over WhatsApp.\r\n❌You can eliminate the possibilities of misdiagnosis and isolated treatments, as your doctor will now be well-informed.\r\n❌You no longer have to worry about losing, misplacing, or damaging your and your family’s health records.\r\n\r\nThe MyHealth app ensures the sharing of important medical information between patients and physicians happens in a seamless and secured manner, thereby transforming the patient-physician relationship.\r\n___________________________________________________________________________\r\nAre you wondering if the app is safe and secure to store your medical records?\r\n\r\nYes, Absolutely. The MyHealth app is not only approved by the National Health Authority of India but is also HIPAA compliant. This guarantees that patient health information (PHI) is protected from unauthorized access and breaches.\r\n\r\nAdditionally, the app adheres to HL7 standards, facilitating seamless data exchange between different healthcare systems and providers, resulting in improved care coordination, reduced clinical errors, and more efficient clinical workflows.\r\n\r\nPatient privacy is critical to us and we take appropriate security measures to protect your data from being accidentally lost, used, or accessed by unauthorized sources. We DO NOT use your data to:\r\n\r\n❌Disclose, sell, rent, or otherwise provide your personal information to other companies.\r\n❌Share your personal information with third parties unless required by law.",
         "MyHealth app is a digital health locker that helps you to digitize, store, and manage your medical reports and body vitals from anywhere in the world. It not only enables you to easily share your medical records with healthcare providers during appointments, with family and friends in cases of medical emergencies.<br><br>Beyond merely storing your health records, The MyHealth app allows you to do the following:<br><br>1. Manage your family’s health with a “Family Health Account”<br>2. Identify and manage your genetic health risks with “MyGene”<br>3. Get “Smart Health Insights” to identify patterns and potential health issues<br>4. Track essential “Body Vitals”, including blood pressure (BP) and blood sugar levels effortlessly<br><br>Additionally, the MyHealth app is ABDM compliant and helps you create your Ayushman Bharat Health Account (ABHA Card) in under 60 seconds.<br><br>Download the FREE MyHealth App and begin your Digital Health Journey today.<br>___________________________________________________________________________<br>Why should you choose MyHealth app?<br><br>❌You can now say goodbye to carrying bulky medical files, health records &amp; prescription notes while visiting the doctor.<br>❌You no longer need to repeatedly take pictures of the same medical report to share with doctors and healthcare providers over WhatsApp.<br>❌You can eliminate the possibilities of misdiagnosis and isolated treatments, as your doctor will now be well-informed.<br>❌You no longer have to worry about losing, misplacing, or damaging your and your family’s health records.<br><br>The MyHealth app ensures the sharing of important medical information between patients and physicians happens in a seamless and secured manner, thereby transforming the patient-physician relationship.<br>___________________________________________________________________________<br>Are you wondering if the app is safe and secure to store your medical records?<br><br>Yes, Absolutely. The MyHealth app is not only approved by the National Health Authority of India but is also HIPAA compliant. This guarantees that patient health information (PHI) is protected from unauthorized access and breaches.<br><br>Additionally, the app adheres to HL7 standards, facilitating seamless data exchange between different healthcare systems and providers, resulting in improved care coordination, reduced clinical errors, and more efficient clinical workflows.<br><br>Patient privacy is critical to us and we take appropriate security measures to protect your data from being accidentally lost, used, or accessed by unauthorized sources. We DO NOT use your data to:<br><br>❌Disclose, sell, rent, or otherwise provide your personal information to other companies.<br>❌Share your personal information with third parties unless required by law.",
         "Appex Innovation Solutions LLC",
         "1,000+"
        ],
        [
         "3",
         "com.cogniss.edinburghinnovations.digitalhealthportal",
         "https://play-lh.googleusercontent.com/mcX24LM5dM42AeqK8eCde3X4HDJyZeyWh1GUNnV_GQwZbFbI2OLcsN99pZIXCQFW6BY",
         "['https://play-lh.googleusercontent.com/PZ39wy9auWDtDUm15G8ym81epRDCnTdqvS1q8n29GMLQNfarM-9Ph9zDWW1eaD9Nj5KT', 'https://play-lh.googleusercontent.com/lOKuX06GKQp7e7rs5ewSFF20Hkr_zy04vl2kDN-rERXTtIQ-mj6J4859YcdUVZcS5HY', 'https://play-lh.googleusercontent.com/_p4sP0MrHYdEKG42EmxaKIl2AWDDBsf4xR-ZJaUskTGUQRV2_AFPJG3wohcpBIF091A5', 'https://play-lh.googleusercontent.com/xxpgUG6MTsahkoRLKA4sCMc-oYuAEiTZWFDzeFRm5MYPiXkitZVAiQ-xKKIUG-8ICic', 'https://play-lh.googleusercontent.com/qKu6RBo1nC4nLTw7gxgtVd1cAp-DRvmlSLqsfEXb4Uu7zbVPjS5nHCWrWwOl539JKdU', 'https://play-lh.googleusercontent.com/UFMz2XrdqdTSeDPciewjuNaRO_dqzHk4XEQf_oCOzKkreXrDbT8giaGkaX6ViZCMzRXu', 'https://play-lh.googleusercontent.com/YRRwlKGnxbM4VvyiL7IG4StVoAKgznM2ROMm8rDNSLdm70UXzXO2aDEszdrL_0sZHg', 'https://play-lh.googleusercontent.com/_-EgVJmeH8tD0IlBlxOGnqpxyIgjJUvth2eHOkHXs2SpSJBOD37fs3s3R5IvDYTc3da-', 'https://play-lh.googleusercontent.com/_4YHUWTfBJ-v7eyFIizcgCu8aLIASiO0CqJr_zE43EikJMZe7FWdQwzuyy0YD8vJMTBH', 'https://play-lh.googleusercontent.com/ieV1BNdtFRqv8osNqP4VcqUKJr2ADyvVlqm3cPuV5ywQPkMn8u_mxUzNGgN86aY7YTk']",
         "Digital Health Portal",
         null,
         "Health & Fitness",
         "0",
         "True",
         "USD",
         null,
         null,
         "Edinburgh Innovations is the University of Edinburgh’s commercialisation service. Together, we develop innovative ideas and deliver solutions to the world’s biggest medical challenges by connecting academic researchers, patients, clinicians, scientists, partners and state of the art clinical and pre-clinical research facilities at the University. These digital health projects are sponsored by the Wellcome iTPA innovation accelerator at the University of Edinburgh.",
         "Edinburgh Innovations is the University of Edinburgh’s commercialisation service. Together, we develop innovative ideas and deliver solutions to the world’s biggest medical challenges by connecting academic researchers, patients, clinicians, scientists, partners and state of the art clinical and pre-clinical research facilities at the University. These digital health projects are sponsored by the Wellcome iTPA innovation accelerator at the University of Edinburgh.",
         "Cogniss",
         "10+"
        ],
        [
         "4",
         "com.FlexCare.app",
         "https://play-lh.googleusercontent.com/BR-iVsg2GJ5i7cRREhAqwj8QqfNcn7KVLZlCEEjxCTwwnVWG_rr48EtBD5WJzsYtfn0",
         "['https://play-lh.googleusercontent.com/7lNd5lyMOxb117plt9Qh0mZb-521UjCOBdwO3SmY68XxZSCNDZRcgJFvUrPFiinpUik', 'https://play-lh.googleusercontent.com/nIe9aFIqyOtcZw_A9zfojJ_tsEQC116aeA1OC1IilopchwaXMPbHSg4S1T4RfKXIUw', 'https://play-lh.googleusercontent.com/sPZUWRrlTDUuVpz1L8-MVHe4lAxyBw1FOzK8DGkb2y6Rr2QoxMnj6_fb_25TAfu2zGo', 'https://play-lh.googleusercontent.com/hJ8JlAvkqCT6oGVreHuKKxNxvE1XCFj8NRHkPFcM9F45XV2Y_rffBcgU6r1hnzwMvdA', 'https://play-lh.googleusercontent.com/1LzLCehVFc2NucjqFwSVLyp2fHd4h_tFro1oSUnl-j0RI8ASpEVndGEmPMh7zqNyAAqv', 'https://play-lh.googleusercontent.com/D5VnLbai1ZJfqpgR4Q_1eVAms1I2zbvhWFR7lEfeCRmjxbCzj-LDT_9JTvhfNmU67Q', 'https://play-lh.googleusercontent.com/_MFCO27dyNq-i-mR_ZkX5O0CvAeMpgIarG40SxW3m0W2IpPTrMxriE_t15Jh75hUCcw']",
         "FlexCare Digital Health",
         "2.0",
         "Health & Fitness",
         "0",
         "True",
         "USD",
         null,
         null,
         "FlexCare is a Digital Health provider offering members 24/7/365 access to Telemedicine, TeleDentistry, TeleSpine, Dermatology, Behavioral Health, Companion/Caregiver and other programs via text, phone or online video—whenever they need it, from wherever they are. Our U.S. board-certified providers can diagnose, recommend treatment, and write short-term, non DEA prescriptions, when appropriate.",
         "FlexCare is a Digital Health provider offering members 24/7/365 access to Telemedicine, TeleDentistry, TeleSpine, Dermatology, Behavioral Health, Companion/Caregiver and other programs via text, phone or online video—whenever they need it, from wherever they are. Our U.S. board-certified providers can diagnose, recommend treatment, and write short-term, non DEA prescriptions, when appropriate.",
         "FlexCare. LLC",
         "1,000+"
        ]
       ],
       "shape": {
        "columns": 15,
        "rows": 5
       }
      },
      "text/html": [
       "<div>\n",
       "<style scoped>\n",
       "    .dataframe tbody tr th:only-of-type {\n",
       "        vertical-align: middle;\n",
       "    }\n",
       "\n",
       "    .dataframe tbody tr th {\n",
       "        vertical-align: top;\n",
       "    }\n",
       "\n",
       "    .dataframe thead th {\n",
       "        text-align: right;\n",
       "    }\n",
       "</style>\n",
       "<table border=\"1\" class=\"dataframe\">\n",
       "  <thead>\n",
       "    <tr style=\"text-align: right;\">\n",
       "      <th></th>\n",
       "      <th>appId</th>\n",
       "      <th>icon</th>\n",
       "      <th>screenshots</th>\n",
       "      <th>title</th>\n",
       "      <th>score</th>\n",
       "      <th>genre</th>\n",
       "      <th>price</th>\n",
       "      <th>free</th>\n",
       "      <th>currency</th>\n",
       "      <th>video</th>\n",
       "      <th>videoImage</th>\n",
       "      <th>description</th>\n",
       "      <th>descriptionHTML</th>\n",
       "      <th>developer</th>\n",
       "      <th>installs</th>\n",
       "    </tr>\n",
       "  </thead>\n",
       "  <tbody>\n",
       "    <tr>\n",
       "      <th>0</th>\n",
       "      <td>com.ochsner.digitalmedicine</td>\n",
       "      <td>https://play-lh.googleusercontent.com/mh5gRZSZ...</td>\n",
       "      <td>[https://play-lh.googleusercontent.com/_Mn8bW7...</td>\n",
       "      <td>Digital Medicine</td>\n",
       "      <td>4.215384</td>\n",
       "      <td>Health &amp; Fitness</td>\n",
       "      <td>0</td>\n",
       "      <td>True</td>\n",
       "      <td>USD</td>\n",
       "      <td>None</td>\n",
       "      <td>None</td>\n",
       "      <td>The Digital Medicine app simplifies how you ca...</td>\n",
       "      <td>The Digital Medicine app simplifies how you ca...</td>\n",
       "      <td>Ochsner Health System</td>\n",
       "      <td>5,000+</td>\n",
       "    </tr>\n",
       "    <tr>\n",
       "      <th>1</th>\n",
       "      <td>com.bodysite.bodysite</td>\n",
       "      <td>https://play-lh.googleusercontent.com/T72itamI...</td>\n",
       "      <td>[https://play-lh.googleusercontent.com/2goly75...</td>\n",
       "      <td>BodySite Digital Health</td>\n",
       "      <td>4.280000</td>\n",
       "      <td>Health &amp; Fitness</td>\n",
       "      <td>0</td>\n",
       "      <td>True</td>\n",
       "      <td>USD</td>\n",
       "      <td>None</td>\n",
       "      <td>None</td>\n",
       "      <td>BodySite's digital health and lifestyle app co...</td>\n",
       "      <td>BodySite&amp;#39;s digital health and lifestyle ap...</td>\n",
       "      <td>BodySite</td>\n",
       "      <td>10,000+</td>\n",
       "    </tr>\n",
       "    <tr>\n",
       "      <th>2</th>\n",
       "      <td>com.appex.myhealth</td>\n",
       "      <td>https://play-lh.googleusercontent.com/_6O_LPIJ...</td>\n",
       "      <td>[https://play-lh.googleusercontent.com/Y_teNQu...</td>\n",
       "      <td>MyHealth-Digital Health Locker</td>\n",
       "      <td>0.000000</td>\n",
       "      <td>Health &amp; Fitness</td>\n",
       "      <td>0</td>\n",
       "      <td>True</td>\n",
       "      <td>USD</td>\n",
       "      <td>None</td>\n",
       "      <td>None</td>\n",
       "      <td>MyHealth app is a digital health locker that h...</td>\n",
       "      <td>MyHealth app is a digital health locker that h...</td>\n",
       "      <td>Appex Innovation Solutions LLC</td>\n",
       "      <td>1,000+</td>\n",
       "    </tr>\n",
       "    <tr>\n",
       "      <th>3</th>\n",
       "      <td>com.cogniss.edinburghinnovations.digitalhealth...</td>\n",
       "      <td>https://play-lh.googleusercontent.com/mcX24LM5...</td>\n",
       "      <td>[https://play-lh.googleusercontent.com/PZ39wy9...</td>\n",
       "      <td>Digital Health Portal</td>\n",
       "      <td>NaN</td>\n",
       "      <td>Health &amp; Fitness</td>\n",
       "      <td>0</td>\n",
       "      <td>True</td>\n",
       "      <td>USD</td>\n",
       "      <td>None</td>\n",
       "      <td>None</td>\n",
       "      <td>Edinburgh Innovations is the University of Edi...</td>\n",
       "      <td>Edinburgh Innovations is the University of Edi...</td>\n",
       "      <td>Cogniss</td>\n",
       "      <td>10+</td>\n",
       "    </tr>\n",
       "    <tr>\n",
       "      <th>4</th>\n",
       "      <td>com.FlexCare.app</td>\n",
       "      <td>https://play-lh.googleusercontent.com/BR-iVsg2...</td>\n",
       "      <td>[https://play-lh.googleusercontent.com/7lNd5ly...</td>\n",
       "      <td>FlexCare Digital Health</td>\n",
       "      <td>2.000000</td>\n",
       "      <td>Health &amp; Fitness</td>\n",
       "      <td>0</td>\n",
       "      <td>True</td>\n",
       "      <td>USD</td>\n",
       "      <td>None</td>\n",
       "      <td>None</td>\n",
       "      <td>FlexCare is a Digital Health provider offering...</td>\n",
       "      <td>FlexCare is a Digital Health provider offering...</td>\n",
       "      <td>FlexCare. LLC</td>\n",
       "      <td>1,000+</td>\n",
       "    </tr>\n",
       "  </tbody>\n",
       "</table>\n",
       "</div>"
      ],
      "text/plain": [
       "                                               appId  \\\n",
       "0                        com.ochsner.digitalmedicine   \n",
       "1                              com.bodysite.bodysite   \n",
       "2                                 com.appex.myhealth   \n",
       "3  com.cogniss.edinburghinnovations.digitalhealth...   \n",
       "4                                   com.FlexCare.app   \n",
       "\n",
       "                                                icon  \\\n",
       "0  https://play-lh.googleusercontent.com/mh5gRZSZ...   \n",
       "1  https://play-lh.googleusercontent.com/T72itamI...   \n",
       "2  https://play-lh.googleusercontent.com/_6O_LPIJ...   \n",
       "3  https://play-lh.googleusercontent.com/mcX24LM5...   \n",
       "4  https://play-lh.googleusercontent.com/BR-iVsg2...   \n",
       "\n",
       "                                         screenshots  \\\n",
       "0  [https://play-lh.googleusercontent.com/_Mn8bW7...   \n",
       "1  [https://play-lh.googleusercontent.com/2goly75...   \n",
       "2  [https://play-lh.googleusercontent.com/Y_teNQu...   \n",
       "3  [https://play-lh.googleusercontent.com/PZ39wy9...   \n",
       "4  [https://play-lh.googleusercontent.com/7lNd5ly...   \n",
       "\n",
       "                            title     score             genre  price  free  \\\n",
       "0                Digital Medicine  4.215384  Health & Fitness      0  True   \n",
       "1         BodySite Digital Health  4.280000  Health & Fitness      0  True   \n",
       "2  MyHealth-Digital Health Locker  0.000000  Health & Fitness      0  True   \n",
       "3           Digital Health Portal       NaN  Health & Fitness      0  True   \n",
       "4         FlexCare Digital Health  2.000000  Health & Fitness      0  True   \n",
       "\n",
       "  currency video videoImage  \\\n",
       "0      USD  None       None   \n",
       "1      USD  None       None   \n",
       "2      USD  None       None   \n",
       "3      USD  None       None   \n",
       "4      USD  None       None   \n",
       "\n",
       "                                         description  \\\n",
       "0  The Digital Medicine app simplifies how you ca...   \n",
       "1  BodySite's digital health and lifestyle app co...   \n",
       "2  MyHealth app is a digital health locker that h...   \n",
       "3  Edinburgh Innovations is the University of Edi...   \n",
       "4  FlexCare is a Digital Health provider offering...   \n",
       "\n",
       "                                     descriptionHTML  \\\n",
       "0  The Digital Medicine app simplifies how you ca...   \n",
       "1  BodySite&#39;s digital health and lifestyle ap...   \n",
       "2  MyHealth app is a digital health locker that h...   \n",
       "3  Edinburgh Innovations is the University of Edi...   \n",
       "4  FlexCare is a Digital Health provider offering...   \n",
       "\n",
       "                        developer installs  \n",
       "0           Ochsner Health System   5,000+  \n",
       "1                        BodySite  10,000+  \n",
       "2  Appex Innovation Solutions LLC   1,000+  \n",
       "3                         Cogniss      10+  \n",
       "4                   FlexCare. LLC   1,000+  "
      ]
     },
     "execution_count": 2,
     "metadata": {},
     "output_type": "execute_result"
    }
   ],
   "source": [
    "# Search for digital health related apps\n",
    "search_results = search(\n",
    "    'digital health',\n",
    "    lang='en',      # Language\n",
    "    country='us',   # Country\n",
    "    n_hits=100      # Number of apps to retrieve (maximum 200)\n",
    ")\n",
    "\n",
    "# Convert to DataFrame\n",
    "apps_df = pd.DataFrame(search_results)\n",
    "\n",
    "# Display basic information\n",
    "print(f\"Found {len(apps_df)} apps related to 'digital health'\")\n",
    "apps_df.head()"
   ]
  },
  {
   "cell_type": "markdown",
   "metadata": {},
   "source": [
    "Let's check what columns are available and clean up our dataframe."
   ]
  },
  {
   "cell_type": "code",
   "execution_count": 3,
   "metadata": {},
   "outputs": [
    {
     "name": "stdout",
     "output_type": "stream",
     "text": [
      "['appId', 'icon', 'screenshots', 'title', 'score', 'genre', 'price', 'free', 'currency', 'video', 'videoImage', 'description', 'descriptionHTML', 'developer', 'installs']\n"
     ]
    },
    {
     "data": {
      "application/vnd.microsoft.datawrangler.viewer.v0+json": {
       "columns": [
        {
         "name": "index",
         "rawType": "int64",
         "type": "integer"
        },
        {
         "name": "appId",
         "rawType": "object",
         "type": "string"
        },
        {
         "name": "title",
         "rawType": "object",
         "type": "string"
        },
        {
         "name": "score",
         "rawType": "float64",
         "type": "float"
        },
        {
         "name": "genre",
         "rawType": "object",
         "type": "string"
        },
        {
         "name": "price",
         "rawType": "int64",
         "type": "integer"
        },
        {
         "name": "free",
         "rawType": "bool",
         "type": "boolean"
        },
        {
         "name": "currency",
         "rawType": "object",
         "type": "string"
        },
        {
         "name": "description",
         "rawType": "object",
         "type": "string"
        },
        {
         "name": "developer",
         "rawType": "object",
         "type": "string"
        },
        {
         "name": "installs",
         "rawType": "float64",
         "type": "float"
        }
       ],
       "conversionMethod": "pd.DataFrame",
       "ref": "31b8993d-d40e-4a39-9893-6536e0309780",
       "rows": [
        [
         "0",
         "com.ochsner.digitalmedicine",
         "Digital Medicine",
         "4.2153845",
         "Health & Fitness",
         "0",
         "True",
         "USD",
         "The Digital Medicine app simplifies how you care for your chronic condition—offering a customized experience for members that is intuitive, streamlined, and personalized. Connect with your data, set preferences, and control your health. Easy just got easier.\r\n\r\nSEAMLESSLY TRANSMIT READINGS\r\n• Take and send your weight, blood pressure and blood sugar readings to your care team.\r\n• Log your meals easily and get nutritional tips based on what you've logged for the day.\r\n\r\nSET PREFERENCES\r\n• Choose when to receive program reminders, whether it’s to submit a reading, review your monthly report, or other relevant program tasks, that best fits your unique schedule.\r\n\r\nREADING GUIDANCE\r\n• Get in-app guidance on blood pressure and/or blood sugar readings.\r\n\r\nDIGITAL COACHING \r\n• Gain knowledge on your program and health journey through interactive learning missions.  \r\n• Understand your progress through trends and monthly reports in-app. \r\n\r\nEARLY ACCESS\r\n• Gain access to the latest Digital Medicine app features and enhancements.\r\n\r\nSUPPORT\r\n• Enjoy guided in-app device setup instructions and watch videos on setting up your device and how to take readings.\r\n\r\nTrack progress, stay motivated, and feel better with Digital Medicine.\r\n\r\nDigital Medicine app is not any substitute for professional healthcare services or advice. Any health related information provided is for informational purposes and should not be used for diagnostic or medical purposes. Always consult a healthcare professional for your health and safety needs.",
         "Ochsner Health System",
         null
        ],
        [
         "1",
         "com.bodysite.bodysite",
         "BodySite Digital Health",
         "4.28",
         "Health & Fitness",
         "0",
         "True",
         "USD",
         "BodySite's digital health and lifestyle app connects you with your wellness provider's wellness plan in real time. Receive daily meal planning, exercise guidance, lifestyle modification support and motivation.\r\n\r\nWhat you get:\r\n\r\nFor users with a BodySite account / requires a provider:\r\n* Wellness Plans Selected For You\r\n* Your plan details delivered daily from your provider\r\n* Meal plans, grocery lists and recipes\r\n* Calorie counter\r\n* Meal by meal and daily nutritional summary with calories and macronutrient breakdowns and graphs\r\n* Nutritional summary with calories and macronutrient breakdowns and graphs for each food\r\n* Easily store favorite foods and meals\r\n* A detailed exercise program\r\n* Exercise videos and photo examples and descriptions\r\n* Daily affirmations, uplifting support and motivation\r\n* Activity tracker\r\n* Photo journal\r\n* Bar Code Food Scanner\r\n* Private journal to keep track of your progress, ideas \r\n* Real-time sharing of your food, exercise, body and personal journals with your provider\r\n* Direct private messaging with your provider\r\n* Push notifications for private messaging\r\n* Track steps, water, sleep and custom activities\r\n* Integration with Fitbit (requires activation from web account)",
         "BodySite",
         null
        ],
        [
         "2",
         "com.appex.myhealth",
         "MyHealth-Digital Health Locker",
         "0.0",
         "Health & Fitness",
         "0",
         "True",
         "USD",
         "MyHealth app is a digital health locker that helps you to digitize, store, and manage your medical reports and body vitals from anywhere in the world. It not only enables you to easily share your medical records with healthcare providers during appointments, with family and friends in cases of medical emergencies.\r\n\r\nBeyond merely storing your health records, The MyHealth app allows you to do the following:\r\n\r\n1. Manage your family’s health with a “Family Health Account”\r\n2. Identify and manage your genetic health risks with “MyGene”\r\n3. Get “Smart Health Insights” to identify patterns and potential health issues\r\n4. Track essential “Body Vitals”, including blood pressure (BP) and blood sugar levels effortlessly\r\n\r\nAdditionally, the MyHealth app is ABDM compliant and helps you create your Ayushman Bharat Health Account (ABHA Card) in under 60 seconds.\r\n\r\nDownload the FREE MyHealth App and begin your Digital Health Journey today.\r\n___________________________________________________________________________\r\nWhy should you choose MyHealth app?\r\n\r\n❌You can now say goodbye to carrying bulky medical files, health records & prescription notes while visiting the doctor.\r\n❌You no longer need to repeatedly take pictures of the same medical report to share with doctors and healthcare providers over WhatsApp.\r\n❌You can eliminate the possibilities of misdiagnosis and isolated treatments, as your doctor will now be well-informed.\r\n❌You no longer have to worry about losing, misplacing, or damaging your and your family’s health records.\r\n\r\nThe MyHealth app ensures the sharing of important medical information between patients and physicians happens in a seamless and secured manner, thereby transforming the patient-physician relationship.\r\n___________________________________________________________________________\r\nAre you wondering if the app is safe and secure to store your medical records?\r\n\r\nYes, Absolutely. The MyHealth app is not only approved by the National Health Authority of India but is also HIPAA compliant. This guarantees that patient health information (PHI) is protected from unauthorized access and breaches.\r\n\r\nAdditionally, the app adheres to HL7 standards, facilitating seamless data exchange between different healthcare systems and providers, resulting in improved care coordination, reduced clinical errors, and more efficient clinical workflows.\r\n\r\nPatient privacy is critical to us and we take appropriate security measures to protect your data from being accidentally lost, used, or accessed by unauthorized sources. We DO NOT use your data to:\r\n\r\n❌Disclose, sell, rent, or otherwise provide your personal information to other companies.\r\n❌Share your personal information with third parties unless required by law.",
         "Appex Innovation Solutions LLC",
         null
        ],
        [
         "3",
         "com.cogniss.edinburghinnovations.digitalhealthportal",
         "Digital Health Portal",
         null,
         "Health & Fitness",
         "0",
         "True",
         "USD",
         "Edinburgh Innovations is the University of Edinburgh’s commercialisation service. Together, we develop innovative ideas and deliver solutions to the world’s biggest medical challenges by connecting academic researchers, patients, clinicians, scientists, partners and state of the art clinical and pre-clinical research facilities at the University. These digital health projects are sponsored by the Wellcome iTPA innovation accelerator at the University of Edinburgh.",
         "Cogniss",
         null
        ],
        [
         "4",
         "com.FlexCare.app",
         "FlexCare Digital Health",
         "2.0",
         "Health & Fitness",
         "0",
         "True",
         "USD",
         "FlexCare is a Digital Health provider offering members 24/7/365 access to Telemedicine, TeleDentistry, TeleSpine, Dermatology, Behavioral Health, Companion/Caregiver and other programs via text, phone or online video—whenever they need it, from wherever they are. Our U.S. board-certified providers can diagnose, recommend treatment, and write short-term, non DEA prescriptions, when appropriate.",
         "FlexCare. LLC",
         null
        ]
       ],
       "shape": {
        "columns": 10,
        "rows": 5
       }
      },
      "text/html": [
       "<div>\n",
       "<style scoped>\n",
       "    .dataframe tbody tr th:only-of-type {\n",
       "        vertical-align: middle;\n",
       "    }\n",
       "\n",
       "    .dataframe tbody tr th {\n",
       "        vertical-align: top;\n",
       "    }\n",
       "\n",
       "    .dataframe thead th {\n",
       "        text-align: right;\n",
       "    }\n",
       "</style>\n",
       "<table border=\"1\" class=\"dataframe\">\n",
       "  <thead>\n",
       "    <tr style=\"text-align: right;\">\n",
       "      <th></th>\n",
       "      <th>appId</th>\n",
       "      <th>title</th>\n",
       "      <th>score</th>\n",
       "      <th>genre</th>\n",
       "      <th>price</th>\n",
       "      <th>free</th>\n",
       "      <th>currency</th>\n",
       "      <th>description</th>\n",
       "      <th>developer</th>\n",
       "      <th>installs</th>\n",
       "    </tr>\n",
       "  </thead>\n",
       "  <tbody>\n",
       "    <tr>\n",
       "      <th>0</th>\n",
       "      <td>com.ochsner.digitalmedicine</td>\n",
       "      <td>Digital Medicine</td>\n",
       "      <td>4.215384</td>\n",
       "      <td>Health &amp; Fitness</td>\n",
       "      <td>0</td>\n",
       "      <td>True</td>\n",
       "      <td>USD</td>\n",
       "      <td>The Digital Medicine app simplifies how you ca...</td>\n",
       "      <td>Ochsner Health System</td>\n",
       "      <td>NaN</td>\n",
       "    </tr>\n",
       "    <tr>\n",
       "      <th>1</th>\n",
       "      <td>com.bodysite.bodysite</td>\n",
       "      <td>BodySite Digital Health</td>\n",
       "      <td>4.280000</td>\n",
       "      <td>Health &amp; Fitness</td>\n",
       "      <td>0</td>\n",
       "      <td>True</td>\n",
       "      <td>USD</td>\n",
       "      <td>BodySite's digital health and lifestyle app co...</td>\n",
       "      <td>BodySite</td>\n",
       "      <td>NaN</td>\n",
       "    </tr>\n",
       "    <tr>\n",
       "      <th>2</th>\n",
       "      <td>com.appex.myhealth</td>\n",
       "      <td>MyHealth-Digital Health Locker</td>\n",
       "      <td>0.000000</td>\n",
       "      <td>Health &amp; Fitness</td>\n",
       "      <td>0</td>\n",
       "      <td>True</td>\n",
       "      <td>USD</td>\n",
       "      <td>MyHealth app is a digital health locker that h...</td>\n",
       "      <td>Appex Innovation Solutions LLC</td>\n",
       "      <td>NaN</td>\n",
       "    </tr>\n",
       "    <tr>\n",
       "      <th>3</th>\n",
       "      <td>com.cogniss.edinburghinnovations.digitalhealth...</td>\n",
       "      <td>Digital Health Portal</td>\n",
       "      <td>NaN</td>\n",
       "      <td>Health &amp; Fitness</td>\n",
       "      <td>0</td>\n",
       "      <td>True</td>\n",
       "      <td>USD</td>\n",
       "      <td>Edinburgh Innovations is the University of Edi...</td>\n",
       "      <td>Cogniss</td>\n",
       "      <td>NaN</td>\n",
       "    </tr>\n",
       "    <tr>\n",
       "      <th>4</th>\n",
       "      <td>com.FlexCare.app</td>\n",
       "      <td>FlexCare Digital Health</td>\n",
       "      <td>2.000000</td>\n",
       "      <td>Health &amp; Fitness</td>\n",
       "      <td>0</td>\n",
       "      <td>True</td>\n",
       "      <td>USD</td>\n",
       "      <td>FlexCare is a Digital Health provider offering...</td>\n",
       "      <td>FlexCare. LLC</td>\n",
       "      <td>NaN</td>\n",
       "    </tr>\n",
       "  </tbody>\n",
       "</table>\n",
       "</div>"
      ],
      "text/plain": [
       "                                               appId  \\\n",
       "0                        com.ochsner.digitalmedicine   \n",
       "1                              com.bodysite.bodysite   \n",
       "2                                 com.appex.myhealth   \n",
       "3  com.cogniss.edinburghinnovations.digitalhealth...   \n",
       "4                                   com.FlexCare.app   \n",
       "\n",
       "                            title     score             genre  price  free  \\\n",
       "0                Digital Medicine  4.215384  Health & Fitness      0  True   \n",
       "1         BodySite Digital Health  4.280000  Health & Fitness      0  True   \n",
       "2  MyHealth-Digital Health Locker  0.000000  Health & Fitness      0  True   \n",
       "3           Digital Health Portal       NaN  Health & Fitness      0  True   \n",
       "4         FlexCare Digital Health  2.000000  Health & Fitness      0  True   \n",
       "\n",
       "  currency                                        description  \\\n",
       "0      USD  The Digital Medicine app simplifies how you ca...   \n",
       "1      USD  BodySite's digital health and lifestyle app co...   \n",
       "2      USD  MyHealth app is a digital health locker that h...   \n",
       "3      USD  Edinburgh Innovations is the University of Edi...   \n",
       "4      USD  FlexCare is a Digital Health provider offering...   \n",
       "\n",
       "                        developer  installs  \n",
       "0           Ochsner Health System       NaN  \n",
       "1                        BodySite       NaN  \n",
       "2  Appex Innovation Solutions LLC       NaN  \n",
       "3                         Cogniss       NaN  \n",
       "4                   FlexCare. LLC       NaN  "
      ]
     },
     "execution_count": 3,
     "metadata": {},
     "output_type": "execute_result"
    }
   ],
   "source": [
    "# Check available columns\n",
    "print(apps_df.columns.tolist())\n",
    "\n",
    "# Select and rename columns for better readability\n",
    "apps_df = apps_df[['appId', 'title', 'score', 'genre', 'price', 'free', 'currency', 'description', 'developer','installs']]\n",
    "\n",
    "# Convert numeric types\n",
    "apps_df['score'] = pd.to_numeric(apps_df['score'], errors='coerce')\n",
    "apps_df['installs'] = pd.to_numeric(apps_df['installs'], errors='coerce')\n",
    "\n",
    "# Display the updated dataframe\n",
    "apps_df.head()"
   ]
  },
  {
   "cell_type": "markdown",
   "metadata": {},
   "source": [
    "## Step 2: Explore the App Data\n",
    "\n",
    "Let's explore the search results with some basic visualizations."
   ]
  },
  {
   "cell_type": "code",
   "execution_count": 4,
   "metadata": {},
   "outputs": [
    {
     "data": {
      "image/png": "[encoded data removed]",
      "text/plain": [
       "<Figure size 1000x600 with 1 Axes>"
      ]
     },
     "metadata": {},
     "output_type": "display_data"
    },
    {
     "data": {
      "image/png": "[encoded data removed]",
      "text/plain": [
       "<Figure size 1200x800 with 1 Axes>"
      ]
     },
     "metadata": {},
     "output_type": "display_data"
    },
    {
     "data": {
      "image/png": "[encoded data removed]",
      "text/plain": [
       "<Figure size 800x800 with 1 Axes>"
      ]
     },
     "metadata": {},
     "output_type": "display_data"
    }
   ],
   "source": [
    "# Distribution of app ratings\n",
    "plt.figure(figsize=(10, 6))\n",
    "sns.histplot(apps_df['score'].dropna(), bins=20, kde=True)\n",
    "plt.title('Distribution of App Ratings')\n",
    "plt.xlabel('Rating (out of 5)')\n",
    "plt.ylabel('Number of Apps')\n",
    "plt.grid(True, alpha=0.3)\n",
    "plt.tight_layout()\n",
    "plt.show()\n",
    "\n",
    "# Top genres\n",
    "plt.figure(figsize=(12, 8))\n",
    "genre_counts = apps_df['genre'].value_counts().head(10)\n",
    "sns.barplot(x=genre_counts.values, y=genre_counts.index)\n",
    "plt.title('Top 10 Genres for Digital Health Apps')\n",
    "plt.xlabel('Number of Apps')\n",
    "plt.tight_layout()\n",
    "plt.show()\n",
    "\n",
    "# Free vs Paid apps\n",
    "plt.figure(figsize=(8, 8))\n",
    "free_counts = apps_df['free'].value_counts()\n",
    "plt.pie(free_counts, labels=free_counts.index, autopct='%1.1f%%', colors=['#4CAF50', '#2196F3', '#FFC107', '#9C27B0'][:len(free_counts)])\n",
    "plt.title('Free vs Paid Apps')\n",
    "plt.tight_layout()\n",
    "plt.show()"
   ]
  },
  {
   "cell_type": "markdown",
   "metadata": {},
   "source": [
    "Let's look at the top 10 apps based on user ratings and install counts."
   ]
  },
  {
   "cell_type": "code",
   "execution_count": 5,
   "metadata": {},
   "outputs": [
    {
     "name": "stdout",
     "output_type": "stream",
     "text": [
      "Top 10 Rated Digital Health Apps:\n",
      "\n",
      "Top 10 Most Installed Digital Health Apps:\n"
     ]
    },
    {
     "data": {
      "application/vnd.microsoft.datawrangler.viewer.v0+json": {
       "columns": [
        {
         "name": "index",
         "rawType": "int64",
         "type": "integer"
        },
        {
         "name": "title",
         "rawType": "object",
         "type": "string"
        },
        {
         "name": "developer",
         "rawType": "object",
         "type": "string"
        },
        {
         "name": "score",
         "rawType": "float64",
         "type": "float"
        },
        {
         "name": "installs",
         "rawType": "float64",
         "type": "float"
        },
        {
         "name": "genre",
         "rawType": "object",
         "type": "string"
        }
       ],
       "conversionMethod": "pd.DataFrame",
       "ref": "b93a2fc0-7f36-4feb-9d77-81596050bd60",
       "rows": [
        [
         "0",
         "Digital Medicine",
         "Ochsner Health System",
         "4.2153845",
         null,
         "Health & Fitness"
        ],
        [
         "1",
         "BodySite Digital Health",
         "BodySite",
         "4.28",
         null,
         "Health & Fitness"
        ],
        [
         "2",
         "MyHealth-Digital Health Locker",
         "Appex Innovation Solutions LLC",
         "0.0",
         null,
         "Health & Fitness"
        ],
        [
         "3",
         "Digital Health Portal",
         "Cogniss",
         null,
         null,
         "Health & Fitness"
        ],
        [
         "4",
         "FlexCare Digital Health",
         "FlexCare. LLC",
         "2.0",
         null,
         "Health & Fitness"
        ],
        [
         "5",
         "Digital Health & Medication",
         "Bapelkes Krakatau Steel",
         null,
         null,
         "Productivity"
        ],
        [
         "6",
         "DIGITAL HEALTH FESTIVAL 2025",
         "Digital Health Festival",
         null,
         null,
         "Business"
        ],
        [
         "7",
         "HealthLy - Digital Health",
         "HealthCare Central Co.",
         "4.019608",
         null,
         "Medical"
        ],
        [
         "8",
         "Digital Healthcare Solutions",
         "Digital Healthcare Solutions LLC",
         "2.142857",
         null,
         "Health & Fitness"
        ],
        [
         "9",
         "Academy of Digital Health",
         "Digital Health Associates",
         null,
         null,
         "Education"
        ]
       ],
       "shape": {
        "columns": 5,
        "rows": 10
       }
      },
      "text/html": [
       "<div>\n",
       "<style scoped>\n",
       "    .dataframe tbody tr th:only-of-type {\n",
       "        vertical-align: middle;\n",
       "    }\n",
       "\n",
       "    .dataframe tbody tr th {\n",
       "        vertical-align: top;\n",
       "    }\n",
       "\n",
       "    .dataframe thead th {\n",
       "        text-align: right;\n",
       "    }\n",
       "</style>\n",
       "<table border=\"1\" class=\"dataframe\">\n",
       "  <thead>\n",
       "    <tr style=\"text-align: right;\">\n",
       "      <th></th>\n",
       "      <th>title</th>\n",
       "      <th>developer</th>\n",
       "      <th>score</th>\n",
       "      <th>installs</th>\n",
       "      <th>genre</th>\n",
       "    </tr>\n",
       "  </thead>\n",
       "  <tbody>\n",
       "    <tr>\n",
       "      <th>0</th>\n",
       "      <td>Digital Medicine</td>\n",
       "      <td>Ochsner Health System</td>\n",
       "      <td>4.215384</td>\n",
       "      <td>NaN</td>\n",
       "      <td>Health &amp; Fitness</td>\n",
       "    </tr>\n",
       "    <tr>\n",
       "      <th>1</th>\n",
       "      <td>BodySite Digital Health</td>\n",
       "      <td>BodySite</td>\n",
       "      <td>4.280000</td>\n",
       "      <td>NaN</td>\n",
       "      <td>Health &amp; Fitness</td>\n",
       "    </tr>\n",
       "    <tr>\n",
       "      <th>2</th>\n",
       "      <td>MyHealth-Digital Health Locker</td>\n",
       "      <td>Appex Innovation Solutions LLC</td>\n",
       "      <td>0.000000</td>\n",
       "      <td>NaN</td>\n",
       "      <td>Health &amp; Fitness</td>\n",
       "    </tr>\n",
       "    <tr>\n",
       "      <th>3</th>\n",
       "      <td>Digital Health Portal</td>\n",
       "      <td>Cogniss</td>\n",
       "      <td>NaN</td>\n",
       "      <td>NaN</td>\n",
       "      <td>Health &amp; Fitness</td>\n",
       "    </tr>\n",
       "    <tr>\n",
       "      <th>4</th>\n",
       "      <td>FlexCare Digital Health</td>\n",
       "      <td>FlexCare. LLC</td>\n",
       "      <td>2.000000</td>\n",
       "      <td>NaN</td>\n",
       "      <td>Health &amp; Fitness</td>\n",
       "    </tr>\n",
       "    <tr>\n",
       "      <th>5</th>\n",
       "      <td>Digital Health &amp; Medication</td>\n",
       "      <td>Bapelkes Krakatau Steel</td>\n",
       "      <td>NaN</td>\n",
       "      <td>NaN</td>\n",
       "      <td>Productivity</td>\n",
       "    </tr>\n",
       "    <tr>\n",
       "      <th>6</th>\n",
       "      <td>DIGITAL HEALTH FESTIVAL 2025</td>\n",
       "      <td>Digital Health Festival</td>\n",
       "      <td>NaN</td>\n",
       "      <td>NaN</td>\n",
       "      <td>Business</td>\n",
       "    </tr>\n",
       "    <tr>\n",
       "      <th>7</th>\n",
       "      <td>HealthLy - Digital Health</td>\n",
       "      <td>HealthCare Central Co.</td>\n",
       "      <td>4.019608</td>\n",
       "      <td>NaN</td>\n",
       "      <td>Medical</td>\n",
       "    </tr>\n",
       "    <tr>\n",
       "      <th>8</th>\n",
       "      <td>Digital Healthcare Solutions</td>\n",
       "      <td>Digital Healthcare Solutions LLC</td>\n",
       "      <td>2.142857</td>\n",
       "      <td>NaN</td>\n",
       "      <td>Health &amp; Fitness</td>\n",
       "    </tr>\n",
       "    <tr>\n",
       "      <th>9</th>\n",
       "      <td>Academy of Digital Health</td>\n",
       "      <td>Digital Health Associates</td>\n",
       "      <td>NaN</td>\n",
       "      <td>NaN</td>\n",
       "      <td>Education</td>\n",
       "    </tr>\n",
       "  </tbody>\n",
       "</table>\n",
       "</div>"
      ],
      "text/plain": [
       "                            title                         developer     score  \\\n",
       "0                Digital Medicine             Ochsner Health System  4.215384   \n",
       "1         BodySite Digital Health                          BodySite  4.280000   \n",
       "2  MyHealth-Digital Health Locker    Appex Innovation Solutions LLC  0.000000   \n",
       "3           Digital Health Portal                           Cogniss       NaN   \n",
       "4         FlexCare Digital Health                     FlexCare. LLC  2.000000   \n",
       "5     Digital Health & Medication           Bapelkes Krakatau Steel       NaN   \n",
       "6    DIGITAL HEALTH FESTIVAL 2025           Digital Health Festival       NaN   \n",
       "7       HealthLy - Digital Health            HealthCare Central Co.  4.019608   \n",
       "8    Digital Healthcare Solutions  Digital Healthcare Solutions LLC  2.142857   \n",
       "9       Academy of Digital Health         Digital Health Associates       NaN   \n",
       "\n",
       "   installs             genre  \n",
       "0       NaN  Health & Fitness  \n",
       "1       NaN  Health & Fitness  \n",
       "2       NaN  Health & Fitness  \n",
       "3       NaN  Health & Fitness  \n",
       "4       NaN  Health & Fitness  \n",
       "5       NaN      Productivity  \n",
       "6       NaN          Business  \n",
       "7       NaN           Medical  \n",
       "8       NaN  Health & Fitness  \n",
       "9       NaN         Education  "
      ]
     },
     "execution_count": 5,
     "metadata": {},
     "output_type": "execute_result"
    }
   ],
   "source": [
    "# Top rated apps (minimum 1000 installs to filter out new apps with few ratings)\n",
    "top_rated = apps_df[apps_df['installs'] >= 1000].sort_values('score', ascending=False).head(10)\n",
    "print(\"Top 10 Rated Digital Health Apps:\")\n",
    "top_rated[['title', 'developer', 'score', 'installs', 'genre']]\n",
    "\n",
    "# Most installed apps\n",
    "most_installed = apps_df.sort_values('installs', ascending=False).head(10)\n",
    "print(\"\\nTop 10 Most Installed Digital Health Apps:\")\n",
    "most_installed[['title', 'developer', 'score', 'installs', 'genre']]"
   ]
  },
  {
   "cell_type": "markdown",
   "metadata": {},
   "source": [
    "## Step 3: Get Detailed Information for Each App\n",
    "\n",
    "Now, let's get more detailed information about each app. This step is optional if you only need the review data."
   ]
  },
  {
   "cell_type": "code",
   "execution_count": 6,
   "metadata": {},
   "outputs": [
    {
     "data": {
      "application/vnd.jupyter.widget-view+json": {
       "model_id": "b58436e3ebab45699b82f4beba114525",
       "version_major": 2,
       "version_minor": 0
      },
      "text/plain": [
       "  0%|          | 0/10 [00:00<?, ?it/s]"
      ]
     },
     "metadata": {},
     "output_type": "display_data"
    },
    {
     "data": {
      "application/vnd.microsoft.datawrangler.viewer.v0+json": {
       "columns": [
        {
         "name": "index",
         "rawType": "int64",
         "type": "integer"
        },
        {
         "name": "title",
         "rawType": "object",
         "type": "string"
        },
        {
         "name": "description",
         "rawType": "object",
         "type": "string"
        },
        {
         "name": "descriptionHTML",
         "rawType": "object",
         "type": "string"
        },
        {
         "name": "summary",
         "rawType": "object",
         "type": "string"
        },
        {
         "name": "installs",
         "rawType": "object",
         "type": "string"
        },
        {
         "name": "minInstalls",
         "rawType": "int64",
         "type": "integer"
        },
        {
         "name": "realInstalls",
         "rawType": "int64",
         "type": "integer"
        },
        {
         "name": "score",
         "rawType": "float64",
         "type": "float"
        },
        {
         "name": "ratings",
         "rawType": "float64",
         "type": "float"
        },
        {
         "name": "reviews",
         "rawType": "float64",
         "type": "float"
        },
        {
         "name": "histogram",
         "rawType": "object",
         "type": "unknown"
        },
        {
         "name": "price",
         "rawType": "int64",
         "type": "integer"
        },
        {
         "name": "free",
         "rawType": "bool",
         "type": "boolean"
        },
        {
         "name": "currency",
         "rawType": "object",
         "type": "string"
        },
        {
         "name": "sale",
         "rawType": "bool",
         "type": "boolean"
        },
        {
         "name": "saleTime",
         "rawType": "object",
         "type": "unknown"
        },
        {
         "name": "originalPrice",
         "rawType": "object",
         "type": "unknown"
        },
        {
         "name": "saleText",
         "rawType": "object",
         "type": "unknown"
        },
        {
         "name": "offersIAP",
         "rawType": "bool",
         "type": "boolean"
        },
        {
         "name": "inAppProductPrice",
         "rawType": "object",
         "type": "unknown"
        },
        {
         "name": "developer",
         "rawType": "object",
         "type": "string"
        },
        {
         "name": "developerId",
         "rawType": "object",
         "type": "string"
        },
        {
         "name": "developerEmail",
         "rawType": "object",
         "type": "string"
        },
        {
         "name": "developerWebsite",
         "rawType": "object",
         "type": "unknown"
        },
        {
         "name": "developerAddress",
         "rawType": "object",
         "type": "unknown"
        },
        {
         "name": "privacyPolicy",
         "rawType": "object",
         "type": "string"
        },
        {
         "name": "genre",
         "rawType": "object",
         "type": "string"
        },
        {
         "name": "genreId",
         "rawType": "object",
         "type": "string"
        },
        {
         "name": "categories",
         "rawType": "object",
         "type": "unknown"
        },
        {
         "name": "icon",
         "rawType": "object",
         "type": "string"
        },
        {
         "name": "headerImage",
         "rawType": "object",
         "type": "string"
        },
        {
         "name": "screenshots",
         "rawType": "object",
         "type": "unknown"
        },
        {
         "name": "video",
         "rawType": "object",
         "type": "unknown"
        },
        {
         "name": "videoImage",
         "rawType": "object",
         "type": "unknown"
        },
        {
         "name": "contentRating",
         "rawType": "object",
         "type": "string"
        },
        {
         "name": "contentRatingDescription",
         "rawType": "object",
         "type": "unknown"
        },
        {
         "name": "adSupported",
         "rawType": "bool",
         "type": "boolean"
        },
        {
         "name": "containsAds",
         "rawType": "bool",
         "type": "boolean"
        },
        {
         "name": "released",
         "rawType": "object",
         "type": "string"
        },
        {
         "name": "lastUpdatedOn",
         "rawType": "object",
         "type": "string"
        },
        {
         "name": "updated",
         "rawType": "int64",
         "type": "integer"
        },
        {
         "name": "version",
         "rawType": "object",
         "type": "string"
        },
        {
         "name": "comments",
         "rawType": "object",
         "type": "unknown"
        },
        {
         "name": "appId",
         "rawType": "object",
         "type": "string"
        },
        {
         "name": "url",
         "rawType": "object",
         "type": "string"
        }
       ],
       "conversionMethod": "pd.DataFrame",
       "ref": "5de158e8-2f81-4213-a789-7b65cfee72af",
       "rows": [
        [
         "0",
         "Digital Medicine",
         "The Digital Medicine app simplifies how you care for your chronic condition—offering a customized experience for members that is intuitive, streamlined, and personalized. Connect with your data, set preferences, and control your health. Easy just got easier.\r\n\r\nSEAMLESSLY TRANSMIT READINGS\r\n• Take and send your weight, blood pressure and blood sugar readings to your care team.\r\n• Log your meals easily and get nutritional tips based on what you've logged for the day.\r\n\r\nSET PREFERENCES\r\n• Choose when to receive program reminders, whether it’s to submit a reading, review your monthly report, or other relevant program tasks, that best fits your unique schedule.\r\n\r\nREADING GUIDANCE\r\n• Get in-app guidance on blood pressure and/or blood sugar readings.\r\n\r\nDIGITAL COACHING \r\n• Gain knowledge on your program and health journey through interactive learning missions.  \r\n• Understand your progress through trends and monthly reports in-app. \r\n\r\nEARLY ACCESS\r\n• Gain access to the latest Digital Medicine app features and enhancements.\r\n\r\nSUPPORT\r\n• Enjoy guided in-app device setup instructions and watch videos on setting up your device and how to take readings.\r\n\r\nTrack progress, stay motivated, and feel better with Digital Medicine.\r\n\r\nDigital Medicine app is not any substitute for professional healthcare services or advice. Any health related information provided is for informational purposes and should not be used for diagnostic or medical purposes. Always consult a healthcare professional for your health and safety needs.",
         "The Digital Medicine app simplifies how you care for your chronic condition—offering a customized experience for members that is intuitive, streamlined, and personalized. Connect with your data, set preferences, and control your health. Easy just got easier.<br><br>SEAMLESSLY TRANSMIT READINGS<br>• Take and send your weight, blood pressure and blood sugar readings to your care team.<br>• Log your meals easily and get nutritional tips based on what you&#39;ve logged for the day.<br><br>SET PREFERENCES<br>• Choose when to receive program reminders, whether it’s to submit a reading, review your monthly report, or other relevant program tasks, that best fits your unique schedule.<br><br>READING GUIDANCE<br>• Get in-app guidance on blood pressure and/or blood sugar readings.<br><br>DIGITAL COACHING <br>• Gain knowledge on your program and health journey through interactive learning missions.  <br>• Understand your progress through trends and monthly reports in-app. <br><br>EARLY ACCESS<br>• Gain access to the latest Digital Medicine app features and enhancements.<br><br>SUPPORT<br>• Enjoy guided in-app device setup instructions and watch videos on setting up your device and how to take readings.<br><br>Track progress, stay motivated, and feel better with Digital Medicine.<br><br>Digital Medicine app is not any substitute for professional healthcare services or advice. Any health related information provided is for informational purposes and should not be used for diagnostic or medical purposes. Always consult a healthcare professional for your health and safety needs.",
         "Manage your health from home",
         "5,000+",
         "5000",
         "9629",
         "4.2153845",
         "65.0",
         "27.0",
         "[7, 3, 3, 8, 44]",
         "0",
         "True",
         "USD",
         "False",
         null,
         null,
         null,
         "False",
         null,
         "Ochsner Health System",
         "Ochsner+Health+System",
         "connect@ochsner.org",
         "https://connectedhealth.ochsner.org/digital-medicine",
         null,
         "https://www.ochsner.org/patients-visitors/privacy-policies/ochsner-privacy-policy",
         "Health & Fitness",
         "HEALTH_AND_FITNESS",
         "[{'name': 'Health & Fitness', 'id': 'HEALTH_AND_FITNESS'}]",
         "https://play-lh.googleusercontent.com/mh5gRZSZwedWY8kxblm72ysxbGvm2VK4-ytVoqaRlirzz8wNAPXpFoi8FokGIgEXU04",
         "https://play-lh.googleusercontent.com/byugT9Q38Iea393XBiaFFlrKJufet_ejM_mwCjcXUdHAK6TSBqbaG4qPIDRLOVvWGn7k",
         "['https://play-lh.googleusercontent.com/_Mn8bW72Xc4w5zRqy-ihQjm-snT2z2vCuqPBDDnv-y5JBGSsD54_ceVkyTRGBTgwb4c', 'https://play-lh.googleusercontent.com/FneA9Y8MjrpzDF6adDFLr37BDf66mteoVNckFhXXursxYirkj9glyyyXOJHM668_I-M', 'https://play-lh.googleusercontent.com/zpis3rufegAF0nacR0wVGfpPwzLVqPLzgvxwogPXuSv6XRSROa0QRbKmj55tb1Z2wQ', 'https://play-lh.googleusercontent.com/Y5uFy_6puXS9lAa7WzzvppigYUel7cowTjDJSykjs4nHyeWpn7cjOCWAtp-j1VlxTMY', 'https://play-lh.googleusercontent.com/0Pz6a7QxbPP5PECnwHaxidVt-BDpFHmaK-5jNWusEz7PV5tp8Ob9xcgwLQo5TIva1Ng', 'https://play-lh.googleusercontent.com/IX9PrLDMBJmHpoT4_xd82d-N8rLWjTyAIUpbxQcNSlQ-mY6d9DR4vs16ZSRKnl4pE0WG', 'https://play-lh.googleusercontent.com/MBNFVfUOTr9hevhjfaZD1OJQd1R1YDWQWvNTX6B6KYRwz8sZc0KI32izTCek4fneXhY', 'https://play-lh.googleusercontent.com/emQB2bwWaRgi6f0WZEjyOlVT02eysbDQFH27Jzbqj6bhmNYP4U5uShBhc2ckfpO1UX4', 'https://play-lh.googleusercontent.com/2KvSD9FVuhkFGTHhRFeYK_wZ8mKRt-wsFslyGYh6Mw5d_hqCmht8Bd3zREpF3gOdNhyR', 'https://play-lh.googleusercontent.com/7g68WAgpX7KLZ15JLDAJJfK4eoEGXeYfN4CM2D4UQ3snbkJ8FQDTFnwLFSrRusJ1Mw', 'https://play-lh.googleusercontent.com/jlfrwUXGga8ajZdGdigajyjkM_ZomAlKOgaGE-U9qNnYZc16q1Qjwed3qN8TA1OsYOk', 'https://play-lh.googleusercontent.com/e4ZKvXllWGC7kX0uXJtUVLSjyb_9IiHwRZXqbuA10dBchSTCsF2Iveu85Kd4dlR92Js5', 'https://play-lh.googleusercontent.com/i6tMyMOQsC_DNL2Y6Nl3H1kR-O3YH1xBMVGHjqrIyD4Ot1P-oEaSaA8a5S1uADNSpZI', 'https://play-lh.googleusercontent.com/0H3vzK6WowY1KowzARkqoq_-TvRBZRVqD7QJS-jy6A3js1hfJi6BYDkISrCf1DmEu58', 'https://play-lh.googleusercontent.com/UImSVt-LR3ICJsPKEwuNDdB9ZhAOC1CcNaARTTemZxtm07OYt_nHXjSp1DFAZGKTEg', 'https://play-lh.googleusercontent.com/FTQp84gikatQ9gNOv9dZxnTRzpbgwJe7gEF-ajFZSVIejsZv0mtlU4BJi7X3V7Gt5oE', 'https://play-lh.googleusercontent.com/sXisdKmJou5blHxkvciCWEe0p_zJcGjsv5--0_ssR0Qkmu7XzBb2kUR-qlLk-XwijQ', 'https://play-lh.googleusercontent.com/ytbZFP6W0dEJdF9TSHK_pfZZULLQ9WOBRS2TgKG-X1JpPLr5v-OVX-0tfsP1uz_NEJ8']",
         null,
         null,
         "Everyone",
         null,
         "False",
         "False",
         "Aug 22, 2023",
         "Mar 31, 2025",
         "1743453661",
         "4.2.2(4)",
         "[]",
         "com.ochsner.digitalmedicine",
         "https://play.google.com/store/apps/details?id=com.ochsner.digitalmedicine&hl=en&gl=us"
        ],
        [
         "1",
         "BodySite Digital Health",
         "BodySite's digital health and lifestyle app connects you with your wellness provider's wellness plan in real time. Receive daily meal planning, exercise guidance, lifestyle modification support and motivation.\r\n\r\nWhat you get:\r\n\r\nFor users with a BodySite account / requires a provider:\r\n* Wellness Plans Selected For You\r\n* Your plan details delivered daily from your provider\r\n* Meal plans, grocery lists and recipes\r\n* Calorie counter\r\n* Meal by meal and daily nutritional summary with calories and macronutrient breakdowns and graphs\r\n* Nutritional summary with calories and macronutrient breakdowns and graphs for each food\r\n* Easily store favorite foods and meals\r\n* A detailed exercise program\r\n* Exercise videos and photo examples and descriptions\r\n* Daily affirmations, uplifting support and motivation\r\n* Activity tracker\r\n* Photo journal\r\n* Bar Code Food Scanner\r\n* Private journal to keep track of your progress, ideas \r\n* Real-time sharing of your food, exercise, body and personal journals with your provider\r\n* Direct private messaging with your provider\r\n* Push notifications for private messaging\r\n* Track steps, water, sleep and custom activities\r\n* Integration with Fitbit (requires activation from web account)",
         "BodySite&#39;s digital health and lifestyle app connects you with your wellness provider&#39;s wellness plan in real time. Receive daily meal planning, exercise guidance, lifestyle modification support and motivation.<br><br>What you get:<br><br>For users with a BodySite account / requires a provider:<br>* Wellness Plans Selected For You<br>* Your plan details delivered daily from your provider<br>* Meal plans, grocery lists and recipes<br>* Calorie counter<br>* Meal by meal and daily nutritional summary with calories and macronutrient breakdowns and graphs<br>* Nutritional summary with calories and macronutrient breakdowns and graphs for each food<br>* Easily store favorite foods and meals<br>* A detailed exercise program<br>* Exercise videos and photo examples and descriptions<br>* Daily affirmations, uplifting support and motivation<br>* Activity tracker<br>* Photo journal<br>* Bar Code Food Scanner<br>* Private journal to keep track of your progress, ideas <br>* Real-time sharing of your food, exercise, body and personal journals with your provider<br>* Direct private messaging with your provider<br>* Push notifications for private messaging<br>* Track steps, water, sleep and custom activities<br>* Integration with Fitbit (requires activation from web account)",
         "Reach optimal wellness following and tracking a wellness plan made just for you.",
         "10,000+",
         "10000",
         "34328",
         "4.28",
         "166.0",
         "83.0",
         "[8, 6, 16, 32, 100]",
         "0",
         "True",
         "USD",
         "False",
         null,
         null,
         null,
         "False",
         null,
         "BodySite",
         "BodySite",
         "info@bodysite.com",
         "https://mybodysite.com/",
         null,
         "https://bodysite.com/privacy-policy/",
         "Health & Fitness",
         "HEALTH_AND_FITNESS",
         "[{'name': 'Health & Fitness', 'id': 'HEALTH_AND_FITNESS'}]",
         "https://play-lh.googleusercontent.com/T72itamIvWsLMkwD5HeFESzPuok56tJ5Y9DFfInBav6IqbrkVKbcKBgiLu_Ki3ysQg",
         "https://play-lh.googleusercontent.com/fWUTpkwIIkaNiRCYSmfNfung8iBDFFaW_8Y7BCRf35UGHkjvAU0lwPo4-QgA4ZRsy5B8",
         "['https://play-lh.googleusercontent.com/2goly75arAd2NSbPyJ7G947uaKhd1JjkmSm7G5ZPUWOrcoJidv6FP9Z7X2zP99et8DBd', 'https://play-lh.googleusercontent.com/q3vH5bLV_6aAoNNMGElk_tHDVpJ7hoo6MyWS_VRBt10m4eilC0D-BosTWiTyy19gN2I', 'https://play-lh.googleusercontent.com/vBmWf-atfOKfafDUhdHAhc97Qn7mw9vXG_JcLf4vk67oKvG5hQLkSAH5lgZg0a4AK4E', 'https://play-lh.googleusercontent.com/27ymuqCtWc4wJqn_ufX6PL77TkLOwvyuptHREJQddwvbWrDQY8Anm922pl6sGV5I4tk', 'https://play-lh.googleusercontent.com/SsE7WHg3qEVEcLwbf-y9kjV6_wtSGuBmvi0UMF_NTAR6IgGL8MaEp4X38J1KVOW1Mw', 'https://play-lh.googleusercontent.com/0EE_GNIAYSzQ79GXSjPBcNuwyLi1LVWVl90E_6us2TVCbTgiuShhtYc7KvjsVNujYlh8', 'https://play-lh.googleusercontent.com/FKsfYxwMHnXoT6EJnHDDGjdTYLU34UaUmsfMMhYUwjwb3KMjIl-HFnHKVz5hccujreo', 'https://play-lh.googleusercontent.com/sXjfrj0htBwOW2Cq5MrbzcKqxiN434--clOg_ALGG05_YEnEjn-eT-W8ZorF1FIoGY8']",
         null,
         null,
         "Everyone",
         null,
         "False",
         "False",
         "Dec 5, 2016",
         "Feb 7, 2025",
         "1738956205",
         "Varies with device",
         "[]",
         "com.bodysite.bodysite",
         "https://play.google.com/store/apps/details?id=com.bodysite.bodysite&hl=en&gl=us"
        ],
        [
         "2",
         "MyHealth-Digital Health Locker",
         "MyHealth app is a digital health locker that helps you to digitize, store, and manage your medical reports and body vitals from anywhere in the world. It not only enables you to easily share your medical records with healthcare providers during appointments, with family and friends in cases of medical emergencies.\r\n\r\nBeyond merely storing your health records, The MyHealth app allows you to do the following:\r\n\r\n1. Manage your family’s health with a “Family Health Account”\r\n2. Identify and manage your genetic health risks with “MyGene”\r\n3. Get “Smart Health Insights” to identify patterns and potential health issues\r\n4. Track essential “Body Vitals”, including blood pressure (BP) and blood sugar levels effortlessly\r\n\r\nAdditionally, the MyHealth app is ABDM compliant and helps you create your Ayushman Bharat Health Account (ABHA Card) in under 60 seconds.\r\n\r\nDownload the FREE MyHealth App and begin your Digital Health Journey today.\r\n___________________________________________________________________________\r\nWhy should you choose MyHealth app?\r\n\r\n❌You can now say goodbye to carrying bulky medical files, health records & prescription notes while visiting the doctor.\r\n❌You no longer need to repeatedly take pictures of the same medical report to share with doctors and healthcare providers over WhatsApp.\r\n❌You can eliminate the possibilities of misdiagnosis and isolated treatments, as your doctor will now be well-informed.\r\n❌You no longer have to worry about losing, misplacing, or damaging your and your family’s health records.\r\n\r\nThe MyHealth app ensures the sharing of important medical information between patients and physicians happens in a seamless and secured manner, thereby transforming the patient-physician relationship.\r\n___________________________________________________________________________\r\nAre you wondering if the app is safe and secure to store your medical records?\r\n\r\nYes, Absolutely. The MyHealth app is not only approved by the National Health Authority of India but is also HIPAA compliant. This guarantees that patient health information (PHI) is protected from unauthorized access and breaches.\r\n\r\nAdditionally, the app adheres to HL7 standards, facilitating seamless data exchange between different healthcare systems and providers, resulting in improved care coordination, reduced clinical errors, and more efficient clinical workflows.\r\n\r\nPatient privacy is critical to us and we take appropriate security measures to protect your data from being accidentally lost, used, or accessed by unauthorized sources. We DO NOT use your data to:\r\n\r\n❌Disclose, sell, rent, or otherwise provide your personal information to other companies.\r\n❌Share your personal information with third parties unless required by law.",
         "MyHealth app is a digital health locker that helps you to digitize, store, and manage your medical reports and body vitals from anywhere in the world. It not only enables you to easily share your medical records with healthcare providers during appointments, with family and friends in cases of medical emergencies.<br><br>Beyond merely storing your health records, The MyHealth app allows you to do the following:<br><br>1. Manage your family’s health with a “Family Health Account”<br>2. Identify and manage your genetic health risks with “MyGene”<br>3. Get “Smart Health Insights” to identify patterns and potential health issues<br>4. Track essential “Body Vitals”, including blood pressure (BP) and blood sugar levels effortlessly<br><br>Additionally, the MyHealth app is ABDM compliant and helps you create your Ayushman Bharat Health Account (ABHA Card) in under 60 seconds.<br><br>Download the FREE MyHealth App and begin your Digital Health Journey today.<br>___________________________________________________________________________<br>Why should you choose MyHealth app?<br><br>❌You can now say goodbye to carrying bulky medical files, health records &amp; prescription notes while visiting the doctor.<br>❌You no longer need to repeatedly take pictures of the same medical report to share with doctors and healthcare providers over WhatsApp.<br>❌You can eliminate the possibilities of misdiagnosis and isolated treatments, as your doctor will now be well-informed.<br>❌You no longer have to worry about losing, misplacing, or damaging your and your family’s health records.<br><br>The MyHealth app ensures the sharing of important medical information between patients and physicians happens in a seamless and secured manner, thereby transforming the patient-physician relationship.<br>___________________________________________________________________________<br>Are you wondering if the app is safe and secure to store your medical records?<br><br>Yes, Absolutely. The MyHealth app is not only approved by the National Health Authority of India but is also HIPAA compliant. This guarantees that patient health information (PHI) is protected from unauthorized access and breaches.<br><br>Additionally, the app adheres to HL7 standards, facilitating seamless data exchange between different healthcare systems and providers, resulting in improved care coordination, reduced clinical errors, and more efficient clinical workflows.<br><br>Patient privacy is critical to us and we take appropriate security measures to protect your data from being accidentally lost, used, or accessed by unauthorized sources. We DO NOT use your data to:<br><br>❌Disclose, sell, rent, or otherwise provide your personal information to other companies.<br>❌Share your personal information with third parties unless required by law.",
         "MyHealth, Medical Records, ABHA",
         "1,000+",
         "1000",
         "1511",
         "0.0",
         "0.0",
         "0.0",
         "[0, 0, 0, 0, 0]",
         "0",
         "True",
         "USD",
         "False",
         null,
         null,
         null,
         "False",
         null,
         "Appex Innovation Solutions LLC",
         "5036575800391459727",
         "appstore@appexinnovation.com",
         "https://myhealth.icaresecure.com/",
         null,
         "https://myhealth.icaresecure.com/web/patient/privacy-policy",
         "Health & Fitness",
         "HEALTH_AND_FITNESS",
         "[{'name': 'Health & Fitness', 'id': 'HEALTH_AND_FITNESS'}]",
         "https://play-lh.googleusercontent.com/_6O_LPIJ8kYVMOxXguRGerZ9TwK07jwCv7efKmVUZwn4AID4FUSeH4QSVq4ocqLTDg",
         "https://play-lh.googleusercontent.com/APgeD7v1c-c51wvM9e8zmvl374nJAAXLmB31d0eMhwBWpZfEWW9k0K5fSaBjWDZxYCA",
         "['https://play-lh.googleusercontent.com/Y_teNQu8gAeNCvaAB-JckPPy_xFHuWBH7G7eemLsYI_BjFET5Jk6f85gdM6qhnmVLUA', 'https://play-lh.googleusercontent.com/88beN5GsEaCGL5ixqijm9m9Vn7NkB8joia2xPrCppk2JJWUkr3qxQzO6z4tCcrPX94mF', 'https://play-lh.googleusercontent.com/FzhbQe4JP3-ybSqiIIj5FkPl77uhlV-xw0tSgY89Z6dyLmBr3osU5SRsSZragKhv-tWv', 'https://play-lh.googleusercontent.com/rsYEv2bs4z34PNdNmeN-SDwBz1Zfi-RNCq-8INTD6HZ8OyirkmHNphJP63xw1XgLI8M', 'https://play-lh.googleusercontent.com/U0pZ0sH4z13RnsWXNpatB-EsWlTdzdv3-4E-OhkUWnd7pdczSjYy0Uhfwi9ShC2mkeSz', 'https://play-lh.googleusercontent.com/EuQFWPSjJ4iksAh6yEPGcqp2-J_2fRgftZxUgIooKryJ2Zht_qOWZGkpc84GatAxBpM', 'https://play-lh.googleusercontent.com/JtxzNnNQzfDgFQX3iLs5HrPvlfDxfBmvO7UVGBjR4UFfI_Zprvntrw964kGm4W6xApA', 'https://play-lh.googleusercontent.com/oGJCObgWJCCwkDT7_EDFMDVNT36iXa-LLCxpFM-4XV7z-B3egb6LZyIKVu3i-kJ6pGjo', 'https://play-lh.googleusercontent.com/5PK1gxbdKgdCReOkBxlzhVQbb4UVD4GG-EgOPwljAPucHNcVl_4aycc2EFUWfRhWyRLz', 'https://play-lh.googleusercontent.com/ScVsKi4-cghlXOA-rF6_cTexiXDzzDCOyBJy4j3FFQ3b2bDKl9duD-HpmnI4Aq_oTw', 'https://play-lh.googleusercontent.com/v38ssafJDyHcXiRL4HQFJIdlmQIG94QxejlYKt1V7OUOPzDd7t9a6IC-sJcNszxIasI', 'https://play-lh.googleusercontent.com/IQ4Cj_8rXxoERtLLh10sCEGEyXBtJjx1lkfQUjPQanq-tieQsNhmv04MrrgzZTGeiw8', 'https://play-lh.googleusercontent.com/DIrlYyLYAWctGSGD_obLuiA-JzKnLTMzlAu7-qDIk27OrXy6guS_Zvk_9XkNB0Evt96h', 'https://play-lh.googleusercontent.com/BsZZgbRN75x--b0i5INpgkETEl1cEJos0xuY_zDyNcaIOvu00la_UsWFp7yNGJ5c0Q', 'https://play-lh.googleusercontent.com/4GhrRwI-PuQjYlMKhdSQyHSjb4IDozLJCyTPd_Ugq9uGcoBAx3AkJvoIqVJz2MPrlg', 'https://play-lh.googleusercontent.com/OXi9TRbvnLekW7BEBd4NU63I22RRtboUZLBekAZGANdBHX02ueKFgcEwmNb3XAdLIA', 'https://play-lh.googleusercontent.com/HSgF7LBWXMDOr4l_evLmLv9r-EK3Pr6ee2vkM4gP66lBzWo63q6nfxPRNrrdU6FFes4f', 'https://play-lh.googleusercontent.com/lHaZHCXkaqj35fZXQgVBHTH6EAxQRpvDEF2_Hmw04MxGknZwI09hm1Qr1KBnzsF9mQ', 'https://play-lh.googleusercontent.com/OnQt15QFbhJviCR093ZVvrXPhiX7-JUxKIAbNpe58ljn1-5CXfTwgADZKXhoXMnF5kQo', 'https://play-lh.googleusercontent.com/LwWSMEA0AngPEuEiJW4eOJ4sf-GUokruvxlOReTgHUsnuToIPeqM5_xQ8a2cIZCDUw', 'https://play-lh.googleusercontent.com/H65dZNX0zK7KlI5OUYeXdY0ENHrFQeGArRRFo4a8U2cEYbr9TnkO5jy7ArxwwX1M-7s', 'https://play-lh.googleusercontent.com/ChEDU9r07SFVnbnz6uvmU0iY7lNX18xXSYhZhAy4R-AZyijqfDGjPhY_5Y9XbsIbiFM', 'https://play-lh.googleusercontent.com/KaFKsT_mMy9gLRxv5NCyZza1BV0uERAqfIam64_GLs4x-qtUaK0wMMIMTeHyfdQWyR0', 'https://play-lh.googleusercontent.com/0dcCfbYONcyWt4CEksmdUUBM-8zPwI27c88V6kuJWK_DInIxzfXbeFMQ5D9mBxAXEA', 'https://play-lh.googleusercontent.com/8oNd6VNjek9D2KB2vcNIfcAFNh8uXpAnci199N4dgxUFKWcGVAmMOLKtaHfgS_pvug', 'https://play-lh.googleusercontent.com/YN_tF6l1qeFpw5guESoz357Wu5i8FxvO6mjd5hjoWOcynT_H4gyo0ygziYePllqKK1g', 'https://play-lh.googleusercontent.com/Az0C8Z96Oor0kDMBtsIOlQFhNe9dkIMtvTa2gbdIrKAby0_O3jOKoqNftQTsDJG7oJFc', 'https://play-lh.googleusercontent.com/25R_HXmP4v_g7TgR6qLmLrZdn0N6a-nopk2zMatDUc1uyYogMNZGORYI8N6U_B9f5U8']",
         null,
         null,
         "Everyone",
         null,
         "False",
         "False",
         "Mar 24, 2023",
         "Mar 3, 2025",
         "1741022034",
         "2.3.35",
         "[]",
         "com.appex.myhealth",
         "https://play.google.com/store/apps/details?id=com.appex.myhealth&hl=en&gl=us"
        ],
        [
         "3",
         "Digital Health Portal",
         "Edinburgh Innovations is the University of Edinburgh’s commercialisation service. Together, we develop innovative ideas and deliver solutions to the world’s biggest medical challenges by connecting academic researchers, patients, clinicians, scientists, partners and state of the art clinical and pre-clinical research facilities at the University. These digital health projects are sponsored by the Wellcome iTPA innovation accelerator at the University of Edinburgh.",
         "Edinburgh Innovations is the University of Edinburgh’s commercialisation service. Together, we develop innovative ideas and deliver solutions to the world’s biggest medical challenges by connecting academic researchers, patients, clinicians, scientists, partners and state of the art clinical and pre-clinical research facilities at the University. These digital health projects are sponsored by the Wellcome iTPA innovation accelerator at the University of Edinburgh.",
         "Digital Health projects by Edinburgh University & funded by the Wellcome Trust",
         "10+",
         "10",
         "30",
         null,
         null,
         null,
         "[0, 0, 0, 0, 0]",
         "0",
         "True",
         "USD",
         "False",
         null,
         null,
         null,
         "False",
         null,
         "Cogniss",
         "Cogniss",
         "itpadh@ei.ed.ac.uk",
         null,
         "5 Blackfriars Street Chippendale, NSW 2008",
         "https://www.ed.ac.uk/about/website/privacy",
         "Health & Fitness",
         "HEALTH_AND_FITNESS",
         "[{'name': 'Health & Fitness', 'id': 'HEALTH_AND_FITNESS'}]",
         "https://play-lh.googleusercontent.com/mcX24LM5dM42AeqK8eCde3X4HDJyZeyWh1GUNnV_GQwZbFbI2OLcsN99pZIXCQFW6BY",
         "https://play-lh.googleusercontent.com/ieV1BNdtFRqv8osNqP4VcqUKJr2ADyvVlqm3cPuV5ywQPkMn8u_mxUzNGgN86aY7YTk",
         "['https://play-lh.googleusercontent.com/PZ39wy9auWDtDUm15G8ym81epRDCnTdqvS1q8n29GMLQNfarM-9Ph9zDWW1eaD9Nj5KT', 'https://play-lh.googleusercontent.com/lOKuX06GKQp7e7rs5ewSFF20Hkr_zy04vl2kDN-rERXTtIQ-mj6J4859YcdUVZcS5HY', 'https://play-lh.googleusercontent.com/_p4sP0MrHYdEKG42EmxaKIl2AWDDBsf4xR-ZJaUskTGUQRV2_AFPJG3wohcpBIF091A5', 'https://play-lh.googleusercontent.com/xxpgUG6MTsahkoRLKA4sCMc-oYuAEiTZWFDzeFRm5MYPiXkitZVAiQ-xKKIUG-8ICic', 'https://play-lh.googleusercontent.com/qKu6RBo1nC4nLTw7gxgtVd1cAp-DRvmlSLqsfEXb4Uu7zbVPjS5nHCWrWwOl539JKdU', 'https://play-lh.googleusercontent.com/UFMz2XrdqdTSeDPciewjuNaRO_dqzHk4XEQf_oCOzKkreXrDbT8giaGkaX6ViZCMzRXu', 'https://play-lh.googleusercontent.com/YRRwlKGnxbM4VvyiL7IG4StVoAKgznM2ROMm8rDNSLdm70UXzXO2aDEszdrL_0sZHg', 'https://play-lh.googleusercontent.com/_-EgVJmeH8tD0IlBlxOGnqpxyIgjJUvth2eHOkHXs2SpSJBOD37fs3s3R5IvDYTc3da-', 'https://play-lh.googleusercontent.com/_4YHUWTfBJ-v7eyFIizcgCu8aLIASiO0CqJr_zE43EikJMZe7FWdQwzuyy0YD8vJMTBH']",
         null,
         null,
         "Everyone",
         null,
         "False",
         "False",
         "May 5, 2024",
         "May 5, 2024",
         "1714954452",
         "1.109.0",
         "[]",
         "com.cogniss.edinburghinnovations.digitalhealthportal",
         "https://play.google.com/store/apps/details?id=com.cogniss.edinburghinnovations.digitalhealthportal&hl=en&gl=us"
        ],
        [
         "4",
         "FlexCare Digital Health",
         "FlexCare is a Digital Health provider offering members 24/7/365 access to Telemedicine, TeleDentistry, TeleSpine, Dermatology, Behavioral Health, Companion/Caregiver and other programs via text, phone or online video—whenever they need it, from wherever they are. Our U.S. board-certified providers can diagnose, recommend treatment, and write short-term, non DEA prescriptions, when appropriate.",
         "FlexCare is a Digital Health provider offering members 24/7/365 access to Telemedicine, TeleDentistry, TeleSpine, Dermatology, Behavioral Health, Companion/Caregiver and other programs via text, phone or online video—whenever they need it, from wherever they are. Our U.S. board-certified providers can diagnose, recommend treatment, and write short-term, non DEA prescriptions, when appropriate.",
         "24/7 Access to Digital Health Programs",
         "1,000+",
         "1000",
         "3004",
         "2.0",
         "12.0",
         "9.0",
         "[9, 0, 0, 0, 3]",
         "0",
         "True",
         "USD",
         "False",
         null,
         null,
         null,
         "False",
         null,
         "FlexCare. LLC",
         "FlexCare.+LLC",
         "Support@FlexCare.com",
         "http://www.flexcare.com/",
         null,
         "http://flexcare.com/privacy-statement/",
         "Health & Fitness",
         "HEALTH_AND_FITNESS",
         "[{'name': 'Health & Fitness', 'id': 'HEALTH_AND_FITNESS'}]",
         "https://play-lh.googleusercontent.com/BR-iVsg2GJ5i7cRREhAqwj8QqfNcn7KVLZlCEEjxCTwwnVWG_rr48EtBD5WJzsYtfn0",
         "https://play-lh.googleusercontent.com/_MFCO27dyNq-i-mR_ZkX5O0CvAeMpgIarG40SxW3m0W2IpPTrMxriE_t15Jh75hUCcw",
         "['https://play-lh.googleusercontent.com/7lNd5lyMOxb117plt9Qh0mZb-521UjCOBdwO3SmY68XxZSCNDZRcgJFvUrPFiinpUik', 'https://play-lh.googleusercontent.com/nIe9aFIqyOtcZw_A9zfojJ_tsEQC116aeA1OC1IilopchwaXMPbHSg4S1T4RfKXIUw', 'https://play-lh.googleusercontent.com/sPZUWRrlTDUuVpz1L8-MVHe4lAxyBw1FOzK8DGkb2y6Rr2QoxMnj6_fb_25TAfu2zGo', 'https://play-lh.googleusercontent.com/hJ8JlAvkqCT6oGVreHuKKxNxvE1XCFj8NRHkPFcM9F45XV2Y_rffBcgU6r1hnzwMvdA', 'https://play-lh.googleusercontent.com/1LzLCehVFc2NucjqFwSVLyp2fHd4h_tFro1oSUnl-j0RI8ASpEVndGEmPMh7zqNyAAqv', 'https://play-lh.googleusercontent.com/D5VnLbai1ZJfqpgR4Q_1eVAms1I2zbvhWFR7lEfeCRmjxbCzj-LDT_9JTvhfNmU67Q']",
         null,
         null,
         "Everyone",
         null,
         "False",
         "False",
         "Jan 31, 2021",
         "Aug 16, 2024",
         "1723812754",
         "1.2.1",
         "[]",
         "com.FlexCare.app",
         "https://play.google.com/store/apps/details?id=com.FlexCare.app&hl=en&gl=us"
        ]
       ],
       "shape": {
        "columns": 45,
        "rows": 5
       }
      },
      "text/html": [
       "<div>\n",
       "<style scoped>\n",
       "    .dataframe tbody tr th:only-of-type {\n",
       "        vertical-align: middle;\n",
       "    }\n",
       "\n",
       "    .dataframe tbody tr th {\n",
       "        vertical-align: top;\n",
       "    }\n",
       "\n",
       "    .dataframe thead th {\n",
       "        text-align: right;\n",
       "    }\n",
       "</style>\n",
       "<table border=\"1\" class=\"dataframe\">\n",
       "  <thead>\n",
       "    <tr style=\"text-align: right;\">\n",
       "      <th></th>\n",
       "      <th>title</th>\n",
       "      <th>description</th>\n",
       "      <th>descriptionHTML</th>\n",
       "      <th>summary</th>\n",
       "      <th>installs</th>\n",
       "      <th>minInstalls</th>\n",
       "      <th>realInstalls</th>\n",
       "      <th>score</th>\n",
       "      <th>ratings</th>\n",
       "      <th>reviews</th>\n",
       "      <th>...</th>\n",
       "      <th>contentRatingDescription</th>\n",
       "      <th>adSupported</th>\n",
       "      <th>containsAds</th>\n",
       "      <th>released</th>\n",
       "      <th>lastUpdatedOn</th>\n",
       "      <th>updated</th>\n",
       "      <th>version</th>\n",
       "      <th>comments</th>\n",
       "      <th>appId</th>\n",
       "      <th>url</th>\n",
       "    </tr>\n",
       "  </thead>\n",
       "  <tbody>\n",
       "    <tr>\n",
       "      <th>0</th>\n",
       "      <td>Digital Medicine</td>\n",
       "      <td>The Digital Medicine app simplifies how you ca...</td>\n",
       "      <td>The Digital Medicine app simplifies how you ca...</td>\n",
       "      <td>Manage your health from home</td>\n",
       "      <td>5,000+</td>\n",
       "      <td>5000</td>\n",
       "      <td>9629</td>\n",
       "      <td>4.215384</td>\n",
       "      <td>65.0</td>\n",
       "      <td>27.0</td>\n",
       "      <td>...</td>\n",
       "      <td>None</td>\n",
       "      <td>False</td>\n",
       "      <td>False</td>\n",
       "      <td>Aug 22, 2023</td>\n",
       "      <td>Mar 31, 2025</td>\n",
       "      <td>1743453661</td>\n",
       "      <td>4.2.2(4)</td>\n",
       "      <td>[]</td>\n",
       "      <td>com.ochsner.digitalmedicine</td>\n",
       "      <td>https://play.google.com/store/apps/details?id=...</td>\n",
       "    </tr>\n",
       "    <tr>\n",
       "      <th>1</th>\n",
       "      <td>BodySite Digital Health</td>\n",
       "      <td>BodySite's digital health and lifestyle app co...</td>\n",
       "      <td>BodySite&amp;#39;s digital health and lifestyle ap...</td>\n",
       "      <td>Reach optimal wellness following and tracking ...</td>\n",
       "      <td>10,000+</td>\n",
       "      <td>10000</td>\n",
       "      <td>34328</td>\n",
       "      <td>4.280000</td>\n",
       "      <td>166.0</td>\n",
       "      <td>83.0</td>\n",
       "      <td>...</td>\n",
       "      <td>None</td>\n",
       "      <td>False</td>\n",
       "      <td>False</td>\n",
       "      <td>Dec 5, 2016</td>\n",
       "      <td>Feb 7, 2025</td>\n",
       "      <td>1738956205</td>\n",
       "      <td>Varies with device</td>\n",
       "      <td>[]</td>\n",
       "      <td>com.bodysite.bodysite</td>\n",
       "      <td>https://play.google.com/store/apps/details?id=...</td>\n",
       "    </tr>\n",
       "    <tr>\n",
       "      <th>2</th>\n",
       "      <td>MyHealth-Digital Health Locker</td>\n",
       "      <td>MyHealth app is a digital health locker that h...</td>\n",
       "      <td>MyHealth app is a digital health locker that h...</td>\n",
       "      <td>MyHealth, Medical Records, ABHA</td>\n",
       "      <td>1,000+</td>\n",
       "      <td>1000</td>\n",
       "      <td>1511</td>\n",
       "      <td>0.000000</td>\n",
       "      <td>0.0</td>\n",
       "      <td>0.0</td>\n",
       "      <td>...</td>\n",
       "      <td>None</td>\n",
       "      <td>False</td>\n",
       "      <td>False</td>\n",
       "      <td>Mar 24, 2023</td>\n",
       "      <td>Mar 3, 2025</td>\n",
       "      <td>1741022034</td>\n",
       "      <td>2.3.35</td>\n",
       "      <td>[]</td>\n",
       "      <td>com.appex.myhealth</td>\n",
       "      <td>https://play.google.com/store/apps/details?id=...</td>\n",
       "    </tr>\n",
       "    <tr>\n",
       "      <th>3</th>\n",
       "      <td>Digital Health Portal</td>\n",
       "      <td>Edinburgh Innovations is the University of Edi...</td>\n",
       "      <td>Edinburgh Innovations is the University of Edi...</td>\n",
       "      <td>Digital Health projects by Edinburgh Universit...</td>\n",
       "      <td>10+</td>\n",
       "      <td>10</td>\n",
       "      <td>30</td>\n",
       "      <td>NaN</td>\n",
       "      <td>NaN</td>\n",
       "      <td>NaN</td>\n",
       "      <td>...</td>\n",
       "      <td>None</td>\n",
       "      <td>False</td>\n",
       "      <td>False</td>\n",
       "      <td>May 5, 2024</td>\n",
       "      <td>May 5, 2024</td>\n",
       "      <td>1714954452</td>\n",
       "      <td>1.109.0</td>\n",
       "      <td>[]</td>\n",
       "      <td>com.cogniss.edinburghinnovations.digitalhealth...</td>\n",
       "      <td>https://play.google.com/store/apps/details?id=...</td>\n",
       "    </tr>\n",
       "    <tr>\n",
       "      <th>4</th>\n",
       "      <td>FlexCare Digital Health</td>\n",
       "      <td>FlexCare is a Digital Health provider offering...</td>\n",
       "      <td>FlexCare is a Digital Health provider offering...</td>\n",
       "      <td>24/7 Access to Digital Health Programs</td>\n",
       "      <td>1,000+</td>\n",
       "      <td>1000</td>\n",
       "      <td>3004</td>\n",
       "      <td>2.000000</td>\n",
       "      <td>12.0</td>\n",
       "      <td>9.0</td>\n",
       "      <td>...</td>\n",
       "      <td>None</td>\n",
       "      <td>False</td>\n",
       "      <td>False</td>\n",
       "      <td>Jan 31, 2021</td>\n",
       "      <td>Aug 16, 2024</td>\n",
       "      <td>1723812754</td>\n",
       "      <td>1.2.1</td>\n",
       "      <td>[]</td>\n",
       "      <td>com.FlexCare.app</td>\n",
       "      <td>https://play.google.com/store/apps/details?id=...</td>\n",
       "    </tr>\n",
       "  </tbody>\n",
       "</table>\n",
       "<p>5 rows × 45 columns</p>\n",
       "</div>"
      ],
      "text/plain": [
       "                            title  \\\n",
       "0                Digital Medicine   \n",
       "1         BodySite Digital Health   \n",
       "2  MyHealth-Digital Health Locker   \n",
       "3           Digital Health Portal   \n",
       "4         FlexCare Digital Health   \n",
       "\n",
       "                                         description  \\\n",
       "0  The Digital Medicine app simplifies how you ca...   \n",
       "1  BodySite's digital health and lifestyle app co...   \n",
       "2  MyHealth app is a digital health locker that h...   \n",
       "3  Edinburgh Innovations is the University of Edi...   \n",
       "4  FlexCare is a Digital Health provider offering...   \n",
       "\n",
       "                                     descriptionHTML  \\\n",
       "0  The Digital Medicine app simplifies how you ca...   \n",
       "1  BodySite&#39;s digital health and lifestyle ap...   \n",
       "2  MyHealth app is a digital health locker that h...   \n",
       "3  Edinburgh Innovations is the University of Edi...   \n",
       "4  FlexCare is a Digital Health provider offering...   \n",
       "\n",
       "                                             summary installs  minInstalls  \\\n",
       "0                       Manage your health from home   5,000+         5000   \n",
       "1  Reach optimal wellness following and tracking ...  10,000+        10000   \n",
       "2                    MyHealth, Medical Records, ABHA   1,000+         1000   \n",
       "3  Digital Health projects by Edinburgh Universit...      10+           10   \n",
       "4             24/7 Access to Digital Health Programs   1,000+         1000   \n",
       "\n",
       "   realInstalls     score  ratings  reviews  ... contentRatingDescription  \\\n",
       "0          9629  4.215384     65.0     27.0  ...                     None   \n",
       "1         34328  4.280000    166.0     83.0  ...                     None   \n",
       "2          1511  0.000000      0.0      0.0  ...                     None   \n",
       "3            30       NaN      NaN      NaN  ...                     None   \n",
       "4          3004  2.000000     12.0      9.0  ...                     None   \n",
       "\n",
       "   adSupported  containsAds      released  lastUpdatedOn     updated  \\\n",
       "0        False        False  Aug 22, 2023   Mar 31, 2025  1743453661   \n",
       "1        False        False   Dec 5, 2016    Feb 7, 2025  1738956205   \n",
       "2        False        False  Mar 24, 2023    Mar 3, 2025  1741022034   \n",
       "3        False        False   May 5, 2024    May 5, 2024  1714954452   \n",
       "4        False        False  Jan 31, 2021   Aug 16, 2024  1723812754   \n",
       "\n",
       "              version comments  \\\n",
       "0            4.2.2(4)       []   \n",
       "1  Varies with device       []   \n",
       "2              2.3.35       []   \n",
       "3             1.109.0       []   \n",
       "4               1.2.1       []   \n",
       "\n",
       "                                               appId  \\\n",
       "0                        com.ochsner.digitalmedicine   \n",
       "1                              com.bodysite.bodysite   \n",
       "2                                 com.appex.myhealth   \n",
       "3  com.cogniss.edinburghinnovations.digitalhealth...   \n",
       "4                                   com.FlexCare.app   \n",
       "\n",
       "                                                 url  \n",
       "0  https://play.google.com/store/apps/details?id=...  \n",
       "1  https://play.google.com/store/apps/details?id=...  \n",
       "2  https://play.google.com/store/apps/details?id=...  \n",
       "3  https://play.google.com/store/apps/details?id=...  \n",
       "4  https://play.google.com/store/apps/details?id=...  \n",
       "\n",
       "[5 rows x 45 columns]"
      ]
     },
     "execution_count": 6,
     "metadata": {},
     "output_type": "execute_result"
    }
   ],
   "source": [
    "import pandas as pd\n",
    "import time\n",
    "from tqdm.auto import tqdm  # Recommended for notebooks\n",
    "from google_play_scraper import app\n",
    "from google_play_scraper.exceptions import NotFoundError\n",
    "\n",
    "def get_app_details(app_id):\n",
    "    try:\n",
    "        details = app(app_id, lang='en', country='us')\n",
    "        return details\n",
    "    except NotFoundError:\n",
    "        print(f\"App not found: {app_id}\")\n",
    "        return None\n",
    "    except Exception as e:\n",
    "        print(f\"Error getting details for {app_id}: {e}\")\n",
    "        return None\n",
    "\n",
    "# Make sure most_installed is defined\n",
    "# Get details for the top 10 apps by installs (as a sample)\n",
    "app_details_list = []\n",
    "for app_id in tqdm(most_installed['appId']):\n",
    "    details = get_app_details(app_id)\n",
    "    if details:\n",
    "        app_details_list.append(details)\n",
    "    time.sleep(2)  # Delay to avoid hitting API limits\n",
    "\n",
    "# Convert to DataFrame\n",
    "details_df = pd.DataFrame(app_details_list)\n",
    "details_df.head()\n"
   ]
  },
  {
   "cell_type": "code",
   "execution_count": 10,
   "metadata": {},
   "outputs": [
    {
     "data": {
      "application/vnd.microsoft.datawrangler.viewer.v0+json": {
       "columns": [
        {
         "name": "index",
         "rawType": "int64",
         "type": "integer"
        },
        {
         "name": "appId",
         "rawType": "object",
         "type": "string"
        },
        {
         "name": "title",
         "rawType": "object",
         "type": "string"
        },
        {
         "name": "description",
         "rawType": "object",
         "type": "string"
        },
        {
         "name": "summary",
         "rawType": "object",
         "type": "string"
        },
        {
         "name": "installs",
         "rawType": "object",
         "type": "string"
        },
        {
         "name": "ratings",
         "rawType": "float64",
         "type": "float"
        },
        {
         "name": "reviews",
         "rawType": "float64",
         "type": "float"
        },
        {
         "name": "version",
         "rawType": "object",
         "type": "string"
        },
        {
         "name": "contentRating",
         "rawType": "object",
         "type": "string"
        },
        {
         "name": "adSupported",
         "rawType": "bool",
         "type": "boolean"
        },
        {
         "name": "containsAds",
         "rawType": "bool",
         "type": "boolean"
        },
        {
         "name": "released",
         "rawType": "object",
         "type": "string"
        },
        {
         "name": "updated",
         "rawType": "int64",
         "type": "integer"
        }
       ],
       "conversionMethod": "pd.DataFrame",
       "ref": "6c2125d2-1b56-4083-9044-1b418c8efcb1",
       "rows": [
        [
         "0",
         "com.ochsner.digitalmedicine",
         "Digital Medicine",
         "The Digital Medicine app simplifies how you care for your chronic condition—offering a customized experience for members that is intuitive, streamlined, and personalized. Connect with your data, set preferences, and control your health. Easy just got easier.\r\n\r\nSEAMLESSLY TRANSMIT READINGS\r\n• Take and send your weight, blood pressure and blood sugar readings to your care team.\r\n• Log your meals easily and get nutritional tips based on what you've logged for the day.\r\n\r\nSET PREFERENCES\r\n• Choose when to receive program reminders, whether it’s to submit a reading, review your monthly report, or other relevant program tasks, that best fits your unique schedule.\r\n\r\nREADING GUIDANCE\r\n• Get in-app guidance on blood pressure and/or blood sugar readings.\r\n\r\nDIGITAL COACHING \r\n• Gain knowledge on your program and health journey through interactive learning missions.  \r\n• Understand your progress through trends and monthly reports in-app. \r\n\r\nEARLY ACCESS\r\n• Gain access to the latest Digital Medicine app features and enhancements.\r\n\r\nSUPPORT\r\n• Enjoy guided in-app device setup instructions and watch videos on setting up your device and how to take readings.\r\n\r\nTrack progress, stay motivated, and feel better with Digital Medicine.\r\n\r\nDigital Medicine app is not any substitute for professional healthcare services or advice. Any health related information provided is for informational purposes and should not be used for diagnostic or medical purposes. Always consult a healthcare professional for your health and safety needs.",
         "Manage your health from home",
         "5,000+",
         "65.0",
         "27.0",
         "4.2.2(4)",
         "Everyone",
         "False",
         "False",
         "Aug 22, 2023",
         "1743453661"
        ],
        [
         "1",
         "com.bodysite.bodysite",
         "BodySite Digital Health",
         "BodySite's digital health and lifestyle app connects you with your wellness provider's wellness plan in real time. Receive daily meal planning, exercise guidance, lifestyle modification support and motivation.\r\n\r\nWhat you get:\r\n\r\nFor users with a BodySite account / requires a provider:\r\n* Wellness Plans Selected For You\r\n* Your plan details delivered daily from your provider\r\n* Meal plans, grocery lists and recipes\r\n* Calorie counter\r\n* Meal by meal and daily nutritional summary with calories and macronutrient breakdowns and graphs\r\n* Nutritional summary with calories and macronutrient breakdowns and graphs for each food\r\n* Easily store favorite foods and meals\r\n* A detailed exercise program\r\n* Exercise videos and photo examples and descriptions\r\n* Daily affirmations, uplifting support and motivation\r\n* Activity tracker\r\n* Photo journal\r\n* Bar Code Food Scanner\r\n* Private journal to keep track of your progress, ideas \r\n* Real-time sharing of your food, exercise, body and personal journals with your provider\r\n* Direct private messaging with your provider\r\n* Push notifications for private messaging\r\n* Track steps, water, sleep and custom activities\r\n* Integration with Fitbit (requires activation from web account)",
         "Reach optimal wellness following and tracking a wellness plan made just for you.",
         "10,000+",
         "166.0",
         "83.0",
         "Varies with device",
         "Everyone",
         "False",
         "False",
         "Dec 5, 2016",
         "1738956205"
        ],
        [
         "2",
         "com.appex.myhealth",
         "MyHealth-Digital Health Locker",
         "MyHealth app is a digital health locker that helps you to digitize, store, and manage your medical reports and body vitals from anywhere in the world. It not only enables you to easily share your medical records with healthcare providers during appointments, with family and friends in cases of medical emergencies.\r\n\r\nBeyond merely storing your health records, The MyHealth app allows you to do the following:\r\n\r\n1. Manage your family’s health with a “Family Health Account”\r\n2. Identify and manage your genetic health risks with “MyGene”\r\n3. Get “Smart Health Insights” to identify patterns and potential health issues\r\n4. Track essential “Body Vitals”, including blood pressure (BP) and blood sugar levels effortlessly\r\n\r\nAdditionally, the MyHealth app is ABDM compliant and helps you create your Ayushman Bharat Health Account (ABHA Card) in under 60 seconds.\r\n\r\nDownload the FREE MyHealth App and begin your Digital Health Journey today.\r\n___________________________________________________________________________\r\nWhy should you choose MyHealth app?\r\n\r\n❌You can now say goodbye to carrying bulky medical files, health records & prescription notes while visiting the doctor.\r\n❌You no longer need to repeatedly take pictures of the same medical report to share with doctors and healthcare providers over WhatsApp.\r\n❌You can eliminate the possibilities of misdiagnosis and isolated treatments, as your doctor will now be well-informed.\r\n❌You no longer have to worry about losing, misplacing, or damaging your and your family’s health records.\r\n\r\nThe MyHealth app ensures the sharing of important medical information between patients and physicians happens in a seamless and secured manner, thereby transforming the patient-physician relationship.\r\n___________________________________________________________________________\r\nAre you wondering if the app is safe and secure to store your medical records?\r\n\r\nYes, Absolutely. The MyHealth app is not only approved by the National Health Authority of India but is also HIPAA compliant. This guarantees that patient health information (PHI) is protected from unauthorized access and breaches.\r\n\r\nAdditionally, the app adheres to HL7 standards, facilitating seamless data exchange between different healthcare systems and providers, resulting in improved care coordination, reduced clinical errors, and more efficient clinical workflows.\r\n\r\nPatient privacy is critical to us and we take appropriate security measures to protect your data from being accidentally lost, used, or accessed by unauthorized sources. We DO NOT use your data to:\r\n\r\n❌Disclose, sell, rent, or otherwise provide your personal information to other companies.\r\n❌Share your personal information with third parties unless required by law.",
         "MyHealth, Medical Records, ABHA",
         "1,000+",
         "0.0",
         "0.0",
         "2.3.35",
         "Everyone",
         "False",
         "False",
         "Mar 24, 2023",
         "1741022034"
        ],
        [
         "3",
         "com.cogniss.edinburghinnovations.digitalhealthportal",
         "Digital Health Portal",
         "Edinburgh Innovations is the University of Edinburgh’s commercialisation service. Together, we develop innovative ideas and deliver solutions to the world’s biggest medical challenges by connecting academic researchers, patients, clinicians, scientists, partners and state of the art clinical and pre-clinical research facilities at the University. These digital health projects are sponsored by the Wellcome iTPA innovation accelerator at the University of Edinburgh.",
         "Digital Health projects by Edinburgh University & funded by the Wellcome Trust",
         "10+",
         null,
         null,
         "1.109.0",
         "Everyone",
         "False",
         "False",
         "May 5, 2024",
         "1714954452"
        ],
        [
         "4",
         "com.FlexCare.app",
         "FlexCare Digital Health",
         "FlexCare is a Digital Health provider offering members 24/7/365 access to Telemedicine, TeleDentistry, TeleSpine, Dermatology, Behavioral Health, Companion/Caregiver and other programs via text, phone or online video—whenever they need it, from wherever they are. Our U.S. board-certified providers can diagnose, recommend treatment, and write short-term, non DEA prescriptions, when appropriate.",
         "24/7 Access to Digital Health Programs",
         "1,000+",
         "12.0",
         "9.0",
         "1.2.1",
         "Everyone",
         "False",
         "False",
         "Jan 31, 2021",
         "1723812754"
        ]
       ],
       "shape": {
        "columns": 13,
        "rows": 5
       }
      },
      "text/html": [
       "<div>\n",
       "<style scoped>\n",
       "    .dataframe tbody tr th:only-of-type {\n",
       "        vertical-align: middle;\n",
       "    }\n",
       "\n",
       "    .dataframe tbody tr th {\n",
       "        vertical-align: top;\n",
       "    }\n",
       "\n",
       "    .dataframe thead th {\n",
       "        text-align: right;\n",
       "    }\n",
       "</style>\n",
       "<table border=\"1\" class=\"dataframe\">\n",
       "  <thead>\n",
       "    <tr style=\"text-align: right;\">\n",
       "      <th></th>\n",
       "      <th>appId</th>\n",
       "      <th>title</th>\n",
       "      <th>description</th>\n",
       "      <th>summary</th>\n",
       "      <th>installs</th>\n",
       "      <th>ratings</th>\n",
       "      <th>reviews</th>\n",
       "      <th>version</th>\n",
       "      <th>contentRating</th>\n",
       "      <th>adSupported</th>\n",
       "      <th>containsAds</th>\n",
       "      <th>released</th>\n",
       "      <th>updated</th>\n",
       "    </tr>\n",
       "  </thead>\n",
       "  <tbody>\n",
       "    <tr>\n",
       "      <th>0</th>\n",
       "      <td>com.ochsner.digitalmedicine</td>\n",
       "      <td>Digital Medicine</td>\n",
       "      <td>The Digital Medicine app simplifies how you ca...</td>\n",
       "      <td>Manage your health from home</td>\n",
       "      <td>5,000+</td>\n",
       "      <td>65.0</td>\n",
       "      <td>27.0</td>\n",
       "      <td>4.2.2(4)</td>\n",
       "      <td>Everyone</td>\n",
       "      <td>False</td>\n",
       "      <td>False</td>\n",
       "      <td>Aug 22, 2023</td>\n",
       "      <td>1743453661</td>\n",
       "    </tr>\n",
       "    <tr>\n",
       "      <th>1</th>\n",
       "      <td>com.bodysite.bodysite</td>\n",
       "      <td>BodySite Digital Health</td>\n",
       "      <td>BodySite's digital health and lifestyle app co...</td>\n",
       "      <td>Reach optimal wellness following and tracking ...</td>\n",
       "      <td>10,000+</td>\n",
       "      <td>166.0</td>\n",
       "      <td>83.0</td>\n",
       "      <td>Varies with device</td>\n",
       "      <td>Everyone</td>\n",
       "      <td>False</td>\n",
       "      <td>False</td>\n",
       "      <td>Dec 5, 2016</td>\n",
       "      <td>1738956205</td>\n",
       "    </tr>\n",
       "    <tr>\n",
       "      <th>2</th>\n",
       "      <td>com.appex.myhealth</td>\n",
       "      <td>MyHealth-Digital Health Locker</td>\n",
       "      <td>MyHealth app is a digital health locker that h...</td>\n",
       "      <td>MyHealth, Medical Records, ABHA</td>\n",
       "      <td>1,000+</td>\n",
       "      <td>0.0</td>\n",
       "      <td>0.0</td>\n",
       "      <td>2.3.35</td>\n",
       "      <td>Everyone</td>\n",
       "      <td>False</td>\n",
       "      <td>False</td>\n",
       "      <td>Mar 24, 2023</td>\n",
       "      <td>1741022034</td>\n",
       "    </tr>\n",
       "    <tr>\n",
       "      <th>3</th>\n",
       "      <td>com.cogniss.edinburghinnovations.digitalhealth...</td>\n",
       "      <td>Digital Health Portal</td>\n",
       "      <td>Edinburgh Innovations is the University of Edi...</td>\n",
       "      <td>Digital Health projects by Edinburgh Universit...</td>\n",
       "      <td>10+</td>\n",
       "      <td>NaN</td>\n",
       "      <td>NaN</td>\n",
       "      <td>1.109.0</td>\n",
       "      <td>Everyone</td>\n",
       "      <td>False</td>\n",
       "      <td>False</td>\n",
       "      <td>May 5, 2024</td>\n",
       "      <td>1714954452</td>\n",
       "    </tr>\n",
       "    <tr>\n",
       "      <th>4</th>\n",
       "      <td>com.FlexCare.app</td>\n",
       "      <td>FlexCare Digital Health</td>\n",
       "      <td>FlexCare is a Digital Health provider offering...</td>\n",
       "      <td>24/7 Access to Digital Health Programs</td>\n",
       "      <td>1,000+</td>\n",
       "      <td>12.0</td>\n",
       "      <td>9.0</td>\n",
       "      <td>1.2.1</td>\n",
       "      <td>Everyone</td>\n",
       "      <td>False</td>\n",
       "      <td>False</td>\n",
       "      <td>Jan 31, 2021</td>\n",
       "      <td>1723812754</td>\n",
       "    </tr>\n",
       "  </tbody>\n",
       "</table>\n",
       "</div>"
      ],
      "text/plain": [
       "                                               appId  \\\n",
       "0                        com.ochsner.digitalmedicine   \n",
       "1                              com.bodysite.bodysite   \n",
       "2                                 com.appex.myhealth   \n",
       "3  com.cogniss.edinburghinnovations.digitalhealth...   \n",
       "4                                   com.FlexCare.app   \n",
       "\n",
       "                            title  \\\n",
       "0                Digital Medicine   \n",
       "1         BodySite Digital Health   \n",
       "2  MyHealth-Digital Health Locker   \n",
       "3           Digital Health Portal   \n",
       "4         FlexCare Digital Health   \n",
       "\n",
       "                                         description  \\\n",
       "0  The Digital Medicine app simplifies how you ca...   \n",
       "1  BodySite's digital health and lifestyle app co...   \n",
       "2  MyHealth app is a digital health locker that h...   \n",
       "3  Edinburgh Innovations is the University of Edi...   \n",
       "4  FlexCare is a Digital Health provider offering...   \n",
       "\n",
       "                                             summary installs  ratings  \\\n",
       "0                       Manage your health from home   5,000+     65.0   \n",
       "1  Reach optimal wellness following and tracking ...  10,000+    166.0   \n",
       "2                    MyHealth, Medical Records, ABHA   1,000+      0.0   \n",
       "3  Digital Health projects by Edinburgh Universit...      10+      NaN   \n",
       "4             24/7 Access to Digital Health Programs   1,000+     12.0   \n",
       "\n",
       "   reviews             version contentRating  adSupported  containsAds  \\\n",
       "0     27.0            4.2.2(4)      Everyone        False        False   \n",
       "1     83.0  Varies with device      Everyone        False        False   \n",
       "2      0.0              2.3.35      Everyone        False        False   \n",
       "3      NaN             1.109.0      Everyone        False        False   \n",
       "4      9.0               1.2.1      Everyone        False        False   \n",
       "\n",
       "       released     updated  \n",
       "0  Aug 22, 2023  1743453661  \n",
       "1   Dec 5, 2016  1738956205  \n",
       "2  Mar 24, 2023  1741022034  \n",
       "3   May 5, 2024  1714954452  \n",
       "4  Jan 31, 2021  1723812754  "
      ]
     },
     "metadata": {},
     "output_type": "display_data"
    }
   ],
   "source": [
    "# Select relevant columns\n",
    "if not details_df.empty:\n",
    "    selected_details = details_df[['appId', 'title', 'description', 'summary', 'installs', 'ratings', \n",
    "                                 'reviews', 'version', 'contentRating', 'adSupported', \n",
    "                                 'containsAds', 'released', 'updated']]\n",
    "    display(selected_details.head(5))\n",
    "else:\n",
    "    print(\"No app details were retrieved successfully.\")"
   ]
  },
  {
   "cell_type": "markdown",
   "metadata": {},
   "source": [
    "## Step 4: Scrape Reviews for Each App\n",
    "\n",
    "Now, let's scrape reviews for each of the top 20 apps based on installations. We'll limit the number of reviews to 100 per app for this example, but you can increase this as needed."
   ]
  },
  {
   "cell_type": "code",
   "execution_count": 18,
   "metadata": {},
   "outputs": [
    {
     "data": {
      "application/vnd.jupyter.widget-view+json": {
       "model_id": "56e4034628ac4c6d954effb609ed8ac8",
       "version_major": 2,
       "version_minor": 0
      },
      "text/plain": [
       "  0%|          | 0/20 [00:00<?, ?it/s]"
      ]
     },
     "metadata": {},
     "output_type": "display_data"
    },
    {
     "name": "stdout",
     "output_type": "stream",
     "text": [
      "Getting reviews for Digital Medicine (com.ochsner.digitalmedicine)\n",
      "Getting reviews for BodySite Digital Health (com.bodysite.bodysite)\n",
      "Getting reviews for MyHealth-Digital Health Locker (com.appex.myhealth)\n",
      "Getting reviews for Digital Health Portal (com.cogniss.edinburghinnovations.digitalhealthportal)\n",
      "Getting reviews for FlexCare Digital Health (com.FlexCare.app)\n",
      "Getting reviews for Digital Health & Medication (com.bapelkesks.digitalmedication)\n",
      "Getting reviews for DIGITAL HEALTH FESTIVAL 2025 (events.grip.dhf1007)\n",
      "Getting reviews for HealthLy - Digital Health (com.healthcarecentral.healthly)\n",
      "Getting reviews for Digital Healthcare Solutions (com.yourdhs.app)\n",
      "Getting reviews for Academy of Digital Health (com.dha.academy)\n",
      "Getting reviews for Calcium Digital Health AI (com.myhealthchampion.mobile)\n",
      "Getting reviews for Teladoc Health (com.teladoc.members)\n",
      "Getting reviews for Well Digital (co.well.wellapp)\n",
      "Getting reviews for MyChart (epic.mychart.android)\n",
      "Getting reviews for NeuroSphere Digital Health App (com.abbott.nmd.oneapp)\n",
      "Getting reviews for Ada – check your health (com.ada.app)\n",
      "Getting reviews for MDLIVE: Talk to a Doctor 24/7 (com.mdlive.mobile)\n",
      "Getting reviews for Human Health Tracker (health.human.app)\n",
      "Getting reviews for Dr. Digital (care.drdigital.app)\n",
      "Getting reviews for Digital Doctor (health.vivica.digitaldoctor)\n",
      "Total reviews collected: 4723\n"
     ]
    }
   ],
   "source": [
    "def get_reviews(app_id, count=1000, lang='en', country='us'):\n",
    "    \"\"\"Get reviews for a specific app\"\"\"\n",
    "    try:\n",
    "        # Initialize variables for pagination\n",
    "        result = []\n",
    "        continuation_token = None\n",
    "        previous_result_len = 0\n",
    "        \n",
    "        # Paginate through results until we reach the desired count\n",
    "        while len(result) < count:\n",
    "            # Calculate how many reviews to request in this batch\n",
    "            batch_size = min(1000, count - len(result))  # Max 1000 per request\n",
    "            \n",
    "            # Request reviews with timeout\n",
    "            reviews_result, continuation_token = reviews(\n",
    "                app_id,\n",
    "                lang=lang,\n",
    "                country=country,\n",
    "                count=batch_size,\n",
    "                continuation_token=continuation_token\n",
    "            )\n",
    "            \n",
    "            # Append results and check if we need to continue\n",
    "            result.extend(reviews_result)\n",
    "            \n",
    "            # Safety check: if no new reviews were added, break\n",
    "            if len(result) == previous_result_len or continuation_token is None:\n",
    "                break\n",
    "            \n",
    "            previous_result_len = len(result)\n",
    "                \n",
    "        return pd.DataFrame(result)\n",
    "    except Exception as e:\n",
    "        print(f\"Error getting reviews for {app_id}: {str(e)}\")\n",
    "        return pd.DataFrame()\n",
    "\n",
    "# Select top 20 apps by installation count\n",
    "top_apps = apps_df.sort_values('installs', ascending=False).head(20)\n",
    "all_reviews_df = pd.DataFrame()\n",
    "\n",
    "# Get reviews for each app\n",
    "for idx, app_row in tqdm(top_apps.iterrows(), total=len(top_apps)):\n",
    "    app_id = app_row['appId']\n",
    "    app_title = app_row['title']\n",
    "    \n",
    "    print(f\"Getting reviews for {app_title} ({app_id})\")\n",
    "    \n",
    "    # Get reviews for this app (1000 reviews per app for this example)\n",
    "    app_reviews = get_reviews(app_id, 1000)\n",
    "    \n",
    "    if not app_reviews.empty:\n",
    "        # Add app information to each review\n",
    "        app_reviews['app_id'] = app_id\n",
    "        app_reviews['app_title'] = app_title\n",
    "        \n",
    "        # Append to the main dataframe\n",
    "        all_reviews_df = pd.concat([all_reviews_df, app_reviews], ignore_index=True)\n",
    "    \n",
    "    # Delay to avoid hitting API limits\n",
    "    time.sleep(2)\n",
    "\n",
    "print(f\"Total reviews collected: {len(all_reviews_df)}\")"
   ]
  },
  {
   "cell_type": "markdown",
   "metadata": {},
   "source": [
    "Let's examine the structure of the reviews data."
   ]
  },
  {
   "cell_type": "code",
   "execution_count": 19,
   "metadata": {},
   "outputs": [
    {
     "name": "stdout",
     "output_type": "stream",
     "text": [
      "Available columns: ['reviewId', 'userName', 'userImage', 'content', 'score', 'thumbsUpCount', 'reviewCreatedVersion', 'at', 'replyContent', 'repliedAt', 'appVersion', 'app_id', 'app_title']\n",
      "\n",
      "Basic Statistics:\n",
      "Total Reviews: 4723\n",
      "Unique Apps: 15\n",
      "Average Score: 4.22\n"
     ]
    },
    {
     "data": {
      "image/png": "[encoded data removed]",
      "text/plain": [
       "<Figure size 1000x600 with 1 Axes>"
      ]
     },
     "metadata": {},
     "output_type": "display_data"
    }
   ],
   "source": [
    "# Display the first few reviews\n",
    "all_reviews_df.head()\n",
    "\n",
    "# Check available columns\n",
    "print(\"Available columns:\", all_reviews_df.columns.tolist())\n",
    "\n",
    "# Basic statistics\n",
    "print(\"\\nBasic Statistics:\")\n",
    "print(f\"Total Reviews: {len(all_reviews_df)}\")\n",
    "print(f\"Unique Apps: {all_reviews_df['app_title'].nunique()}\")\n",
    "print(f\"Average Score: {all_reviews_df['score'].mean():.2f}\")\n",
    "\n",
    "# Distribution of review scores\n",
    "plt.figure(figsize=(10, 6))\n",
    "sns.countplot(x='score', data=all_reviews_df, palette='viridis')\n",
    "plt.title('Distribution of Review Scores')\n",
    "plt.xlabel('Rating (out of 5)')\n",
    "plt.ylabel('Number of Reviews')\n",
    "plt.grid(True, alpha=0.3)\n",
    "plt.tight_layout()\n",
    "plt.show()"
   ]
  },
  {
   "cell_type": "markdown",
   "metadata": {},
   "source": [
    "## Step 5: Data Preprocessing and Analysis\n",
    "\n",
    "Now, let's preprocess the review data and perform some analysis."
   ]
  },
  {
   "cell_type": "code",
   "execution_count": 20,
   "metadata": {},
   "outputs": [
    {
     "data": {
      "application/vnd.microsoft.datawrangler.viewer.v0+json": {
       "columns": [
        {
         "name": "index",
         "rawType": "int64",
         "type": "integer"
        },
        {
         "name": "reviewId",
         "rawType": "object",
         "type": "string"
        },
        {
         "name": "userName",
         "rawType": "object",
         "type": "string"
        },
        {
         "name": "userImage",
         "rawType": "object",
         "type": "string"
        },
        {
         "name": "content",
         "rawType": "object",
         "type": "string"
        },
        {
         "name": "score",
         "rawType": "int64",
         "type": "integer"
        },
        {
         "name": "thumbsUpCount",
         "rawType": "int64",
         "type": "integer"
        },
        {
         "name": "reviewCreatedVersion",
         "rawType": "object",
         "type": "unknown"
        },
        {
         "name": "at",
         "rawType": "datetime64[ns]",
         "type": "datetime"
        },
        {
         "name": "replyContent",
         "rawType": "object",
         "type": "unknown"
        },
        {
         "name": "repliedAt",
         "rawType": "datetime64[ns]",
         "type": "datetime"
        },
        {
         "name": "appVersion",
         "rawType": "object",
         "type": "unknown"
        },
        {
         "name": "app_id",
         "rawType": "object",
         "type": "string"
        },
        {
         "name": "app_title",
         "rawType": "object",
         "type": "string"
        },
        {
         "name": "year",
         "rawType": "int32",
         "type": "integer"
        },
        {
         "name": "month",
         "rawType": "int32",
         "type": "integer"
        },
        {
         "name": "yearmonth",
         "rawType": "object",
         "type": "string"
        },
        {
         "name": "review_length",
         "rawType": "int64",
         "type": "integer"
        },
        {
         "name": "sentiment",
         "rawType": "object",
         "type": "string"
        }
       ],
       "conversionMethod": "pd.DataFrame",
       "ref": "1d88600a-a245-4738-90b0-87925c3ed476",
       "rows": [
        [
         "0",
         "d9d27d40-472b-4627-9073-fe9b8179e8f5",
         "Teresa Weimer",
         "https://play-lh.googleusercontent.com/a-/ALV-UjV27wY_HLNSfxFUY9JfAfGyP1OEZDUPZYTJBbdFvFaSQEpCUEXN",
         "👍 good",
         "4",
         "0",
         "4.2.1(5)",
         "2025-04-02 15:34:02",
         null,
         null,
         "4.2.1(5)",
         "com.ochsner.digitalmedicine",
         "Digital Medicine",
         "2025",
         "4",
         "2025-04",
         "6",
         "Positive"
        ],
        [
         "1",
         "21086650-4b58-40bc-a4f2-62c1a3a023bc",
         "Josiclyn Ortego",
         "https://play-lh.googleusercontent.com/a/ACg8ocJ1sQITQRtq7RiSImxDOqkRlSGSM7L99zqMkzbf9yuxV84=mo",
         "love it",
         "5",
         "0",
         "4.2.1(5)",
         "2025-03-31 11:19:57",
         null,
         null,
         "4.2.1(5)",
         "com.ochsner.digitalmedicine",
         "Digital Medicine",
         "2025",
         "3",
         "2025-03",
         "7",
         "Positive"
        ],
        [
         "2",
         "cc0b6f1e-7c59-44fe-9ff5-07eb946e8be9",
         "Mary Jenkins",
         "https://play-lh.googleusercontent.com/a/ACg8ocLM6LZj0B8W3NuGG3LgWQlQApWh7zFQlLaAchII9w8Z3Iry5w=mo",
         "Great",
         "5",
         "0",
         "4.1.0(6)",
         "2025-03-12 15:57:13",
         null,
         null,
         "4.1.0(6)",
         "com.ochsner.digitalmedicine",
         "Digital Medicine",
         "2025",
         "3",
         "2025-03",
         "5",
         "Positive"
        ],
        [
         "3",
         "8302a08d-3830-419a-b862-7b8892b3e9b0",
         "John Ware",
         "https://play-lh.googleusercontent.com/a/ACg8ocIMKPpcZFiVyOrdAAXpipAZyGvu3IDJ1qse2udE46eP3M2UUA=mo",
         "Works as expected.",
         "5",
         "0",
         null,
         "2025-03-09 10:44:07",
         null,
         null,
         null,
         "com.ochsner.digitalmedicine",
         "Digital Medicine",
         "2025",
         "3",
         "2025-03",
         "18",
         "Positive"
        ],
        [
         "4",
         "272d3da6-47cd-4435-95a3-d478bff2cb78",
         "Fernandez",
         "https://play-lh.googleusercontent.com/a/ACg8ocIg-d32h1vTDMJeVohizNythVI-8wYyZA2PDEj5K3co6Klp0Q=mo",
         "Very helpful",
         "5",
         "0",
         "4.0.2(1)",
         "2025-02-01 10:37:54",
         null,
         null,
         "4.0.2(1)",
         "com.ochsner.digitalmedicine",
         "Digital Medicine",
         "2025",
         "2",
         "2025-02",
         "12",
         "Positive"
        ]
       ],
       "shape": {
        "columns": 18,
        "rows": 5
       }
      },
      "text/html": [
       "<div>\n",
       "<style scoped>\n",
       "    .dataframe tbody tr th:only-of-type {\n",
       "        vertical-align: middle;\n",
       "    }\n",
       "\n",
       "    .dataframe tbody tr th {\n",
       "        vertical-align: top;\n",
       "    }\n",
       "\n",
       "    .dataframe thead th {\n",
       "        text-align: right;\n",
       "    }\n",
       "</style>\n",
       "<table border=\"1\" class=\"dataframe\">\n",
       "  <thead>\n",
       "    <tr style=\"text-align: right;\">\n",
       "      <th></th>\n",
       "      <th>reviewId</th>\n",
       "      <th>userName</th>\n",
       "      <th>userImage</th>\n",
       "      <th>content</th>\n",
       "      <th>score</th>\n",
       "      <th>thumbsUpCount</th>\n",
       "      <th>reviewCreatedVersion</th>\n",
       "      <th>at</th>\n",
       "      <th>replyContent</th>\n",
       "      <th>repliedAt</th>\n",
       "      <th>appVersion</th>\n",
       "      <th>app_id</th>\n",
       "      <th>app_title</th>\n",
       "      <th>year</th>\n",
       "      <th>month</th>\n",
       "      <th>yearmonth</th>\n",
       "      <th>review_length</th>\n",
       "      <th>sentiment</th>\n",
       "    </tr>\n",
       "  </thead>\n",
       "  <tbody>\n",
       "    <tr>\n",
       "      <th>0</th>\n",
       "      <td>d9d27d40-472b-4627-9073-fe9b8179e8f5</td>\n",
       "      <td>Teresa Weimer</td>\n",
       "      <td>https://play-lh.googleusercontent.com/a-/ALV-U...</td>\n",
       "      <td>👍 good</td>\n",
       "      <td>4</td>\n",
       "      <td>0</td>\n",
       "      <td>4.2.1(5)</td>\n",
       "      <td>2025-04-02 15:34:02</td>\n",
       "      <td>None</td>\n",
       "      <td>NaT</td>\n",
       "      <td>4.2.1(5)</td>\n",
       "      <td>com.ochsner.digitalmedicine</td>\n",
       "      <td>Digital Medicine</td>\n",
       "      <td>2025</td>\n",
       "      <td>4</td>\n",
       "      <td>2025-04</td>\n",
       "      <td>6</td>\n",
       "      <td>Positive</td>\n",
       "    </tr>\n",
       "    <tr>\n",
       "      <th>1</th>\n",
       "      <td>21086650-4b58-40bc-a4f2-62c1a3a023bc</td>\n",
       "      <td>Josiclyn Ortego</td>\n",
       "      <td>https://play-lh.googleusercontent.com/a/ACg8oc...</td>\n",
       "      <td>love it</td>\n",
       "      <td>5</td>\n",
       "      <td>0</td>\n",
       "      <td>4.2.1(5)</td>\n",
       "      <td>2025-03-31 11:19:57</td>\n",
       "      <td>None</td>\n",
       "      <td>NaT</td>\n",
       "      <td>4.2.1(5)</td>\n",
       "      <td>com.ochsner.digitalmedicine</td>\n",
       "      <td>Digital Medicine</td>\n",
       "      <td>2025</td>\n",
       "      <td>3</td>\n",
       "      <td>2025-03</td>\n",
       "      <td>7</td>\n",
       "      <td>Positive</td>\n",
       "    </tr>\n",
       "    <tr>\n",
       "      <th>2</th>\n",
       "      <td>cc0b6f1e-7c59-44fe-9ff5-07eb946e8be9</td>\n",
       "      <td>Mary Jenkins</td>\n",
       "      <td>https://play-lh.googleusercontent.com/a/ACg8oc...</td>\n",
       "      <td>Great</td>\n",
       "      <td>5</td>\n",
       "      <td>0</td>\n",
       "      <td>4.1.0(6)</td>\n",
       "      <td>2025-03-12 15:57:13</td>\n",
       "      <td>None</td>\n",
       "      <td>NaT</td>\n",
       "      <td>4.1.0(6)</td>\n",
       "      <td>com.ochsner.digitalmedicine</td>\n",
       "      <td>Digital Medicine</td>\n",
       "      <td>2025</td>\n",
       "      <td>3</td>\n",
       "      <td>2025-03</td>\n",
       "      <td>5</td>\n",
       "      <td>Positive</td>\n",
       "    </tr>\n",
       "    <tr>\n",
       "      <th>3</th>\n",
       "      <td>8302a08d-3830-419a-b862-7b8892b3e9b0</td>\n",
       "      <td>John Ware</td>\n",
       "      <td>https://play-lh.googleusercontent.com/a/ACg8oc...</td>\n",
       "      <td>Works as expected.</td>\n",
       "      <td>5</td>\n",
       "      <td>0</td>\n",
       "      <td>None</td>\n",
       "      <td>2025-03-09 10:44:07</td>\n",
       "      <td>None</td>\n",
       "      <td>NaT</td>\n",
       "      <td>None</td>\n",
       "      <td>com.ochsner.digitalmedicine</td>\n",
       "      <td>Digital Medicine</td>\n",
       "      <td>2025</td>\n",
       "      <td>3</td>\n",
       "      <td>2025-03</td>\n",
       "      <td>18</td>\n",
       "      <td>Positive</td>\n",
       "    </tr>\n",
       "    <tr>\n",
       "      <th>4</th>\n",
       "      <td>272d3da6-47cd-4435-95a3-d478bff2cb78</td>\n",
       "      <td>Fernandez</td>\n",
       "      <td>https://play-lh.googleusercontent.com/a/ACg8oc...</td>\n",
       "      <td>Very helpful</td>\n",
       "      <td>5</td>\n",
       "      <td>0</td>\n",
       "      <td>4.0.2(1)</td>\n",
       "      <td>2025-02-01 10:37:54</td>\n",
       "      <td>None</td>\n",
       "      <td>NaT</td>\n",
       "      <td>4.0.2(1)</td>\n",
       "      <td>com.ochsner.digitalmedicine</td>\n",
       "      <td>Digital Medicine</td>\n",
       "      <td>2025</td>\n",
       "      <td>2</td>\n",
       "      <td>2025-02</td>\n",
       "      <td>12</td>\n",
       "      <td>Positive</td>\n",
       "    </tr>\n",
       "  </tbody>\n",
       "</table>\n",
       "</div>"
      ],
      "text/plain": [
       "                               reviewId         userName  \\\n",
       "0  d9d27d40-472b-4627-9073-fe9b8179e8f5    Teresa Weimer   \n",
       "1  21086650-4b58-40bc-a4f2-62c1a3a023bc  Josiclyn Ortego   \n",
       "2  cc0b6f1e-7c59-44fe-9ff5-07eb946e8be9     Mary Jenkins   \n",
       "3  8302a08d-3830-419a-b862-7b8892b3e9b0        John Ware   \n",
       "4  272d3da6-47cd-4435-95a3-d478bff2cb78        Fernandez   \n",
       "\n",
       "                                           userImage             content  \\\n",
       "0  https://play-lh.googleusercontent.com/a-/ALV-U...              👍 good   \n",
       "1  https://play-lh.googleusercontent.com/a/ACg8oc...             love it   \n",
       "2  https://play-lh.googleusercontent.com/a/ACg8oc...               Great   \n",
       "3  https://play-lh.googleusercontent.com/a/ACg8oc...  Works as expected.   \n",
       "4  https://play-lh.googleusercontent.com/a/ACg8oc...        Very helpful   \n",
       "\n",
       "   score  thumbsUpCount reviewCreatedVersion                  at replyContent  \\\n",
       "0      4              0             4.2.1(5) 2025-04-02 15:34:02         None   \n",
       "1      5              0             4.2.1(5) 2025-03-31 11:19:57         None   \n",
       "2      5              0             4.1.0(6) 2025-03-12 15:57:13         None   \n",
       "3      5              0                 None 2025-03-09 10:44:07         None   \n",
       "4      5              0             4.0.2(1) 2025-02-01 10:37:54         None   \n",
       "\n",
       "  repliedAt appVersion                       app_id         app_title  year  \\\n",
       "0       NaT   4.2.1(5)  com.ochsner.digitalmedicine  Digital Medicine  2025   \n",
       "1       NaT   4.2.1(5)  com.ochsner.digitalmedicine  Digital Medicine  2025   \n",
       "2       NaT   4.1.0(6)  com.ochsner.digitalmedicine  Digital Medicine  2025   \n",
       "3       NaT       None  com.ochsner.digitalmedicine  Digital Medicine  2025   \n",
       "4       NaT   4.0.2(1)  com.ochsner.digitalmedicine  Digital Medicine  2025   \n",
       "\n",
       "   month yearmonth  review_length sentiment  \n",
       "0      4   2025-04              6  Positive  \n",
       "1      3   2025-03              7  Positive  \n",
       "2      3   2025-03              5  Positive  \n",
       "3      3   2025-03             18  Positive  \n",
       "4      2   2025-02             12  Positive  "
      ]
     },
     "execution_count": 20,
     "metadata": {},
     "output_type": "execute_result"
    }
   ],
   "source": [
    "# Convert review date to datetime\n",
    "all_reviews_df['at'] = pd.to_datetime(all_reviews_df['at'])\n",
    "\n",
    "# Extract year and month for time-based analysis\n",
    "all_reviews_df['year'] = all_reviews_df['at'].dt.year\n",
    "all_reviews_df['month'] = all_reviews_df['at'].dt.month\n",
    "\n",
    "# Create a yearmonth column for easier grouping\n",
    "all_reviews_df['yearmonth'] = all_reviews_df['at'].dt.strftime('%Y-%m')\n",
    "\n",
    "# Calculate review length\n",
    "all_reviews_df['review_length'] = all_reviews_df['content'].fillna('').apply(len)\n",
    "\n",
    "# Function to classify sentiment based on score\n",
    "def classify_sentiment(score):\n",
    "    if score <= 2:\n",
    "        return 'Negative'\n",
    "    elif score == 3:\n",
    "        return 'Neutral'\n",
    "    else:\n",
    "        return 'Positive'\n",
    "\n",
    "all_reviews_df['sentiment'] = all_reviews_df['score'].apply(classify_sentiment)\n",
    "\n",
    "# Display the processed data\n",
    "all_reviews_df.head()"
   ]
  },
  {
   "cell_type": "markdown",
   "metadata": {},
   "source": [
    "## Step 6: Review Analysis by App\n",
    "\n",
    "Let's look at the average ratings and review sentiments for each app."
   ]
  },
  {
   "cell_type": "code",
   "execution_count": 21,
   "metadata": {},
   "outputs": [
    {
     "data": {
      "application/vnd.microsoft.datawrangler.viewer.v0+json": {
       "columns": [
        {
         "name": "index",
         "rawType": "int64",
         "type": "integer"
        },
        {
         "name": "app_title",
         "rawType": "object",
         "type": "string"
        },
        {
         "name": "review_count",
         "rawType": "int64",
         "type": "integer"
        },
        {
         "name": "average_rating",
         "rawType": "float64",
         "type": "float"
        }
       ],
       "conversionMethod": "pd.DataFrame",
       "ref": "45c80056-9571-41b3-993e-5d698b51c602",
       "rows": [
        [
         "0",
         "Ada – check your health",
         "1000",
         "4.511"
        ],
        [
         "9",
         "MDLIVE: Talk to a Doctor 24/7",
         "1000",
         "4.363"
        ],
        [
         "10",
         "MyChart",
         "1000",
         "4.316"
        ],
        [
         "13",
         "Teladoc Health",
         "1000",
         "3.906"
        ],
        [
         "14",
         "Well Digital",
         "240",
         "4.408333333333333"
        ],
        [
         "11",
         "MyHealth-Digital Health Locker",
         "132",
         "4.931818181818182"
        ],
        [
         "8",
         "Human Health Tracker",
         "110",
         "3.6"
        ],
        [
         "1",
         "BodySite Digital Health",
         "83",
         "3.5060240963855422"
        ],
        [
         "2",
         "Calcium Digital Health AI",
         "64",
         "2.828125"
        ],
        [
         "12",
         "NeuroSphere Digital Health App",
         "29",
         "1.9655172413793103"
        ],
        [
         "5",
         "Digital Medicine",
         "27",
         "3.7777777777777777"
        ],
        [
         "7",
         "HealthLy - Digital Health",
         "23",
         "3.4782608695652173"
        ],
        [
         "6",
         "FlexCare Digital Health",
         "9",
         "1.0"
        ],
        [
         "4",
         "Digital Healthcare Solutions",
         "5",
         "2.6"
        ],
        [
         "3",
         "Digital Health & Medication",
         "1",
         "5.0"
        ]
       ],
       "shape": {
        "columns": 3,
        "rows": 15
       }
      },
      "text/html": [
       "<div>\n",
       "<style scoped>\n",
       "    .dataframe tbody tr th:only-of-type {\n",
       "        vertical-align: middle;\n",
       "    }\n",
       "\n",
       "    .dataframe tbody tr th {\n",
       "        vertical-align: top;\n",
       "    }\n",
       "\n",
       "    .dataframe thead th {\n",
       "        text-align: right;\n",
       "    }\n",
       "</style>\n",
       "<table border=\"1\" class=\"dataframe\">\n",
       "  <thead>\n",
       "    <tr style=\"text-align: right;\">\n",
       "      <th></th>\n",
       "      <th>app_title</th>\n",
       "      <th>review_count</th>\n",
       "      <th>average_rating</th>\n",
       "    </tr>\n",
       "  </thead>\n",
       "  <tbody>\n",
       "    <tr>\n",
       "      <th>0</th>\n",
       "      <td>Ada – check your health</td>\n",
       "      <td>1000</td>\n",
       "      <td>4.511000</td>\n",
       "    </tr>\n",
       "    <tr>\n",
       "      <th>9</th>\n",
       "      <td>MDLIVE: Talk to a Doctor 24/7</td>\n",
       "      <td>1000</td>\n",
       "      <td>4.363000</td>\n",
       "    </tr>\n",
       "    <tr>\n",
       "      <th>10</th>\n",
       "      <td>MyChart</td>\n",
       "      <td>1000</td>\n",
       "      <td>4.316000</td>\n",
       "    </tr>\n",
       "    <tr>\n",
       "      <th>13</th>\n",
       "      <td>Teladoc Health</td>\n",
       "      <td>1000</td>\n",
       "      <td>3.906000</td>\n",
       "    </tr>\n",
       "    <tr>\n",
       "      <th>14</th>\n",
       "      <td>Well Digital</td>\n",
       "      <td>240</td>\n",
       "      <td>4.408333</td>\n",
       "    </tr>\n",
       "    <tr>\n",
       "      <th>11</th>\n",
       "      <td>MyHealth-Digital Health Locker</td>\n",
       "      <td>132</td>\n",
       "      <td>4.931818</td>\n",
       "    </tr>\n",
       "    <tr>\n",
       "      <th>8</th>\n",
       "      <td>Human Health Tracker</td>\n",
       "      <td>110</td>\n",
       "      <td>3.600000</td>\n",
       "    </tr>\n",
       "    <tr>\n",
       "      <th>1</th>\n",
       "      <td>BodySite Digital Health</td>\n",
       "      <td>83</td>\n",
       "      <td>3.506024</td>\n",
       "    </tr>\n",
       "    <tr>\n",
       "      <th>2</th>\n",
       "      <td>Calcium Digital Health AI</td>\n",
       "      <td>64</td>\n",
       "      <td>2.828125</td>\n",
       "    </tr>\n",
       "    <tr>\n",
       "      <th>12</th>\n",
       "      <td>NeuroSphere Digital Health App</td>\n",
       "      <td>29</td>\n",
       "      <td>1.965517</td>\n",
       "    </tr>\n",
       "    <tr>\n",
       "      <th>5</th>\n",
       "      <td>Digital Medicine</td>\n",
       "      <td>27</td>\n",
       "      <td>3.777778</td>\n",
       "    </tr>\n",
       "    <tr>\n",
       "      <th>7</th>\n",
       "      <td>HealthLy - Digital Health</td>\n",
       "      <td>23</td>\n",
       "      <td>3.478261</td>\n",
       "    </tr>\n",
       "    <tr>\n",
       "      <th>6</th>\n",
       "      <td>FlexCare Digital Health</td>\n",
       "      <td>9</td>\n",
       "      <td>1.000000</td>\n",
       "    </tr>\n",
       "    <tr>\n",
       "      <th>4</th>\n",
       "      <td>Digital Healthcare Solutions</td>\n",
       "      <td>5</td>\n",
       "      <td>2.600000</td>\n",
       "    </tr>\n",
       "    <tr>\n",
       "      <th>3</th>\n",
       "      <td>Digital Health &amp; Medication</td>\n",
       "      <td>1</td>\n",
       "      <td>5.000000</td>\n",
       "    </tr>\n",
       "  </tbody>\n",
       "</table>\n",
       "</div>"
      ],
      "text/plain": [
       "                         app_title  review_count  average_rating\n",
       "0          Ada – check your health          1000        4.511000\n",
       "9    MDLIVE: Talk to a Doctor 24/7          1000        4.363000\n",
       "10                         MyChart          1000        4.316000\n",
       "13                  Teladoc Health          1000        3.906000\n",
       "14                    Well Digital           240        4.408333\n",
       "11  MyHealth-Digital Health Locker           132        4.931818\n",
       "8             Human Health Tracker           110        3.600000\n",
       "1          BodySite Digital Health            83        3.506024\n",
       "2        Calcium Digital Health AI            64        2.828125\n",
       "12  NeuroSphere Digital Health App            29        1.965517\n",
       "5                 Digital Medicine            27        3.777778\n",
       "7        HealthLy - Digital Health            23        3.478261\n",
       "6          FlexCare Digital Health             9        1.000000\n",
       "4     Digital Healthcare Solutions             5        2.600000\n",
       "3      Digital Health & Medication             1        5.000000"
      ]
     },
     "execution_count": 21,
     "metadata": {},
     "output_type": "execute_result"
    }
   ],
   "source": [
    "# Group by app and calculate average ratings\n",
    "app_ratings = all_reviews_df.groupby('app_title')['score'].agg(['count', 'mean']).reset_index()\n",
    "app_ratings.columns = ['app_title', 'review_count', 'average_rating']\n",
    "app_ratings = app_ratings.sort_values('review_count', ascending=False)\n",
    "\n",
    "# Display app ratings\n",
    "app_ratings"
   ]
  },
  {
   "cell_type": "code",
   "execution_count": 22,
   "metadata": {},
   "outputs": [
    {
     "data": {
      "image/png": "[encoded data removed]",
      "text/plain": [
       "<Figure size 1200x800 with 1 Axes>"
      ]
     },
     "metadata": {},
     "output_type": "display_data"
    },
    {
     "data": {
      "text/plain": [
       "<Figure size 1400x1000 with 0 Axes>"
      ]
     },
     "metadata": {},
     "output_type": "display_data"
    },
    {
     "data": {
      "image/png": "[encoded data removed]",
      "text/plain": [
       "<Figure size 640x480 with 1 Axes>"
      ]
     },
     "metadata": {},
     "output_type": "display_data"
    }
   ],
   "source": [
    "# Visualize app ratings\n",
    "plt.figure(figsize=(12, 8))\n",
    "sns.barplot(y='app_title', x='average_rating', data=app_ratings, palette='viridis')\n",
    "plt.title('Average Rating by App')\n",
    "plt.xlabel('Average Rating (out of 5)')\n",
    "plt.ylabel('App')\n",
    "plt.xlim(0, 5)\n",
    "plt.grid(True, alpha=0.3)\n",
    "plt.tight_layout()\n",
    "plt.show()\n",
    "\n",
    "# Review sentiment distribution by app\n",
    "sentiment_by_app = all_reviews_df.groupby(['app_title', 'sentiment']).size().unstack().fillna(0)\n",
    "sentiment_by_app_pct = sentiment_by_app.div(sentiment_by_app.sum(axis=1), axis=0) * 100\n",
    "\n",
    "# Plot sentiment distribution\n",
    "plt.figure(figsize=(14, 10))\n",
    "sentiment_by_app_pct.plot(kind='barh', stacked=True, \n",
    "                          color=['#ff7f0e', '#1f77b4', '#2ca02c'])\n",
    "plt.title('Sentiment Distribution by App (%)')\n",
    "plt.xlabel('Percentage of Reviews')\n",
    "plt.ylabel('App')\n",
    "plt.grid(True, alpha=0.3)\n",
    "plt.legend(title='Sentiment')\n",
    "plt.tight_layout()\n",
    "plt.show()"
   ]
  },
  {
   "cell_type": "markdown",
   "metadata": {},
   "source": [
    "## Step 7: Review Content Analysis\n",
    "\n",
    "Let's analyze the content of the reviews to identify common themes and keywords."
   ]
  },
  {
   "cell_type": "code",
   "execution_count": 23,
   "metadata": {},
   "outputs": [
    {
     "ename": "LookupError",
     "evalue": "\n**********************************************************************\n  Resource \u001b[93mpunkt_tab\u001b[0m not found.\n  Please use the NLTK Downloader to obtain the resource:\n\n  \u001b[31m>>> import nltk\n  >>> nltk.download('punkt_tab')\n  \u001b[0m\n  For more information see: https://www.nltk.org/data.html\n\n  Attempted to load \u001b[93mtokenizers/punkt_tab/english/\u001b[0m\n\n  Searched in:\n    - '/Users/seanmacbook/nltk_data'\n    - '/Users/seanmacbook/Projects/google_play_store_review_crawl/.venv/nltk_data'\n    - '/Users/seanmacbook/Projects/google_play_store_review_crawl/.venv/share/nltk_data'\n    - '/Users/seanmacbook/Projects/google_play_store_review_crawl/.venv/lib/nltk_data'\n    - '/usr/share/nltk_data'\n    - '/usr/local/share/nltk_data'\n    - '/usr/lib/nltk_data'\n    - '/usr/local/lib/nltk_data'\n**********************************************************************\n",
     "output_type": "error",
     "traceback": [
      "\u001b[31m---------------------------------------------------------------------------\u001b[39m",
      "\u001b[31mLookupError\u001b[39m                               Traceback (most recent call last)",
      "\u001b[36mCell\u001b[39m\u001b[36m \u001b[39m\u001b[32mIn[23]\u001b[39m\u001b[32m, line 18\u001b[39m\n\u001b[32m     15\u001b[39m     \u001b[38;5;28;01mreturn\u001b[39;00m \u001b[33m'\u001b[39m\u001b[33m'\u001b[39m\n\u001b[32m     17\u001b[39m \u001b[38;5;66;03m# Clean review content\u001b[39;00m\n\u001b[32m---> \u001b[39m\u001b[32m18\u001b[39m all_reviews_df[\u001b[33m'\u001b[39m\u001b[33mclean_content\u001b[39m\u001b[33m'\u001b[39m] = \u001b[43mall_reviews_df\u001b[49m\u001b[43m[\u001b[49m\u001b[33;43m'\u001b[39;49m\u001b[33;43mcontent\u001b[39;49m\u001b[33;43m'\u001b[39;49m\u001b[43m]\u001b[49m\u001b[43m.\u001b[49m\u001b[43mfillna\u001b[49m\u001b[43m(\u001b[49m\u001b[33;43m'\u001b[39;49m\u001b[33;43m'\u001b[39;49m\u001b[43m)\u001b[49m\u001b[43m.\u001b[49m\u001b[43mapply\u001b[49m\u001b[43m(\u001b[49m\u001b[43mclean_text\u001b[49m\u001b[43m)\u001b[49m\n\u001b[32m     20\u001b[39m \u001b[38;5;66;03m# Function to create wordcloud\u001b[39;00m\n\u001b[32m     21\u001b[39m \u001b[38;5;28;01mdef\u001b[39;00m\u001b[38;5;250m \u001b[39m\u001b[34mcreate_wordcloud\u001b[39m(text_series, title):\n\u001b[32m     22\u001b[39m     \u001b[38;5;66;03m# Combine all text\u001b[39;00m\n",
      "\u001b[36mFile \u001b[39m\u001b[32m~/Projects/google_play_store_review_crawl/.venv/lib/python3.11/site-packages/pandas/core/series.py:4924\u001b[39m, in \u001b[36mSeries.apply\u001b[39m\u001b[34m(self, func, convert_dtype, args, by_row, **kwargs)\u001b[39m\n\u001b[32m   4789\u001b[39m \u001b[38;5;28;01mdef\u001b[39;00m\u001b[38;5;250m \u001b[39m\u001b[34mapply\u001b[39m(\n\u001b[32m   4790\u001b[39m     \u001b[38;5;28mself\u001b[39m,\n\u001b[32m   4791\u001b[39m     func: AggFuncType,\n\u001b[32m   (...)\u001b[39m\u001b[32m   4796\u001b[39m     **kwargs,\n\u001b[32m   4797\u001b[39m ) -> DataFrame | Series:\n\u001b[32m   4798\u001b[39m \u001b[38;5;250m    \u001b[39m\u001b[33;03m\"\"\"\u001b[39;00m\n\u001b[32m   4799\u001b[39m \u001b[33;03m    Invoke function on values of Series.\u001b[39;00m\n\u001b[32m   4800\u001b[39m \n\u001b[32m   (...)\u001b[39m\u001b[32m   4915\u001b[39m \u001b[33;03m    dtype: float64\u001b[39;00m\n\u001b[32m   4916\u001b[39m \u001b[33;03m    \"\"\"\u001b[39;00m\n\u001b[32m   4917\u001b[39m     \u001b[38;5;28;01mreturn\u001b[39;00m \u001b[43mSeriesApply\u001b[49m\u001b[43m(\u001b[49m\n\u001b[32m   4918\u001b[39m \u001b[43m        \u001b[49m\u001b[38;5;28;43mself\u001b[39;49m\u001b[43m,\u001b[49m\n\u001b[32m   4919\u001b[39m \u001b[43m        \u001b[49m\u001b[43mfunc\u001b[49m\u001b[43m,\u001b[49m\n\u001b[32m   4920\u001b[39m \u001b[43m        \u001b[49m\u001b[43mconvert_dtype\u001b[49m\u001b[43m=\u001b[49m\u001b[43mconvert_dtype\u001b[49m\u001b[43m,\u001b[49m\n\u001b[32m   4921\u001b[39m \u001b[43m        \u001b[49m\u001b[43mby_row\u001b[49m\u001b[43m=\u001b[49m\u001b[43mby_row\u001b[49m\u001b[43m,\u001b[49m\n\u001b[32m   4922\u001b[39m \u001b[43m        \u001b[49m\u001b[43margs\u001b[49m\u001b[43m=\u001b[49m\u001b[43margs\u001b[49m\u001b[43m,\u001b[49m\n\u001b[32m   4923\u001b[39m \u001b[43m        \u001b[49m\u001b[43mkwargs\u001b[49m\u001b[43m=\u001b[49m\u001b[43mkwargs\u001b[49m\u001b[43m,\u001b[49m\n\u001b[32m-> \u001b[39m\u001b[32m4924\u001b[39m \u001b[43m    \u001b[49m\u001b[43m)\u001b[49m\u001b[43m.\u001b[49m\u001b[43mapply\u001b[49m\u001b[43m(\u001b[49m\u001b[43m)\u001b[49m\n",
      "\u001b[36mFile \u001b[39m\u001b[32m~/Projects/google_play_store_review_crawl/.venv/lib/python3.11/site-packages/pandas/core/apply.py:1427\u001b[39m, in \u001b[36mSeriesApply.apply\u001b[39m\u001b[34m(self)\u001b[39m\n\u001b[32m   1424\u001b[39m     \u001b[38;5;28;01mreturn\u001b[39;00m \u001b[38;5;28mself\u001b[39m.apply_compat()\n\u001b[32m   1426\u001b[39m \u001b[38;5;66;03m# self.func is Callable\u001b[39;00m\n\u001b[32m-> \u001b[39m\u001b[32m1427\u001b[39m \u001b[38;5;28;01mreturn\u001b[39;00m \u001b[38;5;28;43mself\u001b[39;49m\u001b[43m.\u001b[49m\u001b[43mapply_standard\u001b[49m\u001b[43m(\u001b[49m\u001b[43m)\u001b[49m\n",
      "\u001b[36mFile \u001b[39m\u001b[32m~/Projects/google_play_store_review_crawl/.venv/lib/python3.11/site-packages/pandas/core/apply.py:1507\u001b[39m, in \u001b[36mSeriesApply.apply_standard\u001b[39m\u001b[34m(self)\u001b[39m\n\u001b[32m   1501\u001b[39m \u001b[38;5;66;03m# row-wise access\u001b[39;00m\n\u001b[32m   1502\u001b[39m \u001b[38;5;66;03m# apply doesn't have a `na_action` keyword and for backward compat reasons\u001b[39;00m\n\u001b[32m   1503\u001b[39m \u001b[38;5;66;03m# we need to give `na_action=\"ignore\"` for categorical data.\u001b[39;00m\n\u001b[32m   1504\u001b[39m \u001b[38;5;66;03m# TODO: remove the `na_action=\"ignore\"` when that default has been changed in\u001b[39;00m\n\u001b[32m   1505\u001b[39m \u001b[38;5;66;03m#  Categorical (GH51645).\u001b[39;00m\n\u001b[32m   1506\u001b[39m action = \u001b[33m\"\u001b[39m\u001b[33mignore\u001b[39m\u001b[33m\"\u001b[39m \u001b[38;5;28;01mif\u001b[39;00m \u001b[38;5;28misinstance\u001b[39m(obj.dtype, CategoricalDtype) \u001b[38;5;28;01melse\u001b[39;00m \u001b[38;5;28;01mNone\u001b[39;00m\n\u001b[32m-> \u001b[39m\u001b[32m1507\u001b[39m mapped = \u001b[43mobj\u001b[49m\u001b[43m.\u001b[49m\u001b[43m_map_values\u001b[49m\u001b[43m(\u001b[49m\n\u001b[32m   1508\u001b[39m \u001b[43m    \u001b[49m\u001b[43mmapper\u001b[49m\u001b[43m=\u001b[49m\u001b[43mcurried\u001b[49m\u001b[43m,\u001b[49m\u001b[43m \u001b[49m\u001b[43mna_action\u001b[49m\u001b[43m=\u001b[49m\u001b[43maction\u001b[49m\u001b[43m,\u001b[49m\u001b[43m \u001b[49m\u001b[43mconvert\u001b[49m\u001b[43m=\u001b[49m\u001b[38;5;28;43mself\u001b[39;49m\u001b[43m.\u001b[49m\u001b[43mconvert_dtype\u001b[49m\n\u001b[32m   1509\u001b[39m \u001b[43m\u001b[49m\u001b[43m)\u001b[49m\n\u001b[32m   1511\u001b[39m \u001b[38;5;28;01mif\u001b[39;00m \u001b[38;5;28mlen\u001b[39m(mapped) \u001b[38;5;129;01mand\u001b[39;00m \u001b[38;5;28misinstance\u001b[39m(mapped[\u001b[32m0\u001b[39m], ABCSeries):\n\u001b[32m   1512\u001b[39m     \u001b[38;5;66;03m# GH#43986 Need to do list(mapped) in order to get treated as nested\u001b[39;00m\n\u001b[32m   1513\u001b[39m     \u001b[38;5;66;03m#  See also GH#25959 regarding EA support\u001b[39;00m\n\u001b[32m   1514\u001b[39m     \u001b[38;5;28;01mreturn\u001b[39;00m obj._constructor_expanddim(\u001b[38;5;28mlist\u001b[39m(mapped), index=obj.index)\n",
      "\u001b[36mFile \u001b[39m\u001b[32m~/Projects/google_play_store_review_crawl/.venv/lib/python3.11/site-packages/pandas/core/base.py:921\u001b[39m, in \u001b[36mIndexOpsMixin._map_values\u001b[39m\u001b[34m(self, mapper, na_action, convert)\u001b[39m\n\u001b[32m    918\u001b[39m \u001b[38;5;28;01mif\u001b[39;00m \u001b[38;5;28misinstance\u001b[39m(arr, ExtensionArray):\n\u001b[32m    919\u001b[39m     \u001b[38;5;28;01mreturn\u001b[39;00m arr.map(mapper, na_action=na_action)\n\u001b[32m--> \u001b[39m\u001b[32m921\u001b[39m \u001b[38;5;28;01mreturn\u001b[39;00m \u001b[43malgorithms\u001b[49m\u001b[43m.\u001b[49m\u001b[43mmap_array\u001b[49m\u001b[43m(\u001b[49m\u001b[43marr\u001b[49m\u001b[43m,\u001b[49m\u001b[43m \u001b[49m\u001b[43mmapper\u001b[49m\u001b[43m,\u001b[49m\u001b[43m \u001b[49m\u001b[43mna_action\u001b[49m\u001b[43m=\u001b[49m\u001b[43mna_action\u001b[49m\u001b[43m,\u001b[49m\u001b[43m \u001b[49m\u001b[43mconvert\u001b[49m\u001b[43m=\u001b[49m\u001b[43mconvert\u001b[49m\u001b[43m)\u001b[49m\n",
      "\u001b[36mFile \u001b[39m\u001b[32m~/Projects/google_play_store_review_crawl/.venv/lib/python3.11/site-packages/pandas/core/algorithms.py:1743\u001b[39m, in \u001b[36mmap_array\u001b[39m\u001b[34m(arr, mapper, na_action, convert)\u001b[39m\n\u001b[32m   1741\u001b[39m values = arr.astype(\u001b[38;5;28mobject\u001b[39m, copy=\u001b[38;5;28;01mFalse\u001b[39;00m)\n\u001b[32m   1742\u001b[39m \u001b[38;5;28;01mif\u001b[39;00m na_action \u001b[38;5;129;01mis\u001b[39;00m \u001b[38;5;28;01mNone\u001b[39;00m:\n\u001b[32m-> \u001b[39m\u001b[32m1743\u001b[39m     \u001b[38;5;28;01mreturn\u001b[39;00m \u001b[43mlib\u001b[49m\u001b[43m.\u001b[49m\u001b[43mmap_infer\u001b[49m\u001b[43m(\u001b[49m\u001b[43mvalues\u001b[49m\u001b[43m,\u001b[49m\u001b[43m \u001b[49m\u001b[43mmapper\u001b[49m\u001b[43m,\u001b[49m\u001b[43m \u001b[49m\u001b[43mconvert\u001b[49m\u001b[43m=\u001b[49m\u001b[43mconvert\u001b[49m\u001b[43m)\u001b[49m\n\u001b[32m   1744\u001b[39m \u001b[38;5;28;01melse\u001b[39;00m:\n\u001b[32m   1745\u001b[39m     \u001b[38;5;28;01mreturn\u001b[39;00m lib.map_infer_mask(\n\u001b[32m   1746\u001b[39m         values, mapper, mask=isna(values).view(np.uint8), convert=convert\n\u001b[32m   1747\u001b[39m     )\n",
      "\u001b[36mFile \u001b[39m\u001b[32mlib.pyx:2972\u001b[39m, in \u001b[36mpandas._libs.lib.map_infer\u001b[39m\u001b[34m()\u001b[39m\n",
      "\u001b[36mCell\u001b[39m\u001b[36m \u001b[39m\u001b[32mIn[23]\u001b[39m\u001b[32m, line 10\u001b[39m, in \u001b[36mclean_text\u001b[39m\u001b[34m(text)\u001b[39m\n\u001b[32m      8\u001b[39m text = re.sub(\u001b[33mr\u001b[39m\u001b[33m'\u001b[39m\u001b[33m\\\u001b[39m\u001b[33md+\u001b[39m\u001b[33m'\u001b[39m, \u001b[33m'\u001b[39m\u001b[33m'\u001b[39m, text)\n\u001b[32m      9\u001b[39m \u001b[38;5;66;03m# Tokenize\u001b[39;00m\n\u001b[32m---> \u001b[39m\u001b[32m10\u001b[39m tokens = \u001b[43mword_tokenize\u001b[49m\u001b[43m(\u001b[49m\u001b[43mtext\u001b[49m\u001b[43m)\u001b[49m\n\u001b[32m     11\u001b[39m \u001b[38;5;66;03m# Remove stopwords\u001b[39;00m\n\u001b[32m     12\u001b[39m stop_words = \u001b[38;5;28mset\u001b[39m(stopwords.words(\u001b[33m'\u001b[39m\u001b[33menglish\u001b[39m\u001b[33m'\u001b[39m))\n",
      "\u001b[36mFile \u001b[39m\u001b[32m~/Projects/google_play_store_review_crawl/.venv/lib/python3.11/site-packages/nltk/tokenize/__init__.py:142\u001b[39m, in \u001b[36mword_tokenize\u001b[39m\u001b[34m(text, language, preserve_line)\u001b[39m\n\u001b[32m    127\u001b[39m \u001b[38;5;28;01mdef\u001b[39;00m\u001b[38;5;250m \u001b[39m\u001b[34mword_tokenize\u001b[39m(text, language=\u001b[33m\"\u001b[39m\u001b[33menglish\u001b[39m\u001b[33m\"\u001b[39m, preserve_line=\u001b[38;5;28;01mFalse\u001b[39;00m):\n\u001b[32m    128\u001b[39m \u001b[38;5;250m    \u001b[39m\u001b[33;03m\"\"\"\u001b[39;00m\n\u001b[32m    129\u001b[39m \u001b[33;03m    Return a tokenized copy of *text*,\u001b[39;00m\n\u001b[32m    130\u001b[39m \u001b[33;03m    using NLTK's recommended word tokenizer\u001b[39;00m\n\u001b[32m   (...)\u001b[39m\u001b[32m    140\u001b[39m \u001b[33;03m    :type preserve_line: bool\u001b[39;00m\n\u001b[32m    141\u001b[39m \u001b[33;03m    \"\"\"\u001b[39;00m\n\u001b[32m--> \u001b[39m\u001b[32m142\u001b[39m     sentences = [text] \u001b[38;5;28;01mif\u001b[39;00m preserve_line \u001b[38;5;28;01melse\u001b[39;00m \u001b[43msent_tokenize\u001b[49m\u001b[43m(\u001b[49m\u001b[43mtext\u001b[49m\u001b[43m,\u001b[49m\u001b[43m \u001b[49m\u001b[43mlanguage\u001b[49m\u001b[43m)\u001b[49m\n\u001b[32m    143\u001b[39m     \u001b[38;5;28;01mreturn\u001b[39;00m [\n\u001b[32m    144\u001b[39m         token \u001b[38;5;28;01mfor\u001b[39;00m sent \u001b[38;5;129;01min\u001b[39;00m sentences \u001b[38;5;28;01mfor\u001b[39;00m token \u001b[38;5;129;01min\u001b[39;00m _treebank_word_tokenizer.tokenize(sent)\n\u001b[32m    145\u001b[39m     ]\n",
      "\u001b[36mFile \u001b[39m\u001b[32m~/Projects/google_play_store_review_crawl/.venv/lib/python3.11/site-packages/nltk/tokenize/__init__.py:119\u001b[39m, in \u001b[36msent_tokenize\u001b[39m\u001b[34m(text, language)\u001b[39m\n\u001b[32m    109\u001b[39m \u001b[38;5;28;01mdef\u001b[39;00m\u001b[38;5;250m \u001b[39m\u001b[34msent_tokenize\u001b[39m(text, language=\u001b[33m\"\u001b[39m\u001b[33menglish\u001b[39m\u001b[33m\"\u001b[39m):\n\u001b[32m    110\u001b[39m \u001b[38;5;250m    \u001b[39m\u001b[33;03m\"\"\"\u001b[39;00m\n\u001b[32m    111\u001b[39m \u001b[33;03m    Return a sentence-tokenized copy of *text*,\u001b[39;00m\n\u001b[32m    112\u001b[39m \u001b[33;03m    using NLTK's recommended sentence tokenizer\u001b[39;00m\n\u001b[32m   (...)\u001b[39m\u001b[32m    117\u001b[39m \u001b[33;03m    :param language: the model name in the Punkt corpus\u001b[39;00m\n\u001b[32m    118\u001b[39m \u001b[33;03m    \"\"\"\u001b[39;00m\n\u001b[32m--> \u001b[39m\u001b[32m119\u001b[39m     tokenizer = \u001b[43m_get_punkt_tokenizer\u001b[49m\u001b[43m(\u001b[49m\u001b[43mlanguage\u001b[49m\u001b[43m)\u001b[49m\n\u001b[32m    120\u001b[39m     \u001b[38;5;28;01mreturn\u001b[39;00m tokenizer.tokenize(text)\n",
      "\u001b[36mFile \u001b[39m\u001b[32m~/Projects/google_play_store_review_crawl/.venv/lib/python3.11/site-packages/nltk/tokenize/__init__.py:105\u001b[39m, in \u001b[36m_get_punkt_tokenizer\u001b[39m\u001b[34m(language)\u001b[39m\n\u001b[32m     96\u001b[39m \u001b[38;5;129m@functools\u001b[39m.lru_cache\n\u001b[32m     97\u001b[39m \u001b[38;5;28;01mdef\u001b[39;00m\u001b[38;5;250m \u001b[39m\u001b[34m_get_punkt_tokenizer\u001b[39m(language=\u001b[33m\"\u001b[39m\u001b[33menglish\u001b[39m\u001b[33m\"\u001b[39m):\n\u001b[32m     98\u001b[39m \u001b[38;5;250m    \u001b[39m\u001b[33;03m\"\"\"\u001b[39;00m\n\u001b[32m     99\u001b[39m \u001b[33;03m    A constructor for the PunktTokenizer that utilizes\u001b[39;00m\n\u001b[32m    100\u001b[39m \u001b[33;03m    a lru cache for performance.\u001b[39;00m\n\u001b[32m   (...)\u001b[39m\u001b[32m    103\u001b[39m \u001b[33;03m    :type language: str\u001b[39;00m\n\u001b[32m    104\u001b[39m \u001b[33;03m    \"\"\"\u001b[39;00m\n\u001b[32m--> \u001b[39m\u001b[32m105\u001b[39m     \u001b[38;5;28;01mreturn\u001b[39;00m \u001b[43mPunktTokenizer\u001b[49m\u001b[43m(\u001b[49m\u001b[43mlanguage\u001b[49m\u001b[43m)\u001b[49m\n",
      "\u001b[36mFile \u001b[39m\u001b[32m~/Projects/google_play_store_review_crawl/.venv/lib/python3.11/site-packages/nltk/tokenize/punkt.py:1744\u001b[39m, in \u001b[36mPunktTokenizer.__init__\u001b[39m\u001b[34m(self, lang)\u001b[39m\n\u001b[32m   1742\u001b[39m \u001b[38;5;28;01mdef\u001b[39;00m\u001b[38;5;250m \u001b[39m\u001b[34m__init__\u001b[39m(\u001b[38;5;28mself\u001b[39m, lang=\u001b[33m\"\u001b[39m\u001b[33menglish\u001b[39m\u001b[33m\"\u001b[39m):\n\u001b[32m   1743\u001b[39m     PunktSentenceTokenizer.\u001b[34m__init__\u001b[39m(\u001b[38;5;28mself\u001b[39m)\n\u001b[32m-> \u001b[39m\u001b[32m1744\u001b[39m     \u001b[38;5;28;43mself\u001b[39;49m\u001b[43m.\u001b[49m\u001b[43mload_lang\u001b[49m\u001b[43m(\u001b[49m\u001b[43mlang\u001b[49m\u001b[43m)\u001b[49m\n",
      "\u001b[36mFile \u001b[39m\u001b[32m~/Projects/google_play_store_review_crawl/.venv/lib/python3.11/site-packages/nltk/tokenize/punkt.py:1749\u001b[39m, in \u001b[36mPunktTokenizer.load_lang\u001b[39m\u001b[34m(self, lang)\u001b[39m\n\u001b[32m   1746\u001b[39m \u001b[38;5;28;01mdef\u001b[39;00m\u001b[38;5;250m \u001b[39m\u001b[34mload_lang\u001b[39m(\u001b[38;5;28mself\u001b[39m, lang=\u001b[33m\"\u001b[39m\u001b[33menglish\u001b[39m\u001b[33m\"\u001b[39m):\n\u001b[32m   1747\u001b[39m     \u001b[38;5;28;01mfrom\u001b[39;00m\u001b[38;5;250m \u001b[39m\u001b[34;01mnltk\u001b[39;00m\u001b[34;01m.\u001b[39;00m\u001b[34;01mdata\u001b[39;00m\u001b[38;5;250m \u001b[39m\u001b[38;5;28;01mimport\u001b[39;00m find\n\u001b[32m-> \u001b[39m\u001b[32m1749\u001b[39m     lang_dir = \u001b[43mfind\u001b[49m\u001b[43m(\u001b[49m\u001b[33;43mf\u001b[39;49m\u001b[33;43m\"\u001b[39;49m\u001b[33;43mtokenizers/punkt_tab/\u001b[39;49m\u001b[38;5;132;43;01m{\u001b[39;49;00m\u001b[43mlang\u001b[49m\u001b[38;5;132;43;01m}\u001b[39;49;00m\u001b[33;43m/\u001b[39;49m\u001b[33;43m\"\u001b[39;49m\u001b[43m)\u001b[49m\n\u001b[32m   1750\u001b[39m     \u001b[38;5;28mself\u001b[39m._params = load_punkt_params(lang_dir)\n\u001b[32m   1751\u001b[39m     \u001b[38;5;28mself\u001b[39m._lang = lang\n",
      "\u001b[36mFile \u001b[39m\u001b[32m~/Projects/google_play_store_review_crawl/.venv/lib/python3.11/site-packages/nltk/data.py:579\u001b[39m, in \u001b[36mfind\u001b[39m\u001b[34m(resource_name, paths)\u001b[39m\n\u001b[32m    577\u001b[39m sep = \u001b[33m\"\u001b[39m\u001b[33m*\u001b[39m\u001b[33m\"\u001b[39m * \u001b[32m70\u001b[39m\n\u001b[32m    578\u001b[39m resource_not_found = \u001b[33mf\u001b[39m\u001b[33m\"\u001b[39m\u001b[38;5;130;01m\\n\u001b[39;00m\u001b[38;5;132;01m{\u001b[39;00msep\u001b[38;5;132;01m}\u001b[39;00m\u001b[38;5;130;01m\\n\u001b[39;00m\u001b[38;5;132;01m{\u001b[39;00mmsg\u001b[38;5;132;01m}\u001b[39;00m\u001b[38;5;130;01m\\n\u001b[39;00m\u001b[38;5;132;01m{\u001b[39;00msep\u001b[38;5;132;01m}\u001b[39;00m\u001b[38;5;130;01m\\n\u001b[39;00m\u001b[33m\"\u001b[39m\n\u001b[32m--> \u001b[39m\u001b[32m579\u001b[39m \u001b[38;5;28;01mraise\u001b[39;00m \u001b[38;5;167;01mLookupError\u001b[39;00m(resource_not_found)\n",
      "\u001b[31mLookupError\u001b[39m: \n**********************************************************************\n  Resource \u001b[93mpunkt_tab\u001b[0m not found.\n  Please use the NLTK Downloader to obtain the resource:\n\n  \u001b[31m>>> import nltk\n  >>> nltk.download('punkt_tab')\n  \u001b[0m\n  For more information see: https://www.nltk.org/data.html\n\n  Attempted to load \u001b[93mtokenizers/punkt_tab/english/\u001b[0m\n\n  Searched in:\n    - '/Users/seanmacbook/nltk_data'\n    - '/Users/seanmacbook/Projects/google_play_store_review_crawl/.venv/nltk_data'\n    - '/Users/seanmacbook/Projects/google_play_store_review_crawl/.venv/share/nltk_data'\n    - '/Users/seanmacbook/Projects/google_play_store_review_crawl/.venv/lib/nltk_data'\n    - '/usr/share/nltk_data'\n    - '/usr/local/share/nltk_data'\n    - '/usr/lib/nltk_data'\n    - '/usr/local/lib/nltk_data'\n**********************************************************************\n"
     ]
    }
   ],
   "source": [
    "# Function to clean text data\n",
    "def clean_text(text):\n",
    "    if isinstance(text, str):\n",
    "        # Convert to lowercase\n",
    "        text = text.lower()\n",
    "        # Remove special characters and digits\n",
    "        text = re.sub(r'[^\\w\\s]', '', text)\n",
    "        text = re.sub(r'\\d+', '', text)\n",
    "        # Tokenize\n",
    "        tokens = word_tokenize(text)\n",
    "        # Remove stopwords\n",
    "        stop_words = set(stopwords.words('english'))\n",
    "        tokens = [word for word in tokens if word not in stop_words and len(word) > 2]\n",
    "        return ' '.join(tokens)\n",
    "    return ''\n",
    "\n",
    "# Clean review content\n",
    "all_reviews_df['clean_content'] = all_reviews_df['content'].fillna('').apply(clean_text)\n",
    "\n",
    "# Function to create wordcloud\n",
    "def create_wordcloud(text_series, title):\n",
    "    # Combine all text\n",
    "    text = ' '.join(text_series.tolist())\n",
    "    \n",
    "    # Create and generate a word cloud image\n",
    "    wordcloud = WordCloud(width=800, height=400, background_color='white', \n",
    "                         max_words=100, contour_width=3, contour_color='steelblue')\n",
    "    wordcloud.generate(text)\n",
    "    \n",
    "    # Display the word cloud\n",
    "    plt.figure(figsize=(16, 8))\n",
    "    plt.imshow(wordcloud, interpolation='bilinear')\n",
    "    plt.axis('off')\n",
    "    plt.title(title, fontsize=20)\n",
    "    plt.tight_layout()\n",
    "    plt.show()"
   ]
  },
  {
   "cell_type": "code",
   "execution_count": 24,
   "metadata": {},
   "outputs": [
    {
     "ename": "NameError",
     "evalue": "name 'create_wordcloud' is not defined",
     "output_type": "error",
     "traceback": [
      "\u001b[31m---------------------------------------------------------------------------\u001b[39m",
      "\u001b[31mNameError\u001b[39m                                 Traceback (most recent call last)",
      "\u001b[36mCell\u001b[39m\u001b[36m \u001b[39m\u001b[32mIn[24]\u001b[39m\u001b[32m, line 5\u001b[39m\n\u001b[32m      3\u001b[39m sentiment_reviews = all_reviews_df[all_reviews_df[\u001b[33m'\u001b[39m\u001b[33msentiment\u001b[39m\u001b[33m'\u001b[39m] == sentiment]\n\u001b[32m      4\u001b[39m \u001b[38;5;28;01mif\u001b[39;00m \u001b[38;5;129;01mnot\u001b[39;00m sentiment_reviews.empty:\n\u001b[32m----> \u001b[39m\u001b[32m5\u001b[39m     \u001b[43mcreate_wordcloud\u001b[49m(sentiment_reviews[\u001b[33m'\u001b[39m\u001b[33mclean_content\u001b[39m\u001b[33m'\u001b[39m], \u001b[33mf\u001b[39m\u001b[33m'\u001b[39m\u001b[38;5;132;01m{\u001b[39;00msentiment\u001b[38;5;132;01m}\u001b[39;00m\u001b[33m Review Keywords\u001b[39m\u001b[33m'\u001b[39m)\n",
      "\u001b[31mNameError\u001b[39m: name 'create_wordcloud' is not defined"
     ]
    }
   ],
   "source": [
    "# Create wordclouds by sentiment\n",
    "for sentiment in ['Positive', 'Neutral', 'Negative']:\n",
    "    sentiment_reviews = all_reviews_df[all_reviews_df['sentiment'] == sentiment]\n",
    "    if not sentiment_reviews.empty:\n",
    "        create_wordcloud(sentiment_reviews['clean_content'], f'{sentiment} Review Keywords')"
   ]
  },
  {
   "cell_type": "markdown",
   "metadata": {},
   "source": [
    "## Step 8: Temporal Analysis\n",
    "\n",
    "Let's analyze how reviews and ratings change over time."
   ]
  },
  {
   "cell_type": "code",
   "execution_count": 25,
   "metadata": {},
   "outputs": [
    {
     "data": {
      "image/png": "[encoded data removed]",
      "text/plain": [
       "<Figure size 1400x1000 with 2 Axes>"
      ]
     },
     "metadata": {},
     "output_type": "display_data"
    }
   ],
   "source": [
    "# Group by year and month\n",
    "time_analysis = all_reviews_df.groupby('yearmonth').agg({\n",
    "    'score': ['count', 'mean'],\n",
    "    'review_length': 'mean'\n",
    "}).reset_index()\n",
    "\n",
    "time_analysis.columns = ['yearmonth', 'review_count', 'average_rating', 'average_length']\n",
    "time_analysis = time_analysis.sort_values('yearmonth')\n",
    "\n",
    "# Plot temporal trends\n",
    "fig, (ax1, ax2) = plt.subplots(2, 1, figsize=(14, 10), sharex=True)\n",
    "\n",
    "# Review count over time\n",
    "ax1.bar(time_analysis['yearmonth'], time_analysis['review_count'], color='skyblue')\n",
    "ax1.set_title('Review Count Over Time')\n",
    "ax1.set_ylabel('Number of Reviews')\n",
    "ax1.grid(True, alpha=0.3)\n",
    "\n",
    "# Average rating over time\n",
    "ax2.plot(time_analysis['yearmonth'], time_analysis['average_rating'], marker='o', linestyle='-', color='orange')\n",
    "ax2.set_title('Average Rating Over Time')\n",
    "ax2.set_ylabel('Average Rating')\n",
    "ax2.set_ylim(0, 5)\n",
    "ax2.grid(True, alpha=0.3)\n",
    "plt.xticks(rotation=90)\n",
    "plt.tight_layout()\n",
    "plt.show()"
   ]
  },
  {
   "cell_type": "markdown",
   "metadata": {},
   "source": [
    "## Step 9: Export the Data\n",
    "\n",
    "Finally, let's export our datasets for future use."
   ]
  },
  {
   "cell_type": "code",
   "execution_count": null,
   "metadata": {},
   "outputs": [
    {
     "name": "stdout",
     "output_type": "stream",
     "text": [
      "Data exported successfully!\n"
     ]
    }
   ],
   "source": [
    "# Export app list\n",
    "apps_df.to_csv('./data/interim/google_play_digital_health_apps.csv', index=False)\n",
    "\n",
    "# Export all reviews\n",
    "all_reviews_df.to_csv('./data/interim/google_play_digital_health_apps_reviews.csv', index=False)\n",
    "\n",
    "print(\"Data exported successfully!\")"
   ]
  },
  {
   "cell_type": "markdown",
   "metadata": {},
   "source": [
    "## Step 10: Conclusion and Next Steps\n",
    "\n",
    "In this notebook, we successfully:\n",
    "1. Searched for digital health apps on the Google Play Store\n",
    "2. Collected basic information about these apps\n",
    "3. Retrieved detailed data for top apps by installation count\n",
    "4. Scraped reviews for the top 20 apps\n",
    "5. Analyzed review scores, sentiments, and content\n",
    "6. Performed temporal analysis of reviews\n",
    "7. Exported the data for future analysis\n",
    "\n",
    "### Potential Next Steps\n",
    "\n",
    "- Implement more advanced natural language processing techniques for sentiment analysis\n",
    "- Cluster apps by features mentioned in descriptions\n",
    "- Compare competitors in specific categories\n",
    "- Build predictive models for app success factors\n",
    "- Create interactive dashboards for ongoing monitoring\n",
    "- Analyze update frequency and its impact on ratings"
   ]
  },
  {
   "cell_type": "markdown",
   "metadata": {},
   "source": []
  },
  {
   "cell_type": "markdown",
   "metadata": {},
   "source": []
  },
  {
   "cell_type": "markdown",
   "metadata": {},
   "source": []
  }
 ],
 "metadata": {
  "kernelspec": {
   "display_name": ".venv",
   "language": "python",
   "name": "python3"
  },
  "language_info": {
   "codemirror_mode": {
    "name": "ipython",
    "version": 3
   },
   "file_extension": ".py",
   "mimetype": "text/x-python",
   "name": "python",
   "nbconvert_exporter": "python",
   "pygments_lexer": "ipython3",
   "version": "3.11.10"
  }
 },
 "nbformat": 4,
 "nbformat_minor": 4
}
